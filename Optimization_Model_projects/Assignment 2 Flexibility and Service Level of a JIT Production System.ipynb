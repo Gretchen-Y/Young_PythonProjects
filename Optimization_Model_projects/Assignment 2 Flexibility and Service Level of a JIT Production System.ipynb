{
 "cells": [
  {
   "cell_type": "markdown",
   "metadata": {},
   "source": [
    "# Assignment 2: Flexibility and Service Level of a JIT Production System\n",
    "Yang Zhang 1726414"
   ]
  },
  {
   "cell_type": "markdown",
   "metadata": {},
   "source": [
    "Task 1 : "
   ]
  },
  {
   "cell_type": "markdown",
   "metadata": {},
   "source": [
    "1.import all needed packages"
   ]
  },
  {
   "cell_type": "code",
   "execution_count": 1,
   "metadata": {},
   "outputs": [],
   "source": [
    "import numpy as np\n",
    "import pandas as pd\n",
    "import docplex\n",
    "from docplex.mp.model import Model"
   ]
  },
  {
   "cell_type": "markdown",
   "metadata": {},
   "source": [
    "2.Create Model Instance"
   ]
  },
  {
   "cell_type": "code",
   "execution_count": 2,
   "metadata": {},
   "outputs": [],
   "source": [
    "model = Model(name=\"JIT System\")"
   ]
  },
  {
   "cell_type": "markdown",
   "metadata": {},
   "source": [
    "3.Define all sets"
   ]
  },
  {
   "cell_type": "code",
   "execution_count": 3,
   "metadata": {},
   "outputs": [],
   "source": [
    "time = [1,2,3,4,5,6,7,8,9,10] # planning periods\n",
    "T = 10 #total planning horizon\n",
    "d_t = [310,380,400,120,200,200,400,1400,70,60]\n",
    "c_NC = 10\n",
    "c_OC = 15\n",
    "c_h = 4\n",
    "c_b = 6\n",
    "NC_max = 354\n",
    "OC_max = 120\n",
    "SL = 0.95\n",
    "GTL = 1 #lower bound of the goal time window\n",
    "GTU = 1 #Upper bound of the goal time window"
   ]
  },
  {
   "cell_type": "markdown",
   "metadata": {},
   "source": [
    "4.Define the decision variables"
   ]
  },
  {
   "cell_type": "code",
   "execution_count": 4,
   "metadata": {},
   "outputs": [],
   "source": [
    "X = model.integer_var_dict(time, name = \"Prod\") # production quantity that delivered on the shipping day\n",
    "I = model.integer_var_dict(time, name = \"Inv\") # inventory level -- the amount that production exceeds demand\n",
    "O = model.integer_var_dict(time, name = \"Over\") # additional personnel capacity\n",
    "D = model.integer_var_dict(((m,n) for m in time for n in time), name= \"Deliver\") #m represents the expected shipping day, n represents the day it is shipped out\n",
    "L = model.integer_var_dict(time, name= \"Backperday\") # L records the quantity of backorders per day----orders past the goal time window per day\n",
    "B = model.integer_var_dict(time, name= \"Backaccmu\") #B records the accumulated quantity of backorders\n",
    "NC = model.integer_var(name = \"normalcap\")  #normal capacity "
   ]
  },
  {
   "cell_type": "markdown",
   "metadata": {},
   "source": [
    "5.Define all constraints"
   ]
  },
  {
   "cell_type": "code",
   "execution_count": 5,
   "metadata": {
    "scrolled": false
   },
   "outputs": [
    {
     "data": {
      "text/plain": [
       "[docplex.mp.LinearConstraint[](Backaccmu_1,GE,0),\n",
       " docplex.mp.LinearConstraint[](Backaccmu_2,GE,0),\n",
       " docplex.mp.LinearConstraint[](Backaccmu_3,GE,0),\n",
       " docplex.mp.LinearConstraint[](Backaccmu_4,GE,0),\n",
       " docplex.mp.LinearConstraint[](Backaccmu_5,GE,0),\n",
       " docplex.mp.LinearConstraint[](Backaccmu_6,GE,0),\n",
       " docplex.mp.LinearConstraint[](Backaccmu_7,GE,0),\n",
       " docplex.mp.LinearConstraint[](Backaccmu_8,GE,0),\n",
       " docplex.mp.LinearConstraint[](Backaccmu_9,GE,0),\n",
       " docplex.mp.LinearConstraint[](Backaccmu_10,GE,0)]"
      ]
     },
     "execution_count": 5,
     "metadata": {},
     "output_type": "execute_result"
    }
   ],
   "source": [
    "#Inventory Balance\n",
    "model.add_constraints(I[t-1] + X[t] + O[t] - model.sum(D[m,t] for m in time) == I[t] for t in range(2,T+1)) \n",
    "model.add_constraint(X[1] + O[1] - model.sum(D[m,1] for m in time) == I[1])\n",
    "\n",
    "#Demand fulfilled constraint\n",
    "model.add_constraints(model.sum(D[m,n]for n in time) == d_t[m-1]for m in time)\n",
    "\n",
    "#Service Level constraint\n",
    "model.add_constraints(L[m] == model.sum(D[m,n] for n in range(m + GTU + 1,T+1))for m in range(1,T - GTU)) # the number of items which is shipped out of the upper limit of the goal time window\n",
    "model.add_constraints(L[t] <= (1-SL)* d_t[t-1] for t in time)\n",
    "\n",
    "#Goal time window constraint\n",
    "model.add_constraints(D[m,n] == 0 for m in range(GTL+2,T+1) for n in range(1,m-GTL))#The actual shipping date cannot be earlier that goal time window\n",
    "\n",
    "#Backorder constraint \n",
    "model.add_constraints(B[t] == model.sum(d_t[m-1] for m in range(1,t-GTU))-model.sum(D[m,n] for m in range(1,t-GTU) for n in range(1,t)) for t in range(GTU+2,T+1))\n",
    "\n",
    "#Capacity Constraints  \n",
    "model.add_constraint(NC<= NC_max) \n",
    "model.add_constraints(X[t] <= NC for t in time)\n",
    "model.add_constraints(O[t] <= OC_max for t in time)\n",
    "\n",
    "#Non-negative constriant\n",
    "model.add_constraints(X[t] >= 0 for t in time)\n",
    "model.add_constraints(I[t] >= 0 for t in time)\n",
    "model.add_constraints(O[t] >= 0 for t in time)  \n",
    "model.add_constraints(B[t] >= 0 for t in time)  "
   ]
  },
  {
   "cell_type": "markdown",
   "metadata": {},
   "source": [
    "6.Define linear expressions"
   ]
  },
  {
   "cell_type": "code",
   "execution_count": 6,
   "metadata": {
    "scrolled": true
   },
   "outputs": [],
   "source": [
    "Z = model.sum(c_h * I[t] + NC * c_NC + O[t] * c_OC + B[t] * c_b for t in time)"
   ]
  },
  {
   "cell_type": "markdown",
   "metadata": {},
   "source": [
    "7.Define the objective function"
   ]
  },
  {
   "cell_type": "code",
   "execution_count": 7,
   "metadata": {},
   "outputs": [],
   "source": [
    "model.minimize(Z)"
   ]
  },
  {
   "cell_type": "markdown",
   "metadata": {},
   "source": [
    "8.Solve the model"
   ]
  },
  {
   "cell_type": "code",
   "execution_count": 8,
   "metadata": {
    "scrolled": true
   },
   "outputs": [
    {
     "data": {
      "text/plain": [
       "docplex.mp.SolveDetails(time=0.031,status='integer optimal solution')"
      ]
     },
     "execution_count": 8,
     "metadata": {},
     "output_type": "execute_result"
    }
   ],
   "source": [
    "model.solve()\n",
    "model.solve_details"
   ]
  },
  {
   "cell_type": "markdown",
   "metadata": {},
   "source": [
    "9.Print the results"
   ]
  },
  {
   "cell_type": "code",
   "execution_count": 9,
   "metadata": {
    "scrolled": false
   },
   "outputs": [
    {
     "name": "stdout",
     "output_type": "stream",
     "text": [
      "  Time Optimal normal capacities Assigned over capacities\n",
      "0    1                       332                        0\n",
      "1    2                       332                        0\n",
      "2    3                       332                        0\n",
      "3    4                       332                        0\n",
      "4    5                       332                        0\n",
      "5    6                       332                        0\n",
      "6    7                       332                       94\n",
      "7    8                       332                      120\n",
      "8    9                       332                      120\n",
      "9   10                       332                        0\n",
      "\n",
      "\n",
      "The objective value is  39046.0\n"
     ]
    }
   ],
   "source": [
    "header_1 = ['Time','Optimal normal capacities', 'Assigned over capacities']\n",
    "df_1 = pd.DataFrame(columns = header_1)\n",
    "for t in time:\n",
    "    df_1.loc[len(df_1), 'Time'] = t\n",
    "    df_1.loc[len(df_1)-1, 'Optimal normal capacities'] = NC.solution_value\n",
    "    df_1.loc[len(df_1)-1, 'Assigned over capacities'] = O[t].solution_value\n",
    "print(df_1)\n",
    "print(\"\\n\")    \n",
    "print(\"The objective value is \", model.objective_value) # costs are expressed in hundreds of euro!"
   ]
  },
  {
   "cell_type": "code",
   "execution_count": 10,
   "metadata": {},
   "outputs": [
    {
     "name": "stdout",
     "output_type": "stream",
     "text": [
      "  Time Daily inventory Backorders Utilization\n",
      "0    1               0          0           1\n",
      "1    2               0          0           1\n",
      "2    3               0          0           1\n",
      "3    4               0          0           1\n",
      "4    5              50          0           1\n",
      "5    6               0          0           1\n",
      "6    7               0          0           1\n",
      "7    8               0          0           1\n",
      "8    9               0         18           1\n",
      "9   10               0         88    0.656627\n",
      "\n",
      "\n"
     ]
    }
   ],
   "source": [
    "header_2 = ['Time','Daily inventory', 'Backorders', 'Utilization']\n",
    "df_2 = pd.DataFrame(columns = header_2)\n",
    "for t in time:\n",
    "    df_2.loc[len(df_2), 'Time'] = t\n",
    "    df_2.loc[len(df_2)-1,'Daily inventory'] = I[t].solution_value\n",
    "    df_2.loc[len(df_2)-1, 'Backorders'] = B[t].solution_value\n",
    "    df_2.loc[len(df_2)-1, 'Utilization'] = X[t].solution_value/NC.solution_value\n",
    "print(df_2)\n",
    "print(\"\\n\")    \n",
    "\n",
    "for t in time:\n",
    "    df_2.loc[len(df_2), 'Time'] = t\n",
    "    df_2.loc[len(df_2)-1,'Daily inventory'] = I[t].solution_value\n",
    "    df_2.loc[len(df_2)-1, 'Backorders'] = L[t].solution_value"
   ]
  },
  {
   "cell_type": "code",
   "execution_count": 11,
   "metadata": {
    "scrolled": false
   },
   "outputs": [
    {
     "name": "stdout",
     "output_type": "stream",
     "text": [
      "                         ActualShippingDate 1  ActualShippingDate 2  \\\n",
      "ExpectedShippingDate 1                    0.0                 310.0   \n",
      "ExpectedShippingDate 2                  332.0                  22.0   \n",
      "ExpectedShippingDate 3                    0.0                   0.0   \n",
      "ExpectedShippingDate 4                    0.0                   0.0   \n",
      "ExpectedShippingDate 5                    0.0                   0.0   \n",
      "ExpectedShippingDate 6                    0.0                   0.0   \n",
      "ExpectedShippingDate 7                    0.0                   0.0   \n",
      "ExpectedShippingDate 8                    0.0                   0.0   \n",
      "ExpectedShippingDate 9                    0.0                   0.0   \n",
      "ExpectedShippingDate 10                   0.0                   0.0   \n",
      "\n",
      "                         ActualShippingDate 3  ActualShippingDate 4  \\\n",
      "ExpectedShippingDate 1                    0.0                   0.0   \n",
      "ExpectedShippingDate 2                   26.0                   0.0   \n",
      "ExpectedShippingDate 3                  186.0                 214.0   \n",
      "ExpectedShippingDate 4                  120.0                   0.0   \n",
      "ExpectedShippingDate 5                    0.0                 118.0   \n",
      "ExpectedShippingDate 6                    0.0                   0.0   \n",
      "ExpectedShippingDate 7                    0.0                   0.0   \n",
      "ExpectedShippingDate 8                    0.0                   0.0   \n",
      "ExpectedShippingDate 9                    0.0                   0.0   \n",
      "ExpectedShippingDate 10                   0.0                   0.0   \n",
      "\n",
      "                         ActualShippingDate 5  ActualShippingDate 6  \\\n",
      "ExpectedShippingDate 1                    0.0                   0.0   \n",
      "ExpectedShippingDate 2                    0.0                   0.0   \n",
      "ExpectedShippingDate 3                    0.0                   0.0   \n",
      "ExpectedShippingDate 4                    0.0                   0.0   \n",
      "ExpectedShippingDate 5                   82.0                   0.0   \n",
      "ExpectedShippingDate 6                  200.0                   0.0   \n",
      "ExpectedShippingDate 7                    0.0                 382.0   \n",
      "ExpectedShippingDate 8                    0.0                   0.0   \n",
      "ExpectedShippingDate 9                    0.0                   0.0   \n",
      "ExpectedShippingDate 10                   0.0                   0.0   \n",
      "\n",
      "                         ActualShippingDate 7  ActualShippingDate 8  \\\n",
      "ExpectedShippingDate 1                    0.0                   0.0   \n",
      "ExpectedShippingDate 2                    0.0                   0.0   \n",
      "ExpectedShippingDate 3                    0.0                   0.0   \n",
      "ExpectedShippingDate 4                    0.0                   0.0   \n",
      "ExpectedShippingDate 5                    0.0                   0.0   \n",
      "ExpectedShippingDate 6                    0.0                   0.0   \n",
      "ExpectedShippingDate 7                    0.0                   0.0   \n",
      "ExpectedShippingDate 8                  426.0                 452.0   \n",
      "ExpectedShippingDate 9                    0.0                   0.0   \n",
      "ExpectedShippingDate 10                   0.0                   0.0   \n",
      "\n",
      "                         ActualShippingDate 9  ActualShippingDate 10  \n",
      "ExpectedShippingDate 1                    0.0                    0.0  \n",
      "ExpectedShippingDate 2                    0.0                    0.0  \n",
      "ExpectedShippingDate 3                    0.0                    0.0  \n",
      "ExpectedShippingDate 4                    0.0                    0.0  \n",
      "ExpectedShippingDate 5                    0.0                    0.0  \n",
      "ExpectedShippingDate 6                    0.0                    0.0  \n",
      "ExpectedShippingDate 7                    0.0                   18.0  \n",
      "ExpectedShippingDate 8                  452.0                   70.0  \n",
      "ExpectedShippingDate 9                    0.0                   70.0  \n",
      "ExpectedShippingDate 10                   0.0                   60.0  \n",
      "\n",
      "\n"
     ]
    }
   ],
   "source": [
    "#header_3 = ['Actual shipping date']\n",
    "#Index_3 = ['Expected shipping date']\n",
    "df_3 = pd.DataFrame()\n",
    "for m in time:\n",
    "    for n in time:\n",
    "        df_3.loc['ExpectedShippingDate '+ str(m), 'ActualShippingDate '+str(n)]=D[m,n].solution_value\n",
    "print(df_3)\n",
    "print(\"\\n\") "
   ]
  },
  {
   "cell_type": "markdown",
   "metadata": {},
   "source": [
    "Task 2 : Sensitivity Analysis"
   ]
  },
  {
   "cell_type": "markdown",
   "metadata": {},
   "source": [
    "1. Sensitivity test with respect to SL"
   ]
  },
  {
   "cell_type": "code",
   "execution_count": 12,
   "metadata": {
    "scrolled": false
   },
   "outputs": [
    {
     "name": "stdout",
     "output_type": "stream",
     "text": [
      "   Service Level Total cost Total normal Capacity cost  \\\n",
      "0            0.8      39046                      33200   \n",
      "1           0.81      39046                      33200   \n",
      "2           0.82      39046                      33200   \n",
      "3           0.83      39046                      33200   \n",
      "4           0.84      39046                      33200   \n",
      "5           0.85      39046                      33200   \n",
      "6           0.86      39046                      33200   \n",
      "7           0.87      39046                      33200   \n",
      "8           0.88      39046                      33200   \n",
      "9           0.89      39046                      33200   \n",
      "10           0.9      39046                      33200   \n",
      "11          0.91      39046                      33200   \n",
      "12          0.92      39046                      33200   \n",
      "13          0.93      39046                      33200   \n",
      "14          0.94      39046                      33200   \n",
      "15          0.95      39046                      33200   \n",
      "16          0.96      39175                      33300   \n",
      "17          0.97      39301                      33300   \n",
      "18          0.98      39441                      33500   \n",
      "19          0.99      39580                      33700   \n",
      "\n",
      "   Total over Capacity cost  \n",
      "0                      5010  \n",
      "1                      5010  \n",
      "2                      5010  \n",
      "3                      5010  \n",
      "4                      5010  \n",
      "5                      5010  \n",
      "6                      5010  \n",
      "7                      5010  \n",
      "8                      5010  \n",
      "9                      5010  \n",
      "10                     5010  \n",
      "11                     5010  \n",
      "12                     5010  \n",
      "13                     5010  \n",
      "14                     5010  \n",
      "15                     5010  \n",
      "16                     5175  \n",
      "17                     5385  \n",
      "18                     5385  \n",
      "19                     5400  \n"
     ]
    }
   ],
   "source": [
    "#Change the service level, SL\n",
    "# Initialize a DataFrame to store the results of the sensitivity analysis\n",
    "header_3 = ['Service Level','Total cost','Total normal Capacity cost','Total over Capacity cost']\n",
    "output_3 = pd.DataFrame(columns = header_3)\n",
    "\n",
    "\n",
    "k= -1\n",
    "for SL in np.arange(0.8,1,0.01): # Loop over different values for SL to analyze the sensitivity with respect to SL\n",
    "\n",
    "    k += 1\n",
    "    # Define linear expressions\n",
    "    Total_cost = model.sum(c_h * I[t] + NC * c_NC + O[t] * c_OC + B[t] * c_b for t in time)\n",
    "    \n",
    "    #Changed constraints\n",
    "    model.add_constraints(L[t] <= (1-SL)* d_t[t-1] for t in time)\n",
    "    \n",
    "    # Define the objective function \n",
    "    model.minimize(Total_cost)\n",
    "\n",
    "    # Solve the model\n",
    "    model.solve()\n",
    "    \n",
    "    # Store the value in the output DataFrame\n",
    "    output_3.loc[k,'Service Level'] = SL\n",
    "    output_3.loc[k,'Total cost'] = model.objective_value\n",
    "    \n",
    "    # Store the total Normal Capacity cost and total Over Capacity cost in the output DataFrame\n",
    "    Tc_NC = 0\n",
    "    Tc_OC = 0\n",
    "    for t in time:\n",
    "        Tc_NC += NC.solution_value * c_NC\n",
    "        Tc_OC += O[t].solution_value * c_OC\n",
    "        output_3.loc[k, 'Total normal Capacity cost'] = round(Tc_NC) \n",
    "        output_3.loc[k, 'Total over Capacity cost'] = round(Tc_OC)\n",
    "        \n",
    "print(output_3)\n"
   ]
  },
  {
   "cell_type": "markdown",
   "metadata": {},
   "source": [
    "2. Sensitivity test with respect to (GT-,GT+)"
   ]
  },
  {
   "cell_type": "code",
   "execution_count": 13,
   "metadata": {},
   "outputs": [
    {
     "name": "stdout",
     "output_type": "stream",
     "text": [
      "   (GT-,GT+) Total cost Total normal Capacity cost Total over Capacity cost\n",
      "0      (1,1)      39580                       3370                        0\n",
      "1      (1,2)      39580                       3370                        0\n",
      "2      (1,3)      39580                       3370                        0\n",
      "3      (1,4)      39580                       3370                        0\n",
      "4      (1,5)      39580                       3370                        0\n",
      "5      (2,1)      39580                       3370                        0\n",
      "6      (2,2)      39580                       3370                        0\n",
      "7      (2,3)      39580                       3370                        0\n",
      "8      (2,4)      39580                       3370                        0\n",
      "9      (2,5)      39580                       3370                        0\n",
      "10     (3,1)      39580                       3370                        0\n",
      "11     (3,2)      39580                       3370                        0\n",
      "12     (3,3)      39580                       3370                        0\n",
      "13     (3,4)      39580                       3370                        0\n",
      "14     (3,5)      39580                       3370                        0\n",
      "15     (4,1)      39580                       3370                        0\n",
      "16     (4,2)      39580                       3370                        0\n",
      "17     (4,3)      39580                       3370                        0\n",
      "18     (4,4)      39580                       3370                        0\n",
      "19     (4,5)      39580                       3370                        0\n",
      "20     (5,1)      39580                       3370                        0\n",
      "21     (5,2)      39580                       3370                        0\n",
      "22     (5,3)      39580                       3370                        0\n",
      "23     (5,4)      39580                       3370                        0\n",
      "24     (5,5)      39580                       3370                        0\n"
     ]
    }
   ],
   "source": [
    "#Change the goal time window (GT-,GT+)\n",
    "# Initialize a DataFrame to store the results of the sensitivity analysis\n",
    "header_4 = ['(GT-,GT+)','Total cost','Total normal Capacity cost','Total over Capacity cost']\n",
    "output_4 = pd.DataFrame(columns = header_4)\n",
    "\n",
    "SL = 0.95\n",
    "\n",
    "k= -1\n",
    "# Loop over different values for goal time window to analyze the sensitivity with respect to GTW\n",
    "for GTL in range(1,6):\n",
    "    for GTU in range(1,6): \n",
    "    \n",
    "        k += 1\n",
    "        \n",
    "        # Define linear expressions\n",
    "        Total_cost = model.sum(c_h * I[t] + NC * c_NC + O[t] * c_OC + B[t] * c_b for t in time)\n",
    "        \n",
    "        # Define the objective function \n",
    "        model.minimize(Total_cost)\n",
    "\n",
    "        # Solve the model\n",
    "        model.solve()\n",
    "        \n",
    "        \n",
    "        # Store the value in the output DataFrame\n",
    "        output_4.loc[k,'(GT-,GT+)'] = '('+str(GTL)+','+str(GTU)+')'\n",
    "        output_4.loc[k,'Total cost'] = model.objective_value\n",
    "\n",
    "        # Store the total Normal Capacity cost and total Over Capacity cost in the output DataFrame\n",
    "        for t in time:\n",
    "            Tc_NC = 0\n",
    "            Tc_OC = 0\n",
    "            Tc_NC += NC.solution_value * c_NC\n",
    "            Tc_OC += O[t].solution_value * c_OC\n",
    "            output_4.loc[k, 'Total normal Capacity cost'] = round(Tc_NC) \n",
    "            output_4.loc[k, 'Total over Capacity cost'] = round(Tc_OC)\n",
    "        \n",
    "print(output_4)\n"
   ]
  }
 ],
 "metadata": {
  "kernelspec": {
   "display_name": "Python 3",
   "language": "python",
   "name": "python3"
  },
  "language_info": {
   "codemirror_mode": {
    "name": "ipython",
    "version": 3
   },
   "file_extension": ".py",
   "mimetype": "text/x-python",
   "name": "python",
   "nbconvert_exporter": "python",
   "pygments_lexer": "ipython3",
   "version": "3.7.4"
  }
 },
 "nbformat": 4,
 "nbformat_minor": 2
}
