{
 "cells": [
  {
   "cell_type": "markdown",
   "source": "# Course 8 Assignment: Machine Learning",
   "metadata": {
    "tags": [],
    "cell_id": "00000-50655a66-54bc-49b4-b1b9-4ac4a99418a5",
    "deepnote_cell_type": "markdown"
   }
  },
  {
   "cell_type": "markdown",
   "source": "Welcome to this last assignment of this Business Analytics Course. This week, the objective will be to practice on your own what you have learnt in Machine Learning and apply it on a real dataset.",
   "metadata": {
    "tags": [],
    "cell_id": "00001-608b1880-cc99-4de2-924a-90faff58d412",
    "deepnote_cell_type": "markdown"
   }
  },
  {
   "cell_type": "markdown",
   "source": "<center><img src=\"https://www.eurixgroup.com/wp-content/uploads/2021/01/ml-e1610553826718.jpg\" title=\"Python Logo\" width = 500/></center>",
   "metadata": {
    "tags": [],
    "cell_id": "00002-1e064dea-301c-43e3-bc09-a0c31952ff13",
    "deepnote_cell_type": "markdown"
   }
  },
  {
   "cell_type": "markdown",
   "source": "# 1. Presentation of the case study",
   "metadata": {
    "formattedRanges": [],
    "tags": [],
    "is_collapsed": false,
    "cell_id": "00002-de1cc67f-7430-443a-9988-214b41250cb6",
    "deepnote_cell_type": "text-cell-h1"
   }
  },
  {
   "cell_type": "markdown",
   "source": "## 1.1 About the dataset",
   "metadata": {
    "formattedRanges": [],
    "tags": [],
    "is_collapsed": false,
    "cell_id": "00004-e83bafe9-bf76-41e1-8d19-8e7b03c40957",
    "deepnote_cell_type": "text-cell-h2"
   }
  },
  {
   "cell_type": "markdown",
   "source": "The dataset is a result of a chemical analysis of wines grown in the same region in Italy but derived from three different cultivars. Hence, given a set of features, we need to determine from which of the three cultivators the wine has come from. ",
   "metadata": {
    "tags": [],
    "cell_id": "00001-754c3138-ed94-43db-b0d5-1101ec146bf6",
    "deepnote_cell_type": "markdown"
   }
  },
  {
   "cell_type": "markdown",
   "source": "<center><img src=\"https://miro.medium.com/max/330/1*H1b2p5U9kB-6ek80Y1XCRw.jpeg\" title=\"Python Logo\" width = 300/></center>",
   "metadata": {
    "tags": [],
    "cell_id": "00005-943ce512-90c8-4420-8832-40ee63fb9cd1",
    "deepnote_cell_type": "markdown"
   }
  },
  {
   "cell_type": "markdown",
   "source": "The features are:\n1) Alcohol\n2) Malic acid\n3) Ash\n4) Alcalinity of ash\n5) Magnesium\n6) Total phenols\n7) Flavanoids\n8) Nonflavanoid phenols\n9) Proanthocyanins\n10) Color intensity\n11) Hue\n12) OD280/OD315 of diluted wines\n13) Proline",
   "metadata": {
    "tags": [],
    "cell_id": "00002-e97903ee-8c4d-4950-b09d-dfc7b29ca489",
    "deepnote_cell_type": "markdown"
   }
  },
  {
   "cell_type": "markdown",
   "source": "## 1.2 Objectives",
   "metadata": {
    "formattedRanges": [],
    "tags": [],
    "is_collapsed": false,
    "cell_id": "00008-e61b8c65-a42f-489e-8513-0b4e7703acbc",
    "deepnote_cell_type": "text-cell-h2"
   }
  },
  {
   "cell_type": "markdown",
   "source": "We would like to build a machine learning model that will enable us to predict the Alcohol class of our data",
   "metadata": {
    "tags": [],
    "cell_id": "00002-46ab9eb7-16b9-45a4-b371-08778e4fb46b",
    "deepnote_cell_type": "markdown"
   }
  },
  {
   "cell_type": "markdown",
   "source": "# 2. Question 1: What type of Machine Learning problem is it ? Why ? What algorithms could you use to make your model ? List all the models that you know about this type of problem (10%) ",
   "metadata": {
    "formattedRanges": [],
    "tags": [],
    "is_collapsed": false,
    "cell_id": "00010-3d1e33ad-db7f-42f3-a9ac-d8eb92b977ef",
    "deepnote_cell_type": "text-cell-h1"
   }
  },
  {
   "cell_type": "code",
   "metadata": {
    "tags": [],
    "cell_id": "00011-d1958970-ca0c-45d6-b785-b983360d682f",
    "deepnote_to_be_reexecuted": false,
    "source_hash": "d569d8c7",
    "execution_start": 1635523112489,
    "execution_millis": 3,
    "deepnote_cell_type": "code"
   },
   "source": "#It is a supervised Machine Learning problem because we have data that is classified and which\n#gives examples with the solution and we would like to build a Machine Leraning algorithm \n#to predict the alcohol class of the data. It is therefore a classification problem because\n#the data is classified into categories (13 features) and it is not continuous numbers (not\n#a regression).\n\n#For a supervised classification problem, we could use these algorithms :\n# - The k-NN algorithm : puts in the same class two points that are near together.\n# - The Decision Tree : divides space into smaller spaces with the same class.\n# - The Random Forest : multiple trees, to be less sensitive to noise.\n# - The Logistic Regression : learns a linear separation of the data by using a logistic equation\n",
   "execution_count": null,
   "outputs": []
  },
  {
   "cell_type": "markdown",
   "source": "# 4. Question 2: Load the data and make a full analysis of the dataset (10%)",
   "metadata": {
    "formattedRanges": [],
    "tags": [],
    "is_collapsed": false,
    "cell_id": "00011-7f5e45ef-ba95-4086-baae-06be04f9f426",
    "deepnote_cell_type": "text-cell-h1"
   }
  },
  {
   "cell_type": "code",
   "metadata": {
    "tags": [],
    "cell_id": "00014-c6a5d50e-d150-4326-b1a4-b2e0200812b5",
    "allow_embed": false,
    "deepnote_to_be_reexecuted": false,
    "source_hash": "f24f754e",
    "execution_start": 1635592553098,
    "execution_millis": 3536,
    "deepnote_cell_type": "code"
   },
   "source": "# First, we need to load the libraries we will need for our analysis\nimport pandas as pd\nimport matplotlib.pyplot as plt\nimport numpy as np\nimport sklearn as sk",
   "execution_count": null,
   "outputs": []
  },
  {
   "cell_type": "code",
   "metadata": {
    "tags": [],
    "cell_id": "00014-ae8d4f07-c956-4ad4-aba3-ebffa7bd30a2",
    "deepnote_to_be_reexecuted": false,
    "source_hash": "7e2d3a47",
    "execution_start": 1635592556636,
    "execution_millis": 29,
    "deepnote_cell_type": "code"
   },
   "source": "#Then, we need to load the dataset\n#As the data is separated by \",\" in the csv file, we need to specify it when we load the dataset\n\ndf_wine = pd.read_csv(\"DATA/wine.csv\", sep = ';',header = 0)",
   "execution_count": null,
   "outputs": []
  },
  {
   "cell_type": "code",
   "metadata": {
    "tags": [],
    "cell_id": "00015-90b28ba2-daad-45a8-8111-1ecd3d39faca",
    "deepnote_to_be_reexecuted": false,
    "source_hash": "4e5d156f",
    "execution_start": 1635592556682,
    "execution_millis": 229,
    "deepnote_cell_type": "code"
   },
   "source": "#Let's have a look at the data\ndf_wine.describe(include=\"all\")",
   "execution_count": null,
   "outputs": [
    {
     "output_type": "execute_result",
     "execution_count": 3,
     "data": {
      "application/vnd.deepnote.dataframe.v2+json": {
       "row_count": 11,
       "column_count": 14,
       "columns": [
        {
         "name": "Label",
         "dtype": "object",
         "stats": {
          "unique_count": 4,
          "nan_count": 7,
          "categories": [
           {
            "name": "178",
            "count": 1
           },
           {
            "name": "3 others",
            "count": 3
           },
           {
            "name": "Missing",
            "count": 7
           }
          ]
         }
        },
        {
         "name": "Alcohol",
         "dtype": "float64",
         "stats": {
          "unique_count": 8,
          "nan_count": 3,
          "min": "0.8118265380058575",
          "max": "178.0",
          "histogram": [
           {
            "bin_start": 0.8118265380058575,
            "bin_end": 18.530643884205272,
            "count": 7
           },
           {
            "bin_start": 18.530643884205272,
            "bin_end": 36.24946123040469,
            "count": 0
           },
           {
            "bin_start": 36.24946123040469,
            "bin_end": 53.968278576604106,
            "count": 0
           },
           {
            "bin_start": 53.968278576604106,
            "bin_end": 71.68709592280352,
            "count": 0
           },
           {
            "bin_start": 71.68709592280352,
            "bin_end": 89.40591326900294,
            "count": 0
           },
           {
            "bin_start": 89.40591326900294,
            "bin_end": 107.12473061520235,
            "count": 0
           },
           {
            "bin_start": 107.12473061520235,
            "bin_end": 124.84354796140177,
            "count": 0
           },
           {
            "bin_start": 124.84354796140177,
            "bin_end": 142.56236530760117,
            "count": 0
           },
           {
            "bin_start": 142.56236530760117,
            "bin_end": 160.28118265380058,
            "count": 0
           },
           {
            "bin_start": 160.28118265380058,
            "bin_end": 178,
            "count": 1
           }
          ]
         }
        },
        {
         "name": "Malic Acid",
         "dtype": "float64",
         "stats": {
          "unique_count": 8,
          "nan_count": 3,
          "min": "0.74",
          "max": "178.0",
          "histogram": [
           {
            "bin_start": 0.74,
            "bin_end": 18.465999999999998,
            "count": 7
           },
           {
            "bin_start": 18.465999999999998,
            "bin_end": 36.192,
            "count": 0
           },
           {
            "bin_start": 36.192,
            "bin_end": 53.918,
            "count": 0
           },
           {
            "bin_start": 53.918,
            "bin_end": 71.64399999999999,
            "count": 0
           },
           {
            "bin_start": 71.64399999999999,
            "bin_end": 89.36999999999999,
            "count": 0
           },
           {
            "bin_start": 89.36999999999999,
            "bin_end": 107.09599999999999,
            "count": 0
           },
           {
            "bin_start": 107.09599999999999,
            "bin_end": 124.82199999999999,
            "count": 0
           },
           {
            "bin_start": 124.82199999999999,
            "bin_end": 142.548,
            "count": 0
           },
           {
            "bin_start": 142.548,
            "bin_end": 160.274,
            "count": 0
           },
           {
            "bin_start": 160.274,
            "bin_end": 178,
            "count": 1
           }
          ]
         }
        },
        {
         "name": "Ash",
         "dtype": "float64",
         "stats": {
          "unique_count": 8,
          "nan_count": 3,
          "min": "0.27434400906081485",
          "max": "178.0",
          "histogram": [
           {
            "bin_start": 0.27434400906081485,
            "bin_end": 18.04690960815473,
            "count": 7
           },
           {
            "bin_start": 18.04690960815473,
            "bin_end": 35.819475207248644,
            "count": 0
           },
           {
            "bin_start": 35.819475207248644,
            "bin_end": 53.59204080634256,
            "count": 0
           },
           {
            "bin_start": 53.59204080634256,
            "bin_end": 71.36460640543648,
            "count": 0
           },
           {
            "bin_start": 71.36460640543648,
            "bin_end": 89.1371720045304,
            "count": 0
           },
           {
            "bin_start": 89.1371720045304,
            "bin_end": 106.90973760362431,
            "count": 0
           },
           {
            "bin_start": 106.90973760362431,
            "bin_end": 124.68230320271822,
            "count": 0
           },
           {
            "bin_start": 124.68230320271822,
            "bin_end": 142.45486880181215,
            "count": 0
           },
           {
            "bin_start": 142.45486880181215,
            "bin_end": 160.22743440090608,
            "count": 0
           },
           {
            "bin_start": 160.22743440090608,
            "bin_end": 178,
            "count": 1
           }
          ]
         }
        },
        {
         "name": "Alcalinity of ash ",
         "dtype": "float64",
         "stats": {
          "unique_count": 8,
          "nan_count": 3,
          "min": "3.339563767173505",
          "max": "178.0",
          "histogram": [
           {
            "bin_start": 3.339563767173505,
            "bin_end": 20.805607390456156,
            "count": 5
           },
           {
            "bin_start": 20.805607390456156,
            "bin_end": 38.271651013738804,
            "count": 2
           },
           {
            "bin_start": 38.271651013738804,
            "bin_end": 55.737694637021455,
            "count": 0
           },
           {
            "bin_start": 55.737694637021455,
            "bin_end": 73.2037382603041,
            "count": 0
           },
           {
            "bin_start": 73.2037382603041,
            "bin_end": 90.66978188358675,
            "count": 0
           },
           {
            "bin_start": 90.66978188358675,
            "bin_end": 108.13582550686941,
            "count": 0
           },
           {
            "bin_start": 108.13582550686941,
            "bin_end": 125.60186913015207,
            "count": 0
           },
           {
            "bin_start": 125.60186913015207,
            "bin_end": 143.0679127534347,
            "count": 0
           },
           {
            "bin_start": 143.0679127534347,
            "bin_end": 160.53395637671736,
            "count": 0
           },
           {
            "bin_start": 160.53395637671736,
            "bin_end": 178,
            "count": 1
           }
          ]
         }
        },
        {
         "name": "Magnesium",
         "dtype": "float64",
         "stats": {
          "unique_count": 8,
          "nan_count": 3,
          "min": "14.282483515295665",
          "max": "178.0",
          "histogram": [
           {
            "bin_start": 14.282483515295665,
            "bin_end": 30.654235163766096,
            "count": 1
           },
           {
            "bin_start": 30.654235163766096,
            "bin_end": 47.02598681223653,
            "count": 0
           },
           {
            "bin_start": 47.02598681223653,
            "bin_end": 63.39773846070696,
            "count": 0
           },
           {
            "bin_start": 63.39773846070696,
            "bin_end": 79.7694901091774,
            "count": 1
           },
           {
            "bin_start": 79.7694901091774,
            "bin_end": 96.14124175764783,
            "count": 1
           },
           {
            "bin_start": 96.14124175764783,
            "bin_end": 112.51299340611826,
            "count": 3
           },
           {
            "bin_start": 112.51299340611826,
            "bin_end": 128.88474505458868,
            "count": 0
           },
           {
            "bin_start": 128.88474505458868,
            "bin_end": 145.25649670305913,
            "count": 0
           },
           {
            "bin_start": 145.25649670305913,
            "bin_end": 161.62824835152955,
            "count": 0
           },
           {
            "bin_start": 161.62824835152955,
            "bin_end": 178,
            "count": 2
           }
          ]
         }
        },
        {
         "name": "Total phenols",
         "dtype": "float64",
         "stats": {
          "unique_count": 8,
          "nan_count": 3,
          "min": "0.6258510488339893",
          "max": "178.0",
          "histogram": [
           {
            "bin_start": 0.6258510488339893,
            "bin_end": 18.36326594395059,
            "count": 7
           },
           {
            "bin_start": 18.36326594395059,
            "bin_end": 36.10068083906719,
            "count": 0
           },
           {
            "bin_start": 36.10068083906719,
            "bin_end": 53.83809573418379,
            "count": 0
           },
           {
            "bin_start": 53.83809573418379,
            "bin_end": 71.5755106293004,
            "count": 0
           },
           {
            "bin_start": 71.5755106293004,
            "bin_end": 89.312925524417,
            "count": 0
           },
           {
            "bin_start": 89.312925524417,
            "bin_end": 107.0503404195336,
            "count": 0
           },
           {
            "bin_start": 107.0503404195336,
            "bin_end": 124.7877553146502,
            "count": 0
           },
           {
            "bin_start": 124.7877553146502,
            "bin_end": 142.5251702097668,
            "count": 0
           },
           {
            "bin_start": 142.5251702097668,
            "bin_end": 160.2625851048834,
            "count": 0
           },
           {
            "bin_start": 160.2625851048834,
            "bin_end": 178,
            "count": 1
           }
          ]
         }
        },
        {
         "name": "Flavanoids",
         "dtype": "float64",
         "stats": {
          "unique_count": 8,
          "nan_count": 3,
          "min": "0.34",
          "max": "178.0",
          "histogram": [
           {
            "bin_start": 0.34,
            "bin_end": 18.105999999999998,
            "count": 7
           },
           {
            "bin_start": 18.105999999999998,
            "bin_end": 35.872,
            "count": 0
           },
           {
            "bin_start": 35.872,
            "bin_end": 53.638,
            "count": 0
           },
           {
            "bin_start": 53.638,
            "bin_end": 71.404,
            "count": 0
           },
           {
            "bin_start": 71.404,
            "bin_end": 89.16999999999999,
            "count": 0
           },
           {
            "bin_start": 89.16999999999999,
            "bin_end": 106.93599999999999,
            "count": 0
           },
           {
            "bin_start": 106.93599999999999,
            "bin_end": 124.702,
            "count": 0
           },
           {
            "bin_start": 124.702,
            "bin_end": 142.468,
            "count": 0
           },
           {
            "bin_start": 142.468,
            "bin_end": 160.23399999999998,
            "count": 0
           },
           {
            "bin_start": 160.23399999999998,
            "bin_end": 178,
            "count": 1
           }
          ]
         }
        },
        {
         "name": "Nonflavanoid phenols",
         "dtype": "float64",
         "stats": {
          "unique_count": 8,
          "nan_count": 3,
          "min": "0.12445334029667937",
          "max": "178.0",
          "histogram": [
           {
            "bin_start": 0.12445334029667937,
            "bin_end": 17.912008006267012,
            "count": 7
           },
           {
            "bin_start": 17.912008006267012,
            "bin_end": 35.69956267223735,
            "count": 0
           },
           {
            "bin_start": 35.69956267223735,
            "bin_end": 53.48711733820768,
            "count": 0
           },
           {
            "bin_start": 53.48711733820768,
            "bin_end": 71.27467200417802,
            "count": 0
           },
           {
            "bin_start": 71.27467200417802,
            "bin_end": 89.06222667014835,
            "count": 0
           },
           {
            "bin_start": 89.06222667014835,
            "bin_end": 106.84978133611868,
            "count": 0
           },
           {
            "bin_start": 106.84978133611868,
            "bin_end": 124.63733600208901,
            "count": 0
           },
           {
            "bin_start": 124.63733600208901,
            "bin_end": 142.42489066805933,
            "count": 0
           },
           {
            "bin_start": 142.42489066805933,
            "bin_end": 160.21244533402967,
            "count": 0
           },
           {
            "bin_start": 160.21244533402967,
            "bin_end": 178,
            "count": 1
           }
          ]
         }
        },
        {
         "name": "Proanthocyanins",
         "dtype": "float64",
         "stats": {
          "unique_count": 8,
          "nan_count": 3,
          "min": "0.41",
          "max": "178.0",
          "histogram": [
           {
            "bin_start": 0.41,
            "bin_end": 18.169,
            "count": 7
           },
           {
            "bin_start": 18.169,
            "bin_end": 35.928,
            "count": 0
           },
           {
            "bin_start": 35.928,
            "bin_end": 53.687,
            "count": 0
           },
           {
            "bin_start": 53.687,
            "bin_end": 71.446,
            "count": 0
           },
           {
            "bin_start": 71.446,
            "bin_end": 89.205,
            "count": 0
           },
           {
            "bin_start": 89.205,
            "bin_end": 106.964,
            "count": 0
           },
           {
            "bin_start": 106.964,
            "bin_end": 124.723,
            "count": 0
           },
           {
            "bin_start": 124.723,
            "bin_end": 142.482,
            "count": 0
           },
           {
            "bin_start": 142.482,
            "bin_end": 160.241,
            "count": 0
           },
           {
            "bin_start": 160.241,
            "bin_end": 178,
            "count": 1
           }
          ]
         }
        },
        {
         "name": "Color intensity",
         "dtype": "float64",
         "stats": {
          "unique_count": 8,
          "nan_count": 3,
          "min": "1.28",
          "max": "178.0",
          "histogram": [
           {
            "bin_start": 1.28,
            "bin_end": 18.952,
            "count": 7
           },
           {
            "bin_start": 18.952,
            "bin_end": 36.624,
            "count": 0
           },
           {
            "bin_start": 36.624,
            "bin_end": 54.29600000000001,
            "count": 0
           },
           {
            "bin_start": 54.29600000000001,
            "bin_end": 71.968,
            "count": 0
           },
           {
            "bin_start": 71.968,
            "bin_end": 89.64,
            "count": 0
           },
           {
            "bin_start": 89.64,
            "bin_end": 107.31200000000001,
            "count": 0
           },
           {
            "bin_start": 107.31200000000001,
            "bin_end": 124.98400000000001,
            "count": 0
           },
           {
            "bin_start": 124.98400000000001,
            "bin_end": 142.656,
            "count": 0
           },
           {
            "bin_start": 142.656,
            "bin_end": 160.328,
            "count": 0
           },
           {
            "bin_start": 160.328,
            "bin_end": 178,
            "count": 1
           }
          ]
         }
        },
        {
         "name": "Hue",
         "dtype": "float64",
         "stats": {
          "unique_count": 8,
          "nan_count": 3,
          "min": "0.22857156582982338",
          "max": "178.0",
          "histogram": [
           {
            "bin_start": 0.22857156582982338,
            "bin_end": 18.005714409246842,
            "count": 7
           },
           {
            "bin_start": 18.005714409246842,
            "bin_end": 35.78285725266386,
            "count": 0
           },
           {
            "bin_start": 35.78285725266386,
            "bin_end": 53.56000009608088,
            "count": 0
           },
           {
            "bin_start": 53.56000009608088,
            "bin_end": 71.3371429394979,
            "count": 0
           },
           {
            "bin_start": 71.3371429394979,
            "bin_end": 89.1142857829149,
            "count": 0
           },
           {
            "bin_start": 89.1142857829149,
            "bin_end": 106.89142862633193,
            "count": 0
           },
           {
            "bin_start": 106.89142862633193,
            "bin_end": 124.66857146974895,
            "count": 0
           },
           {
            "bin_start": 124.66857146974895,
            "bin_end": 142.44571431316595,
            "count": 0
           },
           {
            "bin_start": 142.44571431316595,
            "bin_end": 160.22285715658296,
            "count": 0
           },
           {
            "bin_start": 160.22285715658296,
            "bin_end": 178,
            "count": 1
           }
          ]
         }
        },
        {
         "name": "OD280/OD315 of diluted wines",
         "dtype": "float64",
         "stats": {
          "unique_count": 8,
          "nan_count": 3,
          "min": "0.7099904287650504",
          "max": "178.0",
          "histogram": [
           {
            "bin_start": 0.7099904287650504,
            "bin_end": 18.438991385888546,
            "count": 7
           },
           {
            "bin_start": 18.438991385888546,
            "bin_end": 36.167992343012045,
            "count": 0
           },
           {
            "bin_start": 36.167992343012045,
            "bin_end": 53.89699330013554,
            "count": 0
           },
           {
            "bin_start": 53.89699330013554,
            "bin_end": 71.62599425725904,
            "count": 0
           },
           {
            "bin_start": 71.62599425725904,
            "bin_end": 89.35499521438254,
            "count": 0
           },
           {
            "bin_start": 89.35499521438254,
            "bin_end": 107.08399617150603,
            "count": 0
           },
           {
            "bin_start": 107.08399617150603,
            "bin_end": 124.81299712862952,
            "count": 0
           },
           {
            "bin_start": 124.81299712862952,
            "bin_end": 142.54199808575302,
            "count": 0
           },
           {
            "bin_start": 142.54199808575302,
            "bin_end": 160.27099904287653,
            "count": 0
           },
           {
            "bin_start": 160.27099904287653,
            "bin_end": 178,
            "count": 1
           }
          ]
         }
        },
        {
         "name": "Proline",
         "dtype": "float64",
         "stats": {
          "unique_count": 8,
          "nan_count": 3,
          "min": "178.0",
          "max": "1680.0",
          "histogram": [
           {
            "bin_start": 178,
            "bin_end": 328.2,
            "count": 3
           },
           {
            "bin_start": 328.2,
            "bin_end": 478.4,
            "count": 0
           },
           {
            "bin_start": 478.4,
            "bin_end": 628.5999999999999,
            "count": 1
           },
           {
            "bin_start": 628.5999999999999,
            "bin_end": 778.8,
            "count": 2
           },
           {
            "bin_start": 778.8,
            "bin_end": 929,
            "count": 0
           },
           {
            "bin_start": 929,
            "bin_end": 1079.1999999999998,
            "count": 1
           },
           {
            "bin_start": 1079.1999999999998,
            "bin_end": 1229.3999999999999,
            "count": 0
           },
           {
            "bin_start": 1229.3999999999999,
            "bin_end": 1379.6,
            "count": 0
           },
           {
            "bin_start": 1379.6,
            "bin_end": 1529.8,
            "count": 0
           },
           {
            "bin_start": 1529.8,
            "bin_end": 1680,
            "count": 1
           }
          ]
         }
        },
        {
         "name": "_deepnote_index_column",
         "dtype": "object"
        }
       ],
       "rows_top": [
        {
         "Label": "178",
         "Alcohol": 178,
         "Malic Acid": 178,
         "Ash": 178,
         "Alcalinity of ash ": 178,
         "Magnesium": 178,
         "Total phenols": 178,
         "Flavanoids": 178,
         "Nonflavanoid phenols": 178,
         "Proanthocyanins": 178,
         "Color intensity": 178,
         "Hue": 178,
         "OD280/OD315 of diluted wines": 178,
         "Proline": 178,
         "_deepnote_index_column": "count"
        },
        {
         "Label": "3",
         "Alcohol": "nan",
         "Malic Acid": "nan",
         "Ash": "nan",
         "Alcalinity of ash ": "nan",
         "Magnesium": "nan",
         "Total phenols": "nan",
         "Flavanoids": "nan",
         "Nonflavanoid phenols": "nan",
         "Proanthocyanins": "nan",
         "Color intensity": "nan",
         "Hue": "nan",
         "OD280/OD315 of diluted wines": "nan",
         "Proline": "nan",
         "_deepnote_index_column": "unique"
        },
        {
         "Label": "Class 2",
         "Alcohol": "nan",
         "Malic Acid": "nan",
         "Ash": "nan",
         "Alcalinity of ash ": "nan",
         "Magnesium": "nan",
         "Total phenols": "nan",
         "Flavanoids": "nan",
         "Nonflavanoid phenols": "nan",
         "Proanthocyanins": "nan",
         "Color intensity": "nan",
         "Hue": "nan",
         "OD280/OD315 of diluted wines": "nan",
         "Proline": "nan",
         "_deepnote_index_column": "top"
        },
        {
         "Label": "71",
         "Alcohol": "nan",
         "Malic Acid": "nan",
         "Ash": "nan",
         "Alcalinity of ash ": "nan",
         "Magnesium": "nan",
         "Total phenols": "nan",
         "Flavanoids": "nan",
         "Nonflavanoid phenols": "nan",
         "Proanthocyanins": "nan",
         "Color intensity": "nan",
         "Hue": "nan",
         "OD280/OD315 of diluted wines": "nan",
         "Proline": "nan",
         "_deepnote_index_column": "freq"
        },
        {
         "Label": "nan",
         "Alcohol": 13.00061797752809,
         "Malic Acid": 2.3363483146067416,
         "Ash": 2.3665168539325845,
         "Alcalinity of ash ": 19.49494382022472,
         "Magnesium": 99.74157303370787,
         "Total phenols": 2.295112359550562,
         "Flavanoids": 2.0292696629213487,
         "Nonflavanoid phenols": 0.3618539325842696,
         "Proanthocyanins": 1.5908988764044945,
         "Color intensity": 5.058089882022472,
         "Hue": 0.9574494382022471,
         "OD280/OD315 of diluted wines": 2.6116853932584267,
         "Proline": 746.8932584269663,
         "_deepnote_index_column": "mean"
        },
        {
         "Label": "nan",
         "Alcohol": 0.8118265380058575,
         "Malic Acid": 1.1171460976144627,
         "Ash": 0.27434400906081485,
         "Alcalinity of ash ": 3.339563767173505,
         "Magnesium": 14.282483515295665,
         "Total phenols": 0.6258510488339893,
         "Flavanoids": 0.9988586850169467,
         "Nonflavanoid phenols": 0.12445334029667937,
         "Proanthocyanins": 0.5723588626747613,
         "Color intensity": 2.318285871822413,
         "Hue": 0.22857156582982338,
         "OD280/OD315 of diluted wines": 0.7099904287650504,
         "Proline": 314.9074742768491,
         "_deepnote_index_column": "std"
        },
        {
         "Label": "nan",
         "Alcohol": 11.03,
         "Malic Acid": 0.74,
         "Ash": 1.36,
         "Alcalinity of ash ": 10.6,
         "Magnesium": 70,
         "Total phenols": 0.98,
         "Flavanoids": 0.34,
         "Nonflavanoid phenols": 0.13,
         "Proanthocyanins": 0.41,
         "Color intensity": 1.28,
         "Hue": 0.48,
         "OD280/OD315 of diluted wines": 1.27,
         "Proline": 278,
         "_deepnote_index_column": "min"
        },
        {
         "Label": "nan",
         "Alcohol": 12.362499999999999,
         "Malic Acid": 1.6025000000000003,
         "Ash": 2.21,
         "Alcalinity of ash ": 17.2,
         "Magnesium": 88,
         "Total phenols": 1.7425,
         "Flavanoids": 1.2049999999999998,
         "Nonflavanoid phenols": 0.27,
         "Proanthocyanins": 1.25,
         "Color intensity": 3.2199999999999998,
         "Hue": 0.7825,
         "OD280/OD315 of diluted wines": 1.9375,
         "Proline": 500.5,
         "_deepnote_index_column": "25%"
        },
        {
         "Label": "nan",
         "Alcohol": 13.05,
         "Malic Acid": 1.8650000000000002,
         "Ash": 2.36,
         "Alcalinity of ash ": 19.5,
         "Magnesium": 98,
         "Total phenols": 2.355,
         "Flavanoids": 2.135,
         "Nonflavanoid phenols": 0.34,
         "Proanthocyanins": 1.5550000000000002,
         "Color intensity": 4.6899999999999995,
         "Hue": 0.965,
         "OD280/OD315 of diluted wines": 2.78,
         "Proline": 673.5,
         "_deepnote_index_column": "50%"
        },
        {
         "Label": "nan",
         "Alcohol": 13.6775,
         "Malic Acid": 3.0825,
         "Ash": 2.5575,
         "Alcalinity of ash ": 21.5,
         "Magnesium": 107,
         "Total phenols": 2.8,
         "Flavanoids": 2.875,
         "Nonflavanoid phenols": 0.4375,
         "Proanthocyanins": 1.95,
         "Color intensity": 6.2,
         "Hue": 1.12,
         "OD280/OD315 of diluted wines": 3.17,
         "Proline": 985,
         "_deepnote_index_column": "75%"
        },
        {
         "Label": "nan",
         "Alcohol": 14.83,
         "Malic Acid": 5.8,
         "Ash": 3.23,
         "Alcalinity of ash ": 30,
         "Magnesium": 162,
         "Total phenols": 3.88,
         "Flavanoids": 5.08,
         "Nonflavanoid phenols": 0.66,
         "Proanthocyanins": 3.58,
         "Color intensity": 13,
         "Hue": 1.71,
         "OD280/OD315 of diluted wines": 4,
         "Proline": 1680,
         "_deepnote_index_column": "max"
        }
       ],
       "rows_bottom": null
      },
      "text/plain": "          Label     Alcohol  Malic Acid         Ash  Alcalinity of ash   \\\ncount       178  178.000000  178.000000  178.000000          178.000000   \nunique        3         NaN         NaN         NaN                 NaN   \ntop     Class 2         NaN         NaN         NaN                 NaN   \nfreq         71         NaN         NaN         NaN                 NaN   \nmean        NaN   13.000618    2.336348    2.366517           19.494944   \nstd         NaN    0.811827    1.117146    0.274344            3.339564   \nmin         NaN   11.030000    0.740000    1.360000           10.600000   \n25%         NaN   12.362500    1.602500    2.210000           17.200000   \n50%         NaN   13.050000    1.865000    2.360000           19.500000   \n75%         NaN   13.677500    3.082500    2.557500           21.500000   \nmax         NaN   14.830000    5.800000    3.230000           30.000000   \n\n         Magnesium  Total phenols  Flavanoids  Nonflavanoid phenols  \\\ncount   178.000000     178.000000  178.000000            178.000000   \nunique         NaN            NaN         NaN                   NaN   \ntop            NaN            NaN         NaN                   NaN   \nfreq           NaN            NaN         NaN                   NaN   \nmean     99.741573       2.295112    2.029270              0.361854   \nstd      14.282484       0.625851    0.998859              0.124453   \nmin      70.000000       0.980000    0.340000              0.130000   \n25%      88.000000       1.742500    1.205000              0.270000   \n50%      98.000000       2.355000    2.135000              0.340000   \n75%     107.000000       2.800000    2.875000              0.437500   \nmax     162.000000       3.880000    5.080000              0.660000   \n\n        Proanthocyanins  Color intensity         Hue  \\\ncount        178.000000       178.000000  178.000000   \nunique              NaN              NaN         NaN   \ntop                 NaN              NaN         NaN   \nfreq                NaN              NaN         NaN   \nmean           1.590899         5.058090    0.957449   \nstd            0.572359         2.318286    0.228572   \nmin            0.410000         1.280000    0.480000   \n25%            1.250000         3.220000    0.782500   \n50%            1.555000         4.690000    0.965000   \n75%            1.950000         6.200000    1.120000   \nmax            3.580000        13.000000    1.710000   \n\n        OD280/OD315 of diluted wines      Proline  \ncount                     178.000000   178.000000  \nunique                           NaN          NaN  \ntop                              NaN          NaN  \nfreq                             NaN          NaN  \nmean                        2.611685   746.893258  \nstd                         0.709990   314.907474  \nmin                         1.270000   278.000000  \n25%                         1.937500   500.500000  \n50%                         2.780000   673.500000  \n75%                         3.170000   985.000000  \nmax                         4.000000  1680.000000  ",
      "text/html": "<div>\n<style scoped>\n    .dataframe tbody tr th:only-of-type {\n        vertical-align: middle;\n    }\n\n    .dataframe tbody tr th {\n        vertical-align: top;\n    }\n\n    .dataframe thead th {\n        text-align: right;\n    }\n</style>\n<table border=\"1\" class=\"dataframe\">\n  <thead>\n    <tr style=\"text-align: right;\">\n      <th></th>\n      <th>Label</th>\n      <th>Alcohol</th>\n      <th>Malic Acid</th>\n      <th>Ash</th>\n      <th>Alcalinity of ash</th>\n      <th>Magnesium</th>\n      <th>Total phenols</th>\n      <th>Flavanoids</th>\n      <th>Nonflavanoid phenols</th>\n      <th>Proanthocyanins</th>\n      <th>Color intensity</th>\n      <th>Hue</th>\n      <th>OD280/OD315 of diluted wines</th>\n      <th>Proline</th>\n    </tr>\n  </thead>\n  <tbody>\n    <tr>\n      <th>count</th>\n      <td>178</td>\n      <td>178.000000</td>\n      <td>178.000000</td>\n      <td>178.000000</td>\n      <td>178.000000</td>\n      <td>178.000000</td>\n      <td>178.000000</td>\n      <td>178.000000</td>\n      <td>178.000000</td>\n      <td>178.000000</td>\n      <td>178.000000</td>\n      <td>178.000000</td>\n      <td>178.000000</td>\n      <td>178.000000</td>\n    </tr>\n    <tr>\n      <th>unique</th>\n      <td>3</td>\n      <td>NaN</td>\n      <td>NaN</td>\n      <td>NaN</td>\n      <td>NaN</td>\n      <td>NaN</td>\n      <td>NaN</td>\n      <td>NaN</td>\n      <td>NaN</td>\n      <td>NaN</td>\n      <td>NaN</td>\n      <td>NaN</td>\n      <td>NaN</td>\n      <td>NaN</td>\n    </tr>\n    <tr>\n      <th>top</th>\n      <td>Class 2</td>\n      <td>NaN</td>\n      <td>NaN</td>\n      <td>NaN</td>\n      <td>NaN</td>\n      <td>NaN</td>\n      <td>NaN</td>\n      <td>NaN</td>\n      <td>NaN</td>\n      <td>NaN</td>\n      <td>NaN</td>\n      <td>NaN</td>\n      <td>NaN</td>\n      <td>NaN</td>\n    </tr>\n    <tr>\n      <th>freq</th>\n      <td>71</td>\n      <td>NaN</td>\n      <td>NaN</td>\n      <td>NaN</td>\n      <td>NaN</td>\n      <td>NaN</td>\n      <td>NaN</td>\n      <td>NaN</td>\n      <td>NaN</td>\n      <td>NaN</td>\n      <td>NaN</td>\n      <td>NaN</td>\n      <td>NaN</td>\n      <td>NaN</td>\n    </tr>\n    <tr>\n      <th>mean</th>\n      <td>NaN</td>\n      <td>13.000618</td>\n      <td>2.336348</td>\n      <td>2.366517</td>\n      <td>19.494944</td>\n      <td>99.741573</td>\n      <td>2.295112</td>\n      <td>2.029270</td>\n      <td>0.361854</td>\n      <td>1.590899</td>\n      <td>5.058090</td>\n      <td>0.957449</td>\n      <td>2.611685</td>\n      <td>746.893258</td>\n    </tr>\n    <tr>\n      <th>std</th>\n      <td>NaN</td>\n      <td>0.811827</td>\n      <td>1.117146</td>\n      <td>0.274344</td>\n      <td>3.339564</td>\n      <td>14.282484</td>\n      <td>0.625851</td>\n      <td>0.998859</td>\n      <td>0.124453</td>\n      <td>0.572359</td>\n      <td>2.318286</td>\n      <td>0.228572</td>\n      <td>0.709990</td>\n      <td>314.907474</td>\n    </tr>\n    <tr>\n      <th>min</th>\n      <td>NaN</td>\n      <td>11.030000</td>\n      <td>0.740000</td>\n      <td>1.360000</td>\n      <td>10.600000</td>\n      <td>70.000000</td>\n      <td>0.980000</td>\n      <td>0.340000</td>\n      <td>0.130000</td>\n      <td>0.410000</td>\n      <td>1.280000</td>\n      <td>0.480000</td>\n      <td>1.270000</td>\n      <td>278.000000</td>\n    </tr>\n    <tr>\n      <th>25%</th>\n      <td>NaN</td>\n      <td>12.362500</td>\n      <td>1.602500</td>\n      <td>2.210000</td>\n      <td>17.200000</td>\n      <td>88.000000</td>\n      <td>1.742500</td>\n      <td>1.205000</td>\n      <td>0.270000</td>\n      <td>1.250000</td>\n      <td>3.220000</td>\n      <td>0.782500</td>\n      <td>1.937500</td>\n      <td>500.500000</td>\n    </tr>\n    <tr>\n      <th>50%</th>\n      <td>NaN</td>\n      <td>13.050000</td>\n      <td>1.865000</td>\n      <td>2.360000</td>\n      <td>19.500000</td>\n      <td>98.000000</td>\n      <td>2.355000</td>\n      <td>2.135000</td>\n      <td>0.340000</td>\n      <td>1.555000</td>\n      <td>4.690000</td>\n      <td>0.965000</td>\n      <td>2.780000</td>\n      <td>673.500000</td>\n    </tr>\n    <tr>\n      <th>75%</th>\n      <td>NaN</td>\n      <td>13.677500</td>\n      <td>3.082500</td>\n      <td>2.557500</td>\n      <td>21.500000</td>\n      <td>107.000000</td>\n      <td>2.800000</td>\n      <td>2.875000</td>\n      <td>0.437500</td>\n      <td>1.950000</td>\n      <td>6.200000</td>\n      <td>1.120000</td>\n      <td>3.170000</td>\n      <td>985.000000</td>\n    </tr>\n    <tr>\n      <th>max</th>\n      <td>NaN</td>\n      <td>14.830000</td>\n      <td>5.800000</td>\n      <td>3.230000</td>\n      <td>30.000000</td>\n      <td>162.000000</td>\n      <td>3.880000</td>\n      <td>5.080000</td>\n      <td>0.660000</td>\n      <td>3.580000</td>\n      <td>13.000000</td>\n      <td>1.710000</td>\n      <td>4.000000</td>\n      <td>1680.000000</td>\n    </tr>\n  </tbody>\n</table>\n</div>"
     },
     "metadata": {}
    }
   ]
  },
  {
   "cell_type": "code",
   "metadata": {
    "tags": [],
    "cell_id": "00016-dc8d9b67-75eb-4070-9bbf-a752a69652e4",
    "deepnote_to_be_reexecuted": false,
    "source_hash": "ebce5906",
    "execution_start": 1635592751129,
    "execution_millis": 115,
    "deepnote_cell_type": "code"
   },
   "source": "#Let's check the firsts and lasts 5 lines of the dataset to make sure it's ok\ndf_wine.head(5)",
   "execution_count": null,
   "outputs": [
    {
     "output_type": "execute_result",
     "execution_count": 4,
     "data": {
      "application/vnd.deepnote.dataframe.v2+json": {
       "row_count": 5,
       "column_count": 14,
       "columns": [
        {
         "name": "Label",
         "dtype": "object",
         "stats": {
          "unique_count": 1,
          "nan_count": 0,
          "categories": [
           {
            "name": "Class 1",
            "count": 5
           }
          ]
         }
        },
        {
         "name": "Alcohol",
         "dtype": "float64",
         "stats": {
          "unique_count": 5,
          "nan_count": 0,
          "min": "13.16",
          "max": "14.37",
          "histogram": [
           {
            "bin_start": 13.16,
            "bin_end": 13.281,
            "count": 3
           },
           {
            "bin_start": 13.281,
            "bin_end": 13.402,
            "count": 0
           },
           {
            "bin_start": 13.402,
            "bin_end": 13.523,
            "count": 0
           },
           {
            "bin_start": 13.523,
            "bin_end": 13.644,
            "count": 0
           },
           {
            "bin_start": 13.644,
            "bin_end": 13.765,
            "count": 0
           },
           {
            "bin_start": 13.765,
            "bin_end": 13.886,
            "count": 0
           },
           {
            "bin_start": 13.886,
            "bin_end": 14.007,
            "count": 0
           },
           {
            "bin_start": 14.007,
            "bin_end": 14.128,
            "count": 0
           },
           {
            "bin_start": 14.128,
            "bin_end": 14.248999999999999,
            "count": 1
           },
           {
            "bin_start": 14.248999999999999,
            "bin_end": 14.37,
            "count": 1
           }
          ]
         }
        },
        {
         "name": "Malic Acid",
         "dtype": "float64",
         "stats": {
          "unique_count": 5,
          "nan_count": 0,
          "min": "1.71",
          "max": "2.59",
          "histogram": [
           {
            "bin_start": 1.71,
            "bin_end": 1.798,
            "count": 2
           },
           {
            "bin_start": 1.798,
            "bin_end": 1.886,
            "count": 0
           },
           {
            "bin_start": 1.886,
            "bin_end": 1.974,
            "count": 1
           },
           {
            "bin_start": 1.974,
            "bin_end": 2.062,
            "count": 0
           },
           {
            "bin_start": 2.062,
            "bin_end": 2.15,
            "count": 0
           },
           {
            "bin_start": 2.15,
            "bin_end": 2.238,
            "count": 0
           },
           {
            "bin_start": 2.238,
            "bin_end": 2.326,
            "count": 0
           },
           {
            "bin_start": 2.326,
            "bin_end": 2.4139999999999997,
            "count": 1
           },
           {
            "bin_start": 2.4139999999999997,
            "bin_end": 2.502,
            "count": 0
           },
           {
            "bin_start": 2.502,
            "bin_end": 2.59,
            "count": 1
           }
          ]
         }
        },
        {
         "name": "Ash",
         "dtype": "float64",
         "stats": {
          "unique_count": 5,
          "nan_count": 0,
          "min": "2.14",
          "max": "2.87",
          "histogram": [
           {
            "bin_start": 2.14,
            "bin_end": 2.213,
            "count": 1
           },
           {
            "bin_start": 2.213,
            "bin_end": 2.286,
            "count": 0
           },
           {
            "bin_start": 2.286,
            "bin_end": 2.359,
            "count": 0
           },
           {
            "bin_start": 2.359,
            "bin_end": 2.432,
            "count": 1
           },
           {
            "bin_start": 2.432,
            "bin_end": 2.505,
            "count": 1
           },
           {
            "bin_start": 2.505,
            "bin_end": 2.5780000000000003,
            "count": 0
           },
           {
            "bin_start": 2.5780000000000003,
            "bin_end": 2.6510000000000002,
            "count": 0
           },
           {
            "bin_start": 2.6510000000000002,
            "bin_end": 2.724,
            "count": 1
           },
           {
            "bin_start": 2.724,
            "bin_end": 2.797,
            "count": 0
           },
           {
            "bin_start": 2.797,
            "bin_end": 2.87,
            "count": 1
           }
          ]
         }
        },
        {
         "name": "Alcalinity of ash ",
         "dtype": "float64",
         "stats": {
          "unique_count": 5,
          "nan_count": 0,
          "min": "11.2",
          "max": "21.0",
          "histogram": [
           {
            "bin_start": 11.2,
            "bin_end": 12.18,
            "count": 1
           },
           {
            "bin_start": 12.18,
            "bin_end": 13.16,
            "count": 0
           },
           {
            "bin_start": 13.16,
            "bin_end": 14.14,
            "count": 0
           },
           {
            "bin_start": 14.14,
            "bin_end": 15.12,
            "count": 0
           },
           {
            "bin_start": 15.12,
            "bin_end": 16.1,
            "count": 1
           },
           {
            "bin_start": 16.1,
            "bin_end": 17.08,
            "count": 1
           },
           {
            "bin_start": 17.08,
            "bin_end": 18.06,
            "count": 0
           },
           {
            "bin_start": 18.06,
            "bin_end": 19.04,
            "count": 1
           },
           {
            "bin_start": 19.04,
            "bin_end": 20.02,
            "count": 0
           },
           {
            "bin_start": 20.02,
            "bin_end": 21,
            "count": 1
           }
          ]
         }
        },
        {
         "name": "Magnesium",
         "dtype": "int64",
         "stats": {
          "unique_count": 5,
          "nan_count": 0,
          "min": "100",
          "max": "127",
          "histogram": [
           {
            "bin_start": 100,
            "bin_end": 102.7,
            "count": 2
           },
           {
            "bin_start": 102.7,
            "bin_end": 105.4,
            "count": 0
           },
           {
            "bin_start": 105.4,
            "bin_end": 108.1,
            "count": 0
           },
           {
            "bin_start": 108.1,
            "bin_end": 110.8,
            "count": 0
           },
           {
            "bin_start": 110.8,
            "bin_end": 113.5,
            "count": 1
           },
           {
            "bin_start": 113.5,
            "bin_end": 116.2,
            "count": 0
           },
           {
            "bin_start": 116.2,
            "bin_end": 118.9,
            "count": 1
           },
           {
            "bin_start": 118.9,
            "bin_end": 121.6,
            "count": 0
           },
           {
            "bin_start": 121.6,
            "bin_end": 124.3,
            "count": 0
           },
           {
            "bin_start": 124.3,
            "bin_end": 127,
            "count": 1
           }
          ]
         }
        },
        {
         "name": "Total phenols",
         "dtype": "float64",
         "stats": {
          "unique_count": 3,
          "nan_count": 0,
          "min": "2.65",
          "max": "3.85",
          "histogram": [
           {
            "bin_start": 2.65,
            "bin_end": 2.77,
            "count": 1
           },
           {
            "bin_start": 2.77,
            "bin_end": 2.89,
            "count": 3
           },
           {
            "bin_start": 2.89,
            "bin_end": 3.01,
            "count": 0
           },
           {
            "bin_start": 3.01,
            "bin_end": 3.13,
            "count": 0
           },
           {
            "bin_start": 3.13,
            "bin_end": 3.25,
            "count": 0
           },
           {
            "bin_start": 3.25,
            "bin_end": 3.37,
            "count": 0
           },
           {
            "bin_start": 3.37,
            "bin_end": 3.49,
            "count": 0
           },
           {
            "bin_start": 3.49,
            "bin_end": 3.6100000000000003,
            "count": 0
           },
           {
            "bin_start": 3.6100000000000003,
            "bin_end": 3.7300000000000004,
            "count": 0
           },
           {
            "bin_start": 3.7300000000000004,
            "bin_end": 3.85,
            "count": 1
           }
          ]
         }
        },
        {
         "name": "Flavanoids",
         "dtype": "float64",
         "stats": {
          "unique_count": 5,
          "nan_count": 0,
          "min": "2.69",
          "max": "3.49",
          "histogram": [
           {
            "bin_start": 2.69,
            "bin_end": 2.77,
            "count": 2
           },
           {
            "bin_start": 2.77,
            "bin_end": 2.85,
            "count": 0
           },
           {
            "bin_start": 2.85,
            "bin_end": 2.93,
            "count": 0
           },
           {
            "bin_start": 2.93,
            "bin_end": 3.0100000000000002,
            "count": 0
           },
           {
            "bin_start": 3.0100000000000002,
            "bin_end": 3.09,
            "count": 1
           },
           {
            "bin_start": 3.09,
            "bin_end": 3.17,
            "count": 0
           },
           {
            "bin_start": 3.17,
            "bin_end": 3.25,
            "count": 1
           },
           {
            "bin_start": 3.25,
            "bin_end": 3.33,
            "count": 0
           },
           {
            "bin_start": 3.33,
            "bin_end": 3.41,
            "count": 0
           },
           {
            "bin_start": 3.41,
            "bin_end": 3.49,
            "count": 1
           }
          ]
         }
        },
        {
         "name": "Nonflavanoid phenols",
         "dtype": "float64",
         "stats": {
          "unique_count": 5,
          "nan_count": 0,
          "min": "0.24",
          "max": "0.39",
          "histogram": [
           {
            "bin_start": 0.24,
            "bin_end": 0.255,
            "count": 1
           },
           {
            "bin_start": 0.255,
            "bin_end": 0.27,
            "count": 1
           },
           {
            "bin_start": 0.27,
            "bin_end": 0.28500000000000003,
            "count": 1
           },
           {
            "bin_start": 0.28500000000000003,
            "bin_end": 0.3,
            "count": 0
           },
           {
            "bin_start": 0.3,
            "bin_end": 0.315,
            "count": 1
           },
           {
            "bin_start": 0.315,
            "bin_end": 0.33,
            "count": 0
           },
           {
            "bin_start": 0.33,
            "bin_end": 0.34500000000000003,
            "count": 0
           },
           {
            "bin_start": 0.34500000000000003,
            "bin_end": 0.36,
            "count": 0
           },
           {
            "bin_start": 0.36,
            "bin_end": 0.375,
            "count": 0
           },
           {
            "bin_start": 0.375,
            "bin_end": 0.39,
            "count": 1
           }
          ]
         }
        },
        {
         "name": "Proanthocyanins",
         "dtype": "float64",
         "stats": {
          "unique_count": 5,
          "nan_count": 0,
          "min": "1.28",
          "max": "2.81",
          "histogram": [
           {
            "bin_start": 1.28,
            "bin_end": 1.433,
            "count": 1
           },
           {
            "bin_start": 1.433,
            "bin_end": 1.586,
            "count": 0
           },
           {
            "bin_start": 1.586,
            "bin_end": 1.7389999999999999,
            "count": 0
           },
           {
            "bin_start": 1.7389999999999999,
            "bin_end": 1.892,
            "count": 1
           },
           {
            "bin_start": 1.892,
            "bin_end": 2.045,
            "count": 0
           },
           {
            "bin_start": 2.045,
            "bin_end": 2.198,
            "count": 1
           },
           {
            "bin_start": 2.198,
            "bin_end": 2.351,
            "count": 1
           },
           {
            "bin_start": 2.351,
            "bin_end": 2.504,
            "count": 0
           },
           {
            "bin_start": 2.504,
            "bin_end": 2.657,
            "count": 0
           },
           {
            "bin_start": 2.657,
            "bin_end": 2.81,
            "count": 1
           }
          ]
         }
        },
        {
         "name": "Color intensity",
         "dtype": "float64",
         "stats": {
          "unique_count": 5,
          "nan_count": 0,
          "min": "4.32",
          "max": "7.8",
          "histogram": [
           {
            "bin_start": 4.32,
            "bin_end": 4.668,
            "count": 2
           },
           {
            "bin_start": 4.668,
            "bin_end": 5.016,
            "count": 0
           },
           {
            "bin_start": 5.016,
            "bin_end": 5.364000000000001,
            "count": 0
           },
           {
            "bin_start": 5.364000000000001,
            "bin_end": 5.712,
            "count": 2
           },
           {
            "bin_start": 5.712,
            "bin_end": 6.0600000000000005,
            "count": 0
           },
           {
            "bin_start": 6.0600000000000005,
            "bin_end": 6.408,
            "count": 0
           },
           {
            "bin_start": 6.408,
            "bin_end": 6.756,
            "count": 0
           },
           {
            "bin_start": 6.756,
            "bin_end": 7.104,
            "count": 0
           },
           {
            "bin_start": 7.104,
            "bin_end": 7.452,
            "count": 0
           },
           {
            "bin_start": 7.452,
            "bin_end": 7.8,
            "count": 1
           }
          ]
         }
        },
        {
         "name": "Hue",
         "dtype": "float64",
         "stats": {
          "unique_count": 4,
          "nan_count": 0,
          "min": "0.86",
          "max": "1.05",
          "histogram": [
           {
            "bin_start": 0.86,
            "bin_end": 0.879,
            "count": 1
           },
           {
            "bin_start": 0.879,
            "bin_end": 0.898,
            "count": 0
           },
           {
            "bin_start": 0.898,
            "bin_end": 0.917,
            "count": 0
           },
           {
            "bin_start": 0.917,
            "bin_end": 0.936,
            "count": 0
           },
           {
            "bin_start": 0.936,
            "bin_end": 0.9550000000000001,
            "count": 0
           },
           {
            "bin_start": 0.9550000000000001,
            "bin_end": 0.974,
            "count": 0
           },
           {
            "bin_start": 0.974,
            "bin_end": 0.993,
            "count": 0
           },
           {
            "bin_start": 0.993,
            "bin_end": 1.012,
            "count": 0
           },
           {
            "bin_start": 1.012,
            "bin_end": 1.0310000000000001,
            "count": 1
           },
           {
            "bin_start": 1.0310000000000001,
            "bin_end": 1.05,
            "count": 3
           }
          ]
         }
        },
        {
         "name": "OD280/OD315 of diluted wines",
         "dtype": "float64",
         "stats": {
          "unique_count": 5,
          "nan_count": 0,
          "min": "2.93",
          "max": "3.92",
          "histogram": [
           {
            "bin_start": 2.93,
            "bin_end": 3.029,
            "count": 1
           },
           {
            "bin_start": 3.029,
            "bin_end": 3.128,
            "count": 0
           },
           {
            "bin_start": 3.128,
            "bin_end": 3.2270000000000003,
            "count": 1
           },
           {
            "bin_start": 3.2270000000000003,
            "bin_end": 3.326,
            "count": 0
           },
           {
            "bin_start": 3.326,
            "bin_end": 3.425,
            "count": 1
           },
           {
            "bin_start": 3.425,
            "bin_end": 3.524,
            "count": 1
           },
           {
            "bin_start": 3.524,
            "bin_end": 3.623,
            "count": 0
           },
           {
            "bin_start": 3.623,
            "bin_end": 3.722,
            "count": 0
           },
           {
            "bin_start": 3.722,
            "bin_end": 3.8209999999999997,
            "count": 0
           },
           {
            "bin_start": 3.8209999999999997,
            "bin_end": 3.92,
            "count": 1
           }
          ]
         }
        },
        {
         "name": "Proline",
         "dtype": "int64",
         "stats": {
          "unique_count": 5,
          "nan_count": 0,
          "min": "735",
          "max": "1480",
          "histogram": [
           {
            "bin_start": 735,
            "bin_end": 809.5,
            "count": 1
           },
           {
            "bin_start": 809.5,
            "bin_end": 884,
            "count": 0
           },
           {
            "bin_start": 884,
            "bin_end": 958.5,
            "count": 0
           },
           {
            "bin_start": 958.5,
            "bin_end": 1033,
            "count": 0
           },
           {
            "bin_start": 1033,
            "bin_end": 1107.5,
            "count": 2
           },
           {
            "bin_start": 1107.5,
            "bin_end": 1182,
            "count": 0
           },
           {
            "bin_start": 1182,
            "bin_end": 1256.5,
            "count": 1
           },
           {
            "bin_start": 1256.5,
            "bin_end": 1331,
            "count": 0
           },
           {
            "bin_start": 1331,
            "bin_end": 1405.5,
            "count": 0
           },
           {
            "bin_start": 1405.5,
            "bin_end": 1480,
            "count": 1
           }
          ]
         }
        },
        {
         "name": "_deepnote_index_column",
         "dtype": "int64"
        }
       ],
       "rows_top": [
        {
         "Label": "Class 1",
         "Alcohol": 14.23,
         "Malic Acid": 1.71,
         "Ash": 2.43,
         "Alcalinity of ash ": 15.6,
         "Magnesium": 127,
         "Total phenols": 2.8,
         "Flavanoids": 3.06,
         "Nonflavanoid phenols": 0.28,
         "Proanthocyanins": 2.29,
         "Color intensity": 5.64,
         "Hue": 1.04,
         "OD280/OD315 of diluted wines": 3.92,
         "Proline": 1065,
         "_deepnote_index_column": 0
        },
        {
         "Label": "Class 1",
         "Alcohol": 13.2,
         "Malic Acid": 1.78,
         "Ash": 2.14,
         "Alcalinity of ash ": 11.2,
         "Magnesium": 100,
         "Total phenols": 2.65,
         "Flavanoids": 2.76,
         "Nonflavanoid phenols": 0.26,
         "Proanthocyanins": 1.28,
         "Color intensity": 4.38,
         "Hue": 1.05,
         "OD280/OD315 of diluted wines": 3.4,
         "Proline": 1050,
         "_deepnote_index_column": 1
        },
        {
         "Label": "Class 1",
         "Alcohol": 13.16,
         "Malic Acid": 2.36,
         "Ash": 2.67,
         "Alcalinity of ash ": 18.6,
         "Magnesium": 101,
         "Total phenols": 2.8,
         "Flavanoids": 3.24,
         "Nonflavanoid phenols": 0.3,
         "Proanthocyanins": 2.81,
         "Color intensity": 5.68,
         "Hue": 1.03,
         "OD280/OD315 of diluted wines": 3.17,
         "Proline": 1185,
         "_deepnote_index_column": 2
        },
        {
         "Label": "Class 1",
         "Alcohol": 14.37,
         "Malic Acid": 1.95,
         "Ash": 2.5,
         "Alcalinity of ash ": 16.8,
         "Magnesium": 113,
         "Total phenols": 3.85,
         "Flavanoids": 3.49,
         "Nonflavanoid phenols": 0.24,
         "Proanthocyanins": 2.18,
         "Color intensity": 7.8,
         "Hue": 0.86,
         "OD280/OD315 of diluted wines": 3.45,
         "Proline": 1480,
         "_deepnote_index_column": 3
        },
        {
         "Label": "Class 1",
         "Alcohol": 13.24,
         "Malic Acid": 2.59,
         "Ash": 2.87,
         "Alcalinity of ash ": 21,
         "Magnesium": 118,
         "Total phenols": 2.8,
         "Flavanoids": 2.69,
         "Nonflavanoid phenols": 0.39,
         "Proanthocyanins": 1.82,
         "Color intensity": 4.32,
         "Hue": 1.04,
         "OD280/OD315 of diluted wines": 2.93,
         "Proline": 735,
         "_deepnote_index_column": 4
        }
       ],
       "rows_bottom": null
      },
      "text/plain": "     Label  Alcohol  Malic Acid   Ash  Alcalinity of ash   Magnesium  \\\n0  Class 1    14.23        1.71  2.43                15.6        127   \n1  Class 1    13.20        1.78  2.14                11.2        100   \n2  Class 1    13.16        2.36  2.67                18.6        101   \n3  Class 1    14.37        1.95  2.50                16.8        113   \n4  Class 1    13.24        2.59  2.87                21.0        118   \n\n   Total phenols  Flavanoids  Nonflavanoid phenols  Proanthocyanins  \\\n0           2.80        3.06                  0.28             2.29   \n1           2.65        2.76                  0.26             1.28   \n2           2.80        3.24                  0.30             2.81   \n3           3.85        3.49                  0.24             2.18   \n4           2.80        2.69                  0.39             1.82   \n\n   Color intensity   Hue  OD280/OD315 of diluted wines  Proline  \n0             5.64  1.04                          3.92     1065  \n1             4.38  1.05                          3.40     1050  \n2             5.68  1.03                          3.17     1185  \n3             7.80  0.86                          3.45     1480  \n4             4.32  1.04                          2.93      735  ",
      "text/html": "<div>\n<style scoped>\n    .dataframe tbody tr th:only-of-type {\n        vertical-align: middle;\n    }\n\n    .dataframe tbody tr th {\n        vertical-align: top;\n    }\n\n    .dataframe thead th {\n        text-align: right;\n    }\n</style>\n<table border=\"1\" class=\"dataframe\">\n  <thead>\n    <tr style=\"text-align: right;\">\n      <th></th>\n      <th>Label</th>\n      <th>Alcohol</th>\n      <th>Malic Acid</th>\n      <th>Ash</th>\n      <th>Alcalinity of ash</th>\n      <th>Magnesium</th>\n      <th>Total phenols</th>\n      <th>Flavanoids</th>\n      <th>Nonflavanoid phenols</th>\n      <th>Proanthocyanins</th>\n      <th>Color intensity</th>\n      <th>Hue</th>\n      <th>OD280/OD315 of diluted wines</th>\n      <th>Proline</th>\n    </tr>\n  </thead>\n  <tbody>\n    <tr>\n      <th>0</th>\n      <td>Class 1</td>\n      <td>14.23</td>\n      <td>1.71</td>\n      <td>2.43</td>\n      <td>15.6</td>\n      <td>127</td>\n      <td>2.80</td>\n      <td>3.06</td>\n      <td>0.28</td>\n      <td>2.29</td>\n      <td>5.64</td>\n      <td>1.04</td>\n      <td>3.92</td>\n      <td>1065</td>\n    </tr>\n    <tr>\n      <th>1</th>\n      <td>Class 1</td>\n      <td>13.20</td>\n      <td>1.78</td>\n      <td>2.14</td>\n      <td>11.2</td>\n      <td>100</td>\n      <td>2.65</td>\n      <td>2.76</td>\n      <td>0.26</td>\n      <td>1.28</td>\n      <td>4.38</td>\n      <td>1.05</td>\n      <td>3.40</td>\n      <td>1050</td>\n    </tr>\n    <tr>\n      <th>2</th>\n      <td>Class 1</td>\n      <td>13.16</td>\n      <td>2.36</td>\n      <td>2.67</td>\n      <td>18.6</td>\n      <td>101</td>\n      <td>2.80</td>\n      <td>3.24</td>\n      <td>0.30</td>\n      <td>2.81</td>\n      <td>5.68</td>\n      <td>1.03</td>\n      <td>3.17</td>\n      <td>1185</td>\n    </tr>\n    <tr>\n      <th>3</th>\n      <td>Class 1</td>\n      <td>14.37</td>\n      <td>1.95</td>\n      <td>2.50</td>\n      <td>16.8</td>\n      <td>113</td>\n      <td>3.85</td>\n      <td>3.49</td>\n      <td>0.24</td>\n      <td>2.18</td>\n      <td>7.80</td>\n      <td>0.86</td>\n      <td>3.45</td>\n      <td>1480</td>\n    </tr>\n    <tr>\n      <th>4</th>\n      <td>Class 1</td>\n      <td>13.24</td>\n      <td>2.59</td>\n      <td>2.87</td>\n      <td>21.0</td>\n      <td>118</td>\n      <td>2.80</td>\n      <td>2.69</td>\n      <td>0.39</td>\n      <td>1.82</td>\n      <td>4.32</td>\n      <td>1.04</td>\n      <td>2.93</td>\n      <td>735</td>\n    </tr>\n  </tbody>\n</table>\n</div>"
     },
     "metadata": {}
    }
   ]
  },
  {
   "cell_type": "code",
   "metadata": {
    "tags": [],
    "cell_id": "00017-18822f5a-b9df-4754-8231-13747695fd2b",
    "deepnote_to_be_reexecuted": false,
    "source_hash": "2676d114",
    "execution_start": 1635592762646,
    "execution_millis": 143,
    "deepnote_cell_type": "code"
   },
   "source": "df_wine.tail(5)",
   "execution_count": null,
   "outputs": [
    {
     "output_type": "execute_result",
     "execution_count": 5,
     "data": {
      "application/vnd.deepnote.dataframe.v2+json": {
       "row_count": 5,
       "column_count": 14,
       "columns": [
        {
         "name": "Label",
         "dtype": "object",
         "stats": {
          "unique_count": 1,
          "nan_count": 0,
          "categories": [
           {
            "name": "Class 3",
            "count": 5
           }
          ]
         }
        },
        {
         "name": "Alcohol",
         "dtype": "float64",
         "stats": {
          "unique_count": 5,
          "nan_count": 0,
          "min": "13.17",
          "max": "14.13",
          "histogram": [
           {
            "bin_start": 13.17,
            "bin_end": 13.266,
            "count": 1
           },
           {
            "bin_start": 13.266,
            "bin_end": 13.362,
            "count": 1
           },
           {
            "bin_start": 13.362,
            "bin_end": 13.458,
            "count": 1
           },
           {
            "bin_start": 13.458,
            "bin_end": 13.554,
            "count": 0
           },
           {
            "bin_start": 13.554,
            "bin_end": 13.65,
            "count": 0
           },
           {
            "bin_start": 13.65,
            "bin_end": 13.746,
            "count": 1
           },
           {
            "bin_start": 13.746,
            "bin_end": 13.842,
            "count": 0
           },
           {
            "bin_start": 13.842,
            "bin_end": 13.938,
            "count": 0
           },
           {
            "bin_start": 13.938,
            "bin_end": 14.034,
            "count": 0
           },
           {
            "bin_start": 14.034,
            "bin_end": 14.13,
            "count": 1
           }
          ]
         }
        },
        {
         "name": "Malic Acid",
         "dtype": "float64",
         "stats": {
          "unique_count": 5,
          "nan_count": 0,
          "min": "2.59",
          "max": "5.65",
          "histogram": [
           {
            "bin_start": 2.59,
            "bin_end": 2.896,
            "count": 1
           },
           {
            "bin_start": 2.896,
            "bin_end": 3.202,
            "count": 0
           },
           {
            "bin_start": 3.202,
            "bin_end": 3.508,
            "count": 0
           },
           {
            "bin_start": 3.508,
            "bin_end": 3.814,
            "count": 0
           },
           {
            "bin_start": 3.814,
            "bin_end": 4.12,
            "count": 2
           },
           {
            "bin_start": 4.12,
            "bin_end": 4.426,
            "count": 1
           },
           {
            "bin_start": 4.426,
            "bin_end": 4.732,
            "count": 0
           },
           {
            "bin_start": 4.732,
            "bin_end": 5.038,
            "count": 0
           },
           {
            "bin_start": 5.038,
            "bin_end": 5.344,
            "count": 0
           },
           {
            "bin_start": 5.344,
            "bin_end": 5.65,
            "count": 1
           }
          ]
         }
        },
        {
         "name": "Ash",
         "dtype": "float64",
         "stats": {
          "unique_count": 5,
          "nan_count": 0,
          "min": "2.26",
          "max": "2.74",
          "histogram": [
           {
            "bin_start": 2.26,
            "bin_end": 2.308,
            "count": 1
           },
           {
            "bin_start": 2.308,
            "bin_end": 2.356,
            "count": 0
           },
           {
            "bin_start": 2.356,
            "bin_end": 2.404,
            "count": 1
           },
           {
            "bin_start": 2.404,
            "bin_end": 2.452,
            "count": 1
           },
           {
            "bin_start": 2.452,
            "bin_end": 2.5,
            "count": 1
           },
           {
            "bin_start": 2.5,
            "bin_end": 2.548,
            "count": 0
           },
           {
            "bin_start": 2.548,
            "bin_end": 2.596,
            "count": 0
           },
           {
            "bin_start": 2.596,
            "bin_end": 2.644,
            "count": 0
           },
           {
            "bin_start": 2.644,
            "bin_end": 2.692,
            "count": 0
           },
           {
            "bin_start": 2.692,
            "bin_end": 2.74,
            "count": 1
           }
          ]
         }
        },
        {
         "name": "Alcalinity of ash ",
         "dtype": "float64",
         "stats": {
          "unique_count": 4,
          "nan_count": 0,
          "min": "20.0",
          "max": "24.5",
          "histogram": [
           {
            "bin_start": 20,
            "bin_end": 20.45,
            "count": 2
           },
           {
            "bin_start": 20.45,
            "bin_end": 20.9,
            "count": 1
           },
           {
            "bin_start": 20.9,
            "bin_end": 21.35,
            "count": 0
           },
           {
            "bin_start": 21.35,
            "bin_end": 21.8,
            "count": 0
           },
           {
            "bin_start": 21.8,
            "bin_end": 22.25,
            "count": 0
           },
           {
            "bin_start": 22.25,
            "bin_end": 22.7,
            "count": 0
           },
           {
            "bin_start": 22.7,
            "bin_end": 23.15,
            "count": 1
           },
           {
            "bin_start": 23.15,
            "bin_end": 23.6,
            "count": 0
           },
           {
            "bin_start": 23.6,
            "bin_end": 24.05,
            "count": 0
           },
           {
            "bin_start": 24.05,
            "bin_end": 24.5,
            "count": 1
           }
          ]
         }
        },
        {
         "name": "Magnesium",
         "dtype": "int64",
         "stats": {
          "unique_count": 4,
          "nan_count": 0,
          "min": "95",
          "max": "120",
          "histogram": [
           {
            "bin_start": 95,
            "bin_end": 97.5,
            "count": 2
           },
           {
            "bin_start": 97.5,
            "bin_end": 100,
            "count": 0
           },
           {
            "bin_start": 100,
            "bin_end": 102.5,
            "count": 1
           },
           {
            "bin_start": 102.5,
            "bin_end": 105,
            "count": 0
           },
           {
            "bin_start": 105,
            "bin_end": 107.5,
            "count": 0
           },
           {
            "bin_start": 107.5,
            "bin_end": 110,
            "count": 0
           },
           {
            "bin_start": 110,
            "bin_end": 112.5,
            "count": 0
           },
           {
            "bin_start": 112.5,
            "bin_end": 115,
            "count": 0
           },
           {
            "bin_start": 115,
            "bin_end": 117.5,
            "count": 0
           },
           {
            "bin_start": 117.5,
            "bin_end": 120,
            "count": 2
           }
          ]
         }
        },
        {
         "name": "Total phenols",
         "dtype": "float64",
         "stats": {
          "unique_count": 5,
          "nan_count": 0,
          "min": "1.59",
          "max": "2.05",
          "histogram": [
           {
            "bin_start": 1.59,
            "bin_end": 1.6360000000000001,
            "count": 1
           },
           {
            "bin_start": 1.6360000000000001,
            "bin_end": 1.682,
            "count": 2
           },
           {
            "bin_start": 1.682,
            "bin_end": 1.728,
            "count": 0
           },
           {
            "bin_start": 1.728,
            "bin_end": 1.774,
            "count": 0
           },
           {
            "bin_start": 1.774,
            "bin_end": 1.8199999999999998,
            "count": 1
           },
           {
            "bin_start": 1.8199999999999998,
            "bin_end": 1.8659999999999999,
            "count": 0
           },
           {
            "bin_start": 1.8659999999999999,
            "bin_end": 1.912,
            "count": 0
           },
           {
            "bin_start": 1.912,
            "bin_end": 1.9579999999999997,
            "count": 0
           },
           {
            "bin_start": 1.9579999999999997,
            "bin_end": 2.004,
            "count": 0
           },
           {
            "bin_start": 2.004,
            "bin_end": 2.05,
            "count": 1
           }
          ]
         }
        },
        {
         "name": "Flavanoids",
         "dtype": "float64",
         "stats": {
          "unique_count": 5,
          "nan_count": 0,
          "min": "0.61",
          "max": "0.76",
          "histogram": [
           {
            "bin_start": 0.61,
            "bin_end": 0.625,
            "count": 1
           },
           {
            "bin_start": 0.625,
            "bin_end": 0.64,
            "count": 0
           },
           {
            "bin_start": 0.64,
            "bin_end": 0.655,
            "count": 0
           },
           {
            "bin_start": 0.655,
            "bin_end": 0.67,
            "count": 0
           },
           {
            "bin_start": 0.67,
            "bin_end": 0.685,
            "count": 1
           },
           {
            "bin_start": 0.685,
            "bin_end": 0.7,
            "count": 1
           },
           {
            "bin_start": 0.7,
            "bin_end": 0.715,
            "count": 0
           },
           {
            "bin_start": 0.715,
            "bin_end": 0.73,
            "count": 0
           },
           {
            "bin_start": 0.73,
            "bin_end": 0.745,
            "count": 0
           },
           {
            "bin_start": 0.745,
            "bin_end": 0.76,
            "count": 2
           }
          ]
         }
        },
        {
         "name": "Nonflavanoid phenols",
         "dtype": "float64",
         "stats": {
          "unique_count": 4,
          "nan_count": 0,
          "min": "0.43",
          "max": "0.56",
          "histogram": [
           {
            "bin_start": 0.43,
            "bin_end": 0.443,
            "count": 2
           },
           {
            "bin_start": 0.443,
            "bin_end": 0.456,
            "count": 0
           },
           {
            "bin_start": 0.456,
            "bin_end": 0.46900000000000003,
            "count": 0
           },
           {
            "bin_start": 0.46900000000000003,
            "bin_end": 0.48200000000000004,
            "count": 0
           },
           {
            "bin_start": 0.48200000000000004,
            "bin_end": 0.495,
            "count": 0
           },
           {
            "bin_start": 0.495,
            "bin_end": 0.508,
            "count": 0
           },
           {
            "bin_start": 0.508,
            "bin_end": 0.521,
            "count": 1
           },
           {
            "bin_start": 0.521,
            "bin_end": 0.534,
            "count": 1
           },
           {
            "bin_start": 0.534,
            "bin_end": 0.547,
            "count": 0
           },
           {
            "bin_start": 0.547,
            "bin_end": 0.56,
            "count": 1
           }
          ]
         }
        },
        {
         "name": "Proanthocyanins",
         "dtype": "float64",
         "stats": {
          "unique_count": 4,
          "nan_count": 0,
          "min": "1.06",
          "max": "1.46",
          "histogram": [
           {
            "bin_start": 1.06,
            "bin_end": 1.1,
            "count": 1
           },
           {
            "bin_start": 1.1,
            "bin_end": 1.1400000000000001,
            "count": 0
           },
           {
            "bin_start": 1.1400000000000001,
            "bin_end": 1.18,
            "count": 0
           },
           {
            "bin_start": 1.18,
            "bin_end": 1.22,
            "count": 0
           },
           {
            "bin_start": 1.22,
            "bin_end": 1.26,
            "count": 0
           },
           {
            "bin_start": 1.26,
            "bin_end": 1.3,
            "count": 0
           },
           {
            "bin_start": 1.3,
            "bin_end": 1.34,
            "count": 0
           },
           {
            "bin_start": 1.34,
            "bin_end": 1.38,
            "count": 2
           },
           {
            "bin_start": 1.38,
            "bin_end": 1.42,
            "count": 1
           },
           {
            "bin_start": 1.42,
            "bin_end": 1.46,
            "count": 1
           }
          ]
         }
        },
        {
         "name": "Color intensity",
         "dtype": "float64",
         "stats": {
          "unique_count": 5,
          "nan_count": 0,
          "min": "7.3",
          "max": "10.2",
          "histogram": [
           {
            "bin_start": 7.3,
            "bin_end": 7.59,
            "count": 1
           },
           {
            "bin_start": 7.59,
            "bin_end": 7.88,
            "count": 1
           },
           {
            "bin_start": 7.88,
            "bin_end": 8.17,
            "count": 0
           },
           {
            "bin_start": 8.17,
            "bin_end": 8.459999999999999,
            "count": 0
           },
           {
            "bin_start": 8.459999999999999,
            "bin_end": 8.75,
            "count": 0
           },
           {
            "bin_start": 8.75,
            "bin_end": 9.04,
            "count": 0
           },
           {
            "bin_start": 9.04,
            "bin_end": 9.329999999999998,
            "count": 2
           },
           {
            "bin_start": 9.329999999999998,
            "bin_end": 9.62,
            "count": 0
           },
           {
            "bin_start": 9.62,
            "bin_end": 9.91,
            "count": 0
           },
           {
            "bin_start": 9.91,
            "bin_end": 10.2,
            "count": 1
           }
          ]
         }
        },
        {
         "name": "Hue",
         "dtype": "float64",
         "stats": {
          "unique_count": 5,
          "nan_count": 0,
          "min": "0.59",
          "max": "0.7",
          "histogram": [
           {
            "bin_start": 0.59,
            "bin_end": 0.601,
            "count": 2
           },
           {
            "bin_start": 0.601,
            "bin_end": 0.612,
            "count": 1
           },
           {
            "bin_start": 0.612,
            "bin_end": 0.623,
            "count": 0
           },
           {
            "bin_start": 0.623,
            "bin_end": 0.634,
            "count": 0
           },
           {
            "bin_start": 0.634,
            "bin_end": 0.645,
            "count": 1
           },
           {
            "bin_start": 0.645,
            "bin_end": 0.6559999999999999,
            "count": 0
           },
           {
            "bin_start": 0.6559999999999999,
            "bin_end": 0.6669999999999999,
            "count": 0
           },
           {
            "bin_start": 0.6669999999999999,
            "bin_end": 0.6779999999999999,
            "count": 0
           },
           {
            "bin_start": 0.6779999999999999,
            "bin_end": 0.689,
            "count": 0
           },
           {
            "bin_start": 0.689,
            "bin_end": 0.7,
            "count": 1
           }
          ]
         }
        },
        {
         "name": "OD280/OD315 of diluted wines",
         "dtype": "float64",
         "stats": {
          "unique_count": 4,
          "nan_count": 0,
          "min": "1.56",
          "max": "1.74",
          "histogram": [
           {
            "bin_start": 1.56,
            "bin_end": 1.578,
            "count": 2
           },
           {
            "bin_start": 1.578,
            "bin_end": 1.596,
            "count": 0
           },
           {
            "bin_start": 1.596,
            "bin_end": 1.614,
            "count": 1
           },
           {
            "bin_start": 1.614,
            "bin_end": 1.6320000000000001,
            "count": 1
           },
           {
            "bin_start": 1.6320000000000001,
            "bin_end": 1.65,
            "count": 0
           },
           {
            "bin_start": 1.65,
            "bin_end": 1.668,
            "count": 0
           },
           {
            "bin_start": 1.668,
            "bin_end": 1.686,
            "count": 0
           },
           {
            "bin_start": 1.686,
            "bin_end": 1.704,
            "count": 0
           },
           {
            "bin_start": 1.704,
            "bin_end": 1.722,
            "count": 0
           },
           {
            "bin_start": 1.722,
            "bin_end": 1.74,
            "count": 1
           }
          ]
         }
        },
        {
         "name": "Proline",
         "dtype": "int64",
         "stats": {
          "unique_count": 5,
          "nan_count": 0,
          "min": "560",
          "max": "840",
          "histogram": [
           {
            "bin_start": 560,
            "bin_end": 588,
            "count": 1
           },
           {
            "bin_start": 588,
            "bin_end": 616,
            "count": 0
           },
           {
            "bin_start": 616,
            "bin_end": 644,
            "count": 0
           },
           {
            "bin_start": 644,
            "bin_end": 672,
            "count": 0
           },
           {
            "bin_start": 672,
            "bin_end": 700,
            "count": 0
           },
           {
            "bin_start": 700,
            "bin_end": 728,
            "count": 0
           },
           {
            "bin_start": 728,
            "bin_end": 756,
            "count": 2
           },
           {
            "bin_start": 756,
            "bin_end": 784,
            "count": 0
           },
           {
            "bin_start": 784,
            "bin_end": 812,
            "count": 0
           },
           {
            "bin_start": 812,
            "bin_end": 840,
            "count": 2
           }
          ]
         }
        },
        {
         "name": "_deepnote_index_column",
         "dtype": "int64"
        }
       ],
       "rows_top": [
        {
         "Label": "Class 3",
         "Alcohol": 13.71,
         "Malic Acid": 5.65,
         "Ash": 2.45,
         "Alcalinity of ash ": 20.5,
         "Magnesium": 95,
         "Total phenols": 1.68,
         "Flavanoids": 0.61,
         "Nonflavanoid phenols": 0.52,
         "Proanthocyanins": 1.06,
         "Color intensity": 7.7,
         "Hue": 0.64,
         "OD280/OD315 of diluted wines": 1.74,
         "Proline": 740,
         "_deepnote_index_column": 173
        },
        {
         "Label": "Class 3",
         "Alcohol": 13.4,
         "Malic Acid": 3.91,
         "Ash": 2.48,
         "Alcalinity of ash ": 23,
         "Magnesium": 102,
         "Total phenols": 1.8,
         "Flavanoids": 0.75,
         "Nonflavanoid phenols": 0.43,
         "Proanthocyanins": 1.41,
         "Color intensity": 7.3,
         "Hue": 0.7,
         "OD280/OD315 of diluted wines": 1.56,
         "Proline": 750,
         "_deepnote_index_column": 174
        },
        {
         "Label": "Class 3",
         "Alcohol": 13.27,
         "Malic Acid": 4.28,
         "Ash": 2.26,
         "Alcalinity of ash ": 20,
         "Magnesium": 120,
         "Total phenols": 1.59,
         "Flavanoids": 0.69,
         "Nonflavanoid phenols": 0.43,
         "Proanthocyanins": 1.35,
         "Color intensity": 10.2,
         "Hue": 0.59,
         "OD280/OD315 of diluted wines": 1.56,
         "Proline": 835,
         "_deepnote_index_column": 175
        },
        {
         "Label": "Class 3",
         "Alcohol": 13.17,
         "Malic Acid": 2.59,
         "Ash": 2.37,
         "Alcalinity of ash ": 20,
         "Magnesium": 120,
         "Total phenols": 1.65,
         "Flavanoids": 0.68,
         "Nonflavanoid phenols": 0.53,
         "Proanthocyanins": 1.46,
         "Color intensity": 9.3,
         "Hue": 0.6,
         "OD280/OD315 of diluted wines": 1.62,
         "Proline": 840,
         "_deepnote_index_column": 176
        },
        {
         "Label": "Class 3",
         "Alcohol": 14.13,
         "Malic Acid": 4.1,
         "Ash": 2.74,
         "Alcalinity of ash ": 24.5,
         "Magnesium": 96,
         "Total phenols": 2.05,
         "Flavanoids": 0.76,
         "Nonflavanoid phenols": 0.56,
         "Proanthocyanins": 1.35,
         "Color intensity": 9.2,
         "Hue": 0.61,
         "OD280/OD315 of diluted wines": 1.6,
         "Proline": 560,
         "_deepnote_index_column": 177
        }
       ],
       "rows_bottom": null
      },
      "text/plain": "       Label  Alcohol  Malic Acid   Ash  Alcalinity of ash   Magnesium  \\\n173  Class 3    13.71        5.65  2.45                20.5         95   \n174  Class 3    13.40        3.91  2.48                23.0        102   \n175  Class 3    13.27        4.28  2.26                20.0        120   \n176  Class 3    13.17        2.59  2.37                20.0        120   \n177  Class 3    14.13        4.10  2.74                24.5         96   \n\n     Total phenols  Flavanoids  Nonflavanoid phenols  Proanthocyanins  \\\n173           1.68        0.61                  0.52             1.06   \n174           1.80        0.75                  0.43             1.41   \n175           1.59        0.69                  0.43             1.35   \n176           1.65        0.68                  0.53             1.46   \n177           2.05        0.76                  0.56             1.35   \n\n     Color intensity   Hue  OD280/OD315 of diluted wines  Proline  \n173              7.7  0.64                          1.74      740  \n174              7.3  0.70                          1.56      750  \n175             10.2  0.59                          1.56      835  \n176              9.3  0.60                          1.62      840  \n177              9.2  0.61                          1.60      560  ",
      "text/html": "<div>\n<style scoped>\n    .dataframe tbody tr th:only-of-type {\n        vertical-align: middle;\n    }\n\n    .dataframe tbody tr th {\n        vertical-align: top;\n    }\n\n    .dataframe thead th {\n        text-align: right;\n    }\n</style>\n<table border=\"1\" class=\"dataframe\">\n  <thead>\n    <tr style=\"text-align: right;\">\n      <th></th>\n      <th>Label</th>\n      <th>Alcohol</th>\n      <th>Malic Acid</th>\n      <th>Ash</th>\n      <th>Alcalinity of ash</th>\n      <th>Magnesium</th>\n      <th>Total phenols</th>\n      <th>Flavanoids</th>\n      <th>Nonflavanoid phenols</th>\n      <th>Proanthocyanins</th>\n      <th>Color intensity</th>\n      <th>Hue</th>\n      <th>OD280/OD315 of diluted wines</th>\n      <th>Proline</th>\n    </tr>\n  </thead>\n  <tbody>\n    <tr>\n      <th>173</th>\n      <td>Class 3</td>\n      <td>13.71</td>\n      <td>5.65</td>\n      <td>2.45</td>\n      <td>20.5</td>\n      <td>95</td>\n      <td>1.68</td>\n      <td>0.61</td>\n      <td>0.52</td>\n      <td>1.06</td>\n      <td>7.7</td>\n      <td>0.64</td>\n      <td>1.74</td>\n      <td>740</td>\n    </tr>\n    <tr>\n      <th>174</th>\n      <td>Class 3</td>\n      <td>13.40</td>\n      <td>3.91</td>\n      <td>2.48</td>\n      <td>23.0</td>\n      <td>102</td>\n      <td>1.80</td>\n      <td>0.75</td>\n      <td>0.43</td>\n      <td>1.41</td>\n      <td>7.3</td>\n      <td>0.70</td>\n      <td>1.56</td>\n      <td>750</td>\n    </tr>\n    <tr>\n      <th>175</th>\n      <td>Class 3</td>\n      <td>13.27</td>\n      <td>4.28</td>\n      <td>2.26</td>\n      <td>20.0</td>\n      <td>120</td>\n      <td>1.59</td>\n      <td>0.69</td>\n      <td>0.43</td>\n      <td>1.35</td>\n      <td>10.2</td>\n      <td>0.59</td>\n      <td>1.56</td>\n      <td>835</td>\n    </tr>\n    <tr>\n      <th>176</th>\n      <td>Class 3</td>\n      <td>13.17</td>\n      <td>2.59</td>\n      <td>2.37</td>\n      <td>20.0</td>\n      <td>120</td>\n      <td>1.65</td>\n      <td>0.68</td>\n      <td>0.53</td>\n      <td>1.46</td>\n      <td>9.3</td>\n      <td>0.60</td>\n      <td>1.62</td>\n      <td>840</td>\n    </tr>\n    <tr>\n      <th>177</th>\n      <td>Class 3</td>\n      <td>14.13</td>\n      <td>4.10</td>\n      <td>2.74</td>\n      <td>24.5</td>\n      <td>96</td>\n      <td>2.05</td>\n      <td>0.76</td>\n      <td>0.56</td>\n      <td>1.35</td>\n      <td>9.2</td>\n      <td>0.61</td>\n      <td>1.60</td>\n      <td>560</td>\n    </tr>\n  </tbody>\n</table>\n</div>"
     },
     "metadata": {}
    }
   ]
  },
  {
   "cell_type": "code",
   "metadata": {
    "tags": [],
    "cell_id": "00018-86c6c7b8-faa1-4328-80ff-c59edf830123",
    "deepnote_to_be_reexecuted": false,
    "source_hash": "403dee8f",
    "execution_start": 1635592765444,
    "execution_millis": 20,
    "deepnote_cell_type": "code",
    "deepnote_output_heights": [
     21.1875
    ]
   },
   "source": "#Let's look at the shape of our dataset\ndf_wine.shape",
   "execution_count": null,
   "outputs": [
    {
     "output_type": "execute_result",
     "execution_count": 6,
     "data": {
      "text/plain": "(178, 14)"
     },
     "metadata": {}
    }
   ]
  },
  {
   "cell_type": "code",
   "metadata": {
    "tags": [],
    "cell_id": "00019-155b982f-c9e0-45cf-b165-f57834aadf39",
    "deepnote_to_be_reexecuted": false,
    "source_hash": "4059f6e5",
    "execution_start": 1635592767793,
    "execution_millis": 7,
    "deepnote_cell_type": "code",
    "deepnote_output_heights": [
     98.015625
    ]
   },
   "source": "#Let's look at the columns of our dataset\ndf_wine.columns",
   "execution_count": null,
   "outputs": [
    {
     "output_type": "execute_result",
     "execution_count": 7,
     "data": {
      "text/plain": "Index(['Label', 'Alcohol', 'Malic Acid', 'Ash', 'Alcalinity of ash ',\n       'Magnesium', 'Total phenols', 'Flavanoids', 'Nonflavanoid phenols',\n       'Proanthocyanins', 'Color intensity', 'Hue',\n       'OD280/OD315 of diluted wines', 'Proline'],\n      dtype='object')"
     },
     "metadata": {}
    }
   ]
  },
  {
   "cell_type": "code",
   "metadata": {
    "tags": [],
    "cell_id": "00020-4e68fa63-23ee-4583-88ec-569c2f5746b9",
    "deepnote_to_be_reexecuted": false,
    "source_hash": "c7db5a6",
    "execution_start": 1635592768539,
    "execution_millis": 22,
    "deepnote_cell_type": "code",
    "deepnote_output_heights": [
     78.8125
    ]
   },
   "source": "#Let's see how much data we have for each alcohol label\ndf_wine[\"Label\"].value_counts()",
   "execution_count": null,
   "outputs": [
    {
     "output_type": "execute_result",
     "execution_count": 8,
     "data": {
      "text/plain": "Class 2    71\nClass 1    59\nClass 3    48\nName: Label, dtype: int64"
     },
     "metadata": {}
    }
   ]
  },
  {
   "cell_type": "code",
   "metadata": {
    "tags": [],
    "cell_id": "00021-9b988dbd-32df-4a2d-a5ac-182d9e32b02a",
    "deepnote_to_be_reexecuted": false,
    "source_hash": "9c4ce751",
    "execution_start": 1635592779104,
    "execution_millis": 352,
    "deepnote_cell_type": "code"
   },
   "source": "#Drop the nan values and see the shape of outcomes \ndf_out = df_wine.dropna()\ndf_out.describe(include=\"all\")",
   "execution_count": null,
   "outputs": [
    {
     "output_type": "execute_result",
     "execution_count": 9,
     "data": {
      "application/vnd.deepnote.dataframe.v2+json": {
       "row_count": 11,
       "column_count": 14,
       "columns": [
        {
         "name": "Label",
         "dtype": "object",
         "stats": {
          "unique_count": 4,
          "nan_count": 7,
          "categories": [
           {
            "name": "178",
            "count": 1
           },
           {
            "name": "3 others",
            "count": 3
           },
           {
            "name": "Missing",
            "count": 7
           }
          ]
         }
        },
        {
         "name": "Alcohol",
         "dtype": "float64",
         "stats": {
          "unique_count": 8,
          "nan_count": 3,
          "min": "0.8118265380058575",
          "max": "178.0",
          "histogram": [
           {
            "bin_start": 0.8118265380058575,
            "bin_end": 18.530643884205272,
            "count": 7
           },
           {
            "bin_start": 18.530643884205272,
            "bin_end": 36.24946123040469,
            "count": 0
           },
           {
            "bin_start": 36.24946123040469,
            "bin_end": 53.968278576604106,
            "count": 0
           },
           {
            "bin_start": 53.968278576604106,
            "bin_end": 71.68709592280352,
            "count": 0
           },
           {
            "bin_start": 71.68709592280352,
            "bin_end": 89.40591326900294,
            "count": 0
           },
           {
            "bin_start": 89.40591326900294,
            "bin_end": 107.12473061520235,
            "count": 0
           },
           {
            "bin_start": 107.12473061520235,
            "bin_end": 124.84354796140177,
            "count": 0
           },
           {
            "bin_start": 124.84354796140177,
            "bin_end": 142.56236530760117,
            "count": 0
           },
           {
            "bin_start": 142.56236530760117,
            "bin_end": 160.28118265380058,
            "count": 0
           },
           {
            "bin_start": 160.28118265380058,
            "bin_end": 178,
            "count": 1
           }
          ]
         }
        },
        {
         "name": "Malic Acid",
         "dtype": "float64",
         "stats": {
          "unique_count": 8,
          "nan_count": 3,
          "min": "0.74",
          "max": "178.0",
          "histogram": [
           {
            "bin_start": 0.74,
            "bin_end": 18.465999999999998,
            "count": 7
           },
           {
            "bin_start": 18.465999999999998,
            "bin_end": 36.192,
            "count": 0
           },
           {
            "bin_start": 36.192,
            "bin_end": 53.918,
            "count": 0
           },
           {
            "bin_start": 53.918,
            "bin_end": 71.64399999999999,
            "count": 0
           },
           {
            "bin_start": 71.64399999999999,
            "bin_end": 89.36999999999999,
            "count": 0
           },
           {
            "bin_start": 89.36999999999999,
            "bin_end": 107.09599999999999,
            "count": 0
           },
           {
            "bin_start": 107.09599999999999,
            "bin_end": 124.82199999999999,
            "count": 0
           },
           {
            "bin_start": 124.82199999999999,
            "bin_end": 142.548,
            "count": 0
           },
           {
            "bin_start": 142.548,
            "bin_end": 160.274,
            "count": 0
           },
           {
            "bin_start": 160.274,
            "bin_end": 178,
            "count": 1
           }
          ]
         }
        },
        {
         "name": "Ash",
         "dtype": "float64",
         "stats": {
          "unique_count": 8,
          "nan_count": 3,
          "min": "0.27434400906081485",
          "max": "178.0",
          "histogram": [
           {
            "bin_start": 0.27434400906081485,
            "bin_end": 18.04690960815473,
            "count": 7
           },
           {
            "bin_start": 18.04690960815473,
            "bin_end": 35.819475207248644,
            "count": 0
           },
           {
            "bin_start": 35.819475207248644,
            "bin_end": 53.59204080634256,
            "count": 0
           },
           {
            "bin_start": 53.59204080634256,
            "bin_end": 71.36460640543648,
            "count": 0
           },
           {
            "bin_start": 71.36460640543648,
            "bin_end": 89.1371720045304,
            "count": 0
           },
           {
            "bin_start": 89.1371720045304,
            "bin_end": 106.90973760362431,
            "count": 0
           },
           {
            "bin_start": 106.90973760362431,
            "bin_end": 124.68230320271822,
            "count": 0
           },
           {
            "bin_start": 124.68230320271822,
            "bin_end": 142.45486880181215,
            "count": 0
           },
           {
            "bin_start": 142.45486880181215,
            "bin_end": 160.22743440090608,
            "count": 0
           },
           {
            "bin_start": 160.22743440090608,
            "bin_end": 178,
            "count": 1
           }
          ]
         }
        },
        {
         "name": "Alcalinity of ash ",
         "dtype": "float64",
         "stats": {
          "unique_count": 8,
          "nan_count": 3,
          "min": "3.339563767173505",
          "max": "178.0",
          "histogram": [
           {
            "bin_start": 3.339563767173505,
            "bin_end": 20.805607390456156,
            "count": 5
           },
           {
            "bin_start": 20.805607390456156,
            "bin_end": 38.271651013738804,
            "count": 2
           },
           {
            "bin_start": 38.271651013738804,
            "bin_end": 55.737694637021455,
            "count": 0
           },
           {
            "bin_start": 55.737694637021455,
            "bin_end": 73.2037382603041,
            "count": 0
           },
           {
            "bin_start": 73.2037382603041,
            "bin_end": 90.66978188358675,
            "count": 0
           },
           {
            "bin_start": 90.66978188358675,
            "bin_end": 108.13582550686941,
            "count": 0
           },
           {
            "bin_start": 108.13582550686941,
            "bin_end": 125.60186913015207,
            "count": 0
           },
           {
            "bin_start": 125.60186913015207,
            "bin_end": 143.0679127534347,
            "count": 0
           },
           {
            "bin_start": 143.0679127534347,
            "bin_end": 160.53395637671736,
            "count": 0
           },
           {
            "bin_start": 160.53395637671736,
            "bin_end": 178,
            "count": 1
           }
          ]
         }
        },
        {
         "name": "Magnesium",
         "dtype": "float64",
         "stats": {
          "unique_count": 8,
          "nan_count": 3,
          "min": "14.282483515295665",
          "max": "178.0",
          "histogram": [
           {
            "bin_start": 14.282483515295665,
            "bin_end": 30.654235163766096,
            "count": 1
           },
           {
            "bin_start": 30.654235163766096,
            "bin_end": 47.02598681223653,
            "count": 0
           },
           {
            "bin_start": 47.02598681223653,
            "bin_end": 63.39773846070696,
            "count": 0
           },
           {
            "bin_start": 63.39773846070696,
            "bin_end": 79.7694901091774,
            "count": 1
           },
           {
            "bin_start": 79.7694901091774,
            "bin_end": 96.14124175764783,
            "count": 1
           },
           {
            "bin_start": 96.14124175764783,
            "bin_end": 112.51299340611826,
            "count": 3
           },
           {
            "bin_start": 112.51299340611826,
            "bin_end": 128.88474505458868,
            "count": 0
           },
           {
            "bin_start": 128.88474505458868,
            "bin_end": 145.25649670305913,
            "count": 0
           },
           {
            "bin_start": 145.25649670305913,
            "bin_end": 161.62824835152955,
            "count": 0
           },
           {
            "bin_start": 161.62824835152955,
            "bin_end": 178,
            "count": 2
           }
          ]
         }
        },
        {
         "name": "Total phenols",
         "dtype": "float64",
         "stats": {
          "unique_count": 8,
          "nan_count": 3,
          "min": "0.6258510488339893",
          "max": "178.0",
          "histogram": [
           {
            "bin_start": 0.6258510488339893,
            "bin_end": 18.36326594395059,
            "count": 7
           },
           {
            "bin_start": 18.36326594395059,
            "bin_end": 36.10068083906719,
            "count": 0
           },
           {
            "bin_start": 36.10068083906719,
            "bin_end": 53.83809573418379,
            "count": 0
           },
           {
            "bin_start": 53.83809573418379,
            "bin_end": 71.5755106293004,
            "count": 0
           },
           {
            "bin_start": 71.5755106293004,
            "bin_end": 89.312925524417,
            "count": 0
           },
           {
            "bin_start": 89.312925524417,
            "bin_end": 107.0503404195336,
            "count": 0
           },
           {
            "bin_start": 107.0503404195336,
            "bin_end": 124.7877553146502,
            "count": 0
           },
           {
            "bin_start": 124.7877553146502,
            "bin_end": 142.5251702097668,
            "count": 0
           },
           {
            "bin_start": 142.5251702097668,
            "bin_end": 160.2625851048834,
            "count": 0
           },
           {
            "bin_start": 160.2625851048834,
            "bin_end": 178,
            "count": 1
           }
          ]
         }
        },
        {
         "name": "Flavanoids",
         "dtype": "float64",
         "stats": {
          "unique_count": 8,
          "nan_count": 3,
          "min": "0.34",
          "max": "178.0",
          "histogram": [
           {
            "bin_start": 0.34,
            "bin_end": 18.105999999999998,
            "count": 7
           },
           {
            "bin_start": 18.105999999999998,
            "bin_end": 35.872,
            "count": 0
           },
           {
            "bin_start": 35.872,
            "bin_end": 53.638,
            "count": 0
           },
           {
            "bin_start": 53.638,
            "bin_end": 71.404,
            "count": 0
           },
           {
            "bin_start": 71.404,
            "bin_end": 89.16999999999999,
            "count": 0
           },
           {
            "bin_start": 89.16999999999999,
            "bin_end": 106.93599999999999,
            "count": 0
           },
           {
            "bin_start": 106.93599999999999,
            "bin_end": 124.702,
            "count": 0
           },
           {
            "bin_start": 124.702,
            "bin_end": 142.468,
            "count": 0
           },
           {
            "bin_start": 142.468,
            "bin_end": 160.23399999999998,
            "count": 0
           },
           {
            "bin_start": 160.23399999999998,
            "bin_end": 178,
            "count": 1
           }
          ]
         }
        },
        {
         "name": "Nonflavanoid phenols",
         "dtype": "float64",
         "stats": {
          "unique_count": 8,
          "nan_count": 3,
          "min": "0.12445334029667937",
          "max": "178.0",
          "histogram": [
           {
            "bin_start": 0.12445334029667937,
            "bin_end": 17.912008006267012,
            "count": 7
           },
           {
            "bin_start": 17.912008006267012,
            "bin_end": 35.69956267223735,
            "count": 0
           },
           {
            "bin_start": 35.69956267223735,
            "bin_end": 53.48711733820768,
            "count": 0
           },
           {
            "bin_start": 53.48711733820768,
            "bin_end": 71.27467200417802,
            "count": 0
           },
           {
            "bin_start": 71.27467200417802,
            "bin_end": 89.06222667014835,
            "count": 0
           },
           {
            "bin_start": 89.06222667014835,
            "bin_end": 106.84978133611868,
            "count": 0
           },
           {
            "bin_start": 106.84978133611868,
            "bin_end": 124.63733600208901,
            "count": 0
           },
           {
            "bin_start": 124.63733600208901,
            "bin_end": 142.42489066805933,
            "count": 0
           },
           {
            "bin_start": 142.42489066805933,
            "bin_end": 160.21244533402967,
            "count": 0
           },
           {
            "bin_start": 160.21244533402967,
            "bin_end": 178,
            "count": 1
           }
          ]
         }
        },
        {
         "name": "Proanthocyanins",
         "dtype": "float64",
         "stats": {
          "unique_count": 8,
          "nan_count": 3,
          "min": "0.41",
          "max": "178.0",
          "histogram": [
           {
            "bin_start": 0.41,
            "bin_end": 18.169,
            "count": 7
           },
           {
            "bin_start": 18.169,
            "bin_end": 35.928,
            "count": 0
           },
           {
            "bin_start": 35.928,
            "bin_end": 53.687,
            "count": 0
           },
           {
            "bin_start": 53.687,
            "bin_end": 71.446,
            "count": 0
           },
           {
            "bin_start": 71.446,
            "bin_end": 89.205,
            "count": 0
           },
           {
            "bin_start": 89.205,
            "bin_end": 106.964,
            "count": 0
           },
           {
            "bin_start": 106.964,
            "bin_end": 124.723,
            "count": 0
           },
           {
            "bin_start": 124.723,
            "bin_end": 142.482,
            "count": 0
           },
           {
            "bin_start": 142.482,
            "bin_end": 160.241,
            "count": 0
           },
           {
            "bin_start": 160.241,
            "bin_end": 178,
            "count": 1
           }
          ]
         }
        },
        {
         "name": "Color intensity",
         "dtype": "float64",
         "stats": {
          "unique_count": 8,
          "nan_count": 3,
          "min": "1.28",
          "max": "178.0",
          "histogram": [
           {
            "bin_start": 1.28,
            "bin_end": 18.952,
            "count": 7
           },
           {
            "bin_start": 18.952,
            "bin_end": 36.624,
            "count": 0
           },
           {
            "bin_start": 36.624,
            "bin_end": 54.29600000000001,
            "count": 0
           },
           {
            "bin_start": 54.29600000000001,
            "bin_end": 71.968,
            "count": 0
           },
           {
            "bin_start": 71.968,
            "bin_end": 89.64,
            "count": 0
           },
           {
            "bin_start": 89.64,
            "bin_end": 107.31200000000001,
            "count": 0
           },
           {
            "bin_start": 107.31200000000001,
            "bin_end": 124.98400000000001,
            "count": 0
           },
           {
            "bin_start": 124.98400000000001,
            "bin_end": 142.656,
            "count": 0
           },
           {
            "bin_start": 142.656,
            "bin_end": 160.328,
            "count": 0
           },
           {
            "bin_start": 160.328,
            "bin_end": 178,
            "count": 1
           }
          ]
         }
        },
        {
         "name": "Hue",
         "dtype": "float64",
         "stats": {
          "unique_count": 8,
          "nan_count": 3,
          "min": "0.22857156582982338",
          "max": "178.0",
          "histogram": [
           {
            "bin_start": 0.22857156582982338,
            "bin_end": 18.005714409246842,
            "count": 7
           },
           {
            "bin_start": 18.005714409246842,
            "bin_end": 35.78285725266386,
            "count": 0
           },
           {
            "bin_start": 35.78285725266386,
            "bin_end": 53.56000009608088,
            "count": 0
           },
           {
            "bin_start": 53.56000009608088,
            "bin_end": 71.3371429394979,
            "count": 0
           },
           {
            "bin_start": 71.3371429394979,
            "bin_end": 89.1142857829149,
            "count": 0
           },
           {
            "bin_start": 89.1142857829149,
            "bin_end": 106.89142862633193,
            "count": 0
           },
           {
            "bin_start": 106.89142862633193,
            "bin_end": 124.66857146974895,
            "count": 0
           },
           {
            "bin_start": 124.66857146974895,
            "bin_end": 142.44571431316595,
            "count": 0
           },
           {
            "bin_start": 142.44571431316595,
            "bin_end": 160.22285715658296,
            "count": 0
           },
           {
            "bin_start": 160.22285715658296,
            "bin_end": 178,
            "count": 1
           }
          ]
         }
        },
        {
         "name": "OD280/OD315 of diluted wines",
         "dtype": "float64",
         "stats": {
          "unique_count": 8,
          "nan_count": 3,
          "min": "0.7099904287650504",
          "max": "178.0",
          "histogram": [
           {
            "bin_start": 0.7099904287650504,
            "bin_end": 18.438991385888546,
            "count": 7
           },
           {
            "bin_start": 18.438991385888546,
            "bin_end": 36.167992343012045,
            "count": 0
           },
           {
            "bin_start": 36.167992343012045,
            "bin_end": 53.89699330013554,
            "count": 0
           },
           {
            "bin_start": 53.89699330013554,
            "bin_end": 71.62599425725904,
            "count": 0
           },
           {
            "bin_start": 71.62599425725904,
            "bin_end": 89.35499521438254,
            "count": 0
           },
           {
            "bin_start": 89.35499521438254,
            "bin_end": 107.08399617150603,
            "count": 0
           },
           {
            "bin_start": 107.08399617150603,
            "bin_end": 124.81299712862952,
            "count": 0
           },
           {
            "bin_start": 124.81299712862952,
            "bin_end": 142.54199808575302,
            "count": 0
           },
           {
            "bin_start": 142.54199808575302,
            "bin_end": 160.27099904287653,
            "count": 0
           },
           {
            "bin_start": 160.27099904287653,
            "bin_end": 178,
            "count": 1
           }
          ]
         }
        },
        {
         "name": "Proline",
         "dtype": "float64",
         "stats": {
          "unique_count": 8,
          "nan_count": 3,
          "min": "178.0",
          "max": "1680.0",
          "histogram": [
           {
            "bin_start": 178,
            "bin_end": 328.2,
            "count": 3
           },
           {
            "bin_start": 328.2,
            "bin_end": 478.4,
            "count": 0
           },
           {
            "bin_start": 478.4,
            "bin_end": 628.5999999999999,
            "count": 1
           },
           {
            "bin_start": 628.5999999999999,
            "bin_end": 778.8,
            "count": 2
           },
           {
            "bin_start": 778.8,
            "bin_end": 929,
            "count": 0
           },
           {
            "bin_start": 929,
            "bin_end": 1079.1999999999998,
            "count": 1
           },
           {
            "bin_start": 1079.1999999999998,
            "bin_end": 1229.3999999999999,
            "count": 0
           },
           {
            "bin_start": 1229.3999999999999,
            "bin_end": 1379.6,
            "count": 0
           },
           {
            "bin_start": 1379.6,
            "bin_end": 1529.8,
            "count": 0
           },
           {
            "bin_start": 1529.8,
            "bin_end": 1680,
            "count": 1
           }
          ]
         }
        },
        {
         "name": "_deepnote_index_column",
         "dtype": "object"
        }
       ],
       "rows_top": [
        {
         "Label": "178",
         "Alcohol": 178,
         "Malic Acid": 178,
         "Ash": 178,
         "Alcalinity of ash ": 178,
         "Magnesium": 178,
         "Total phenols": 178,
         "Flavanoids": 178,
         "Nonflavanoid phenols": 178,
         "Proanthocyanins": 178,
         "Color intensity": 178,
         "Hue": 178,
         "OD280/OD315 of diluted wines": 178,
         "Proline": 178,
         "_deepnote_index_column": "count"
        },
        {
         "Label": "3",
         "Alcohol": "nan",
         "Malic Acid": "nan",
         "Ash": "nan",
         "Alcalinity of ash ": "nan",
         "Magnesium": "nan",
         "Total phenols": "nan",
         "Flavanoids": "nan",
         "Nonflavanoid phenols": "nan",
         "Proanthocyanins": "nan",
         "Color intensity": "nan",
         "Hue": "nan",
         "OD280/OD315 of diluted wines": "nan",
         "Proline": "nan",
         "_deepnote_index_column": "unique"
        },
        {
         "Label": "Class 2",
         "Alcohol": "nan",
         "Malic Acid": "nan",
         "Ash": "nan",
         "Alcalinity of ash ": "nan",
         "Magnesium": "nan",
         "Total phenols": "nan",
         "Flavanoids": "nan",
         "Nonflavanoid phenols": "nan",
         "Proanthocyanins": "nan",
         "Color intensity": "nan",
         "Hue": "nan",
         "OD280/OD315 of diluted wines": "nan",
         "Proline": "nan",
         "_deepnote_index_column": "top"
        },
        {
         "Label": "71",
         "Alcohol": "nan",
         "Malic Acid": "nan",
         "Ash": "nan",
         "Alcalinity of ash ": "nan",
         "Magnesium": "nan",
         "Total phenols": "nan",
         "Flavanoids": "nan",
         "Nonflavanoid phenols": "nan",
         "Proanthocyanins": "nan",
         "Color intensity": "nan",
         "Hue": "nan",
         "OD280/OD315 of diluted wines": "nan",
         "Proline": "nan",
         "_deepnote_index_column": "freq"
        },
        {
         "Label": "nan",
         "Alcohol": 13.00061797752809,
         "Malic Acid": 2.3363483146067416,
         "Ash": 2.3665168539325845,
         "Alcalinity of ash ": 19.49494382022472,
         "Magnesium": 99.74157303370787,
         "Total phenols": 2.295112359550562,
         "Flavanoids": 2.0292696629213487,
         "Nonflavanoid phenols": 0.3618539325842696,
         "Proanthocyanins": 1.5908988764044945,
         "Color intensity": 5.058089882022472,
         "Hue": 0.9574494382022471,
         "OD280/OD315 of diluted wines": 2.6116853932584267,
         "Proline": 746.8932584269663,
         "_deepnote_index_column": "mean"
        },
        {
         "Label": "nan",
         "Alcohol": 0.8118265380058575,
         "Malic Acid": 1.1171460976144627,
         "Ash": 0.27434400906081485,
         "Alcalinity of ash ": 3.339563767173505,
         "Magnesium": 14.282483515295665,
         "Total phenols": 0.6258510488339893,
         "Flavanoids": 0.9988586850169467,
         "Nonflavanoid phenols": 0.12445334029667937,
         "Proanthocyanins": 0.5723588626747613,
         "Color intensity": 2.318285871822413,
         "Hue": 0.22857156582982338,
         "OD280/OD315 of diluted wines": 0.7099904287650504,
         "Proline": 314.9074742768491,
         "_deepnote_index_column": "std"
        },
        {
         "Label": "nan",
         "Alcohol": 11.03,
         "Malic Acid": 0.74,
         "Ash": 1.36,
         "Alcalinity of ash ": 10.6,
         "Magnesium": 70,
         "Total phenols": 0.98,
         "Flavanoids": 0.34,
         "Nonflavanoid phenols": 0.13,
         "Proanthocyanins": 0.41,
         "Color intensity": 1.28,
         "Hue": 0.48,
         "OD280/OD315 of diluted wines": 1.27,
         "Proline": 278,
         "_deepnote_index_column": "min"
        },
        {
         "Label": "nan",
         "Alcohol": 12.362499999999999,
         "Malic Acid": 1.6025000000000003,
         "Ash": 2.21,
         "Alcalinity of ash ": 17.2,
         "Magnesium": 88,
         "Total phenols": 1.7425,
         "Flavanoids": 1.2049999999999998,
         "Nonflavanoid phenols": 0.27,
         "Proanthocyanins": 1.25,
         "Color intensity": 3.2199999999999998,
         "Hue": 0.7825,
         "OD280/OD315 of diluted wines": 1.9375,
         "Proline": 500.5,
         "_deepnote_index_column": "25%"
        },
        {
         "Label": "nan",
         "Alcohol": 13.05,
         "Malic Acid": 1.8650000000000002,
         "Ash": 2.36,
         "Alcalinity of ash ": 19.5,
         "Magnesium": 98,
         "Total phenols": 2.355,
         "Flavanoids": 2.135,
         "Nonflavanoid phenols": 0.34,
         "Proanthocyanins": 1.5550000000000002,
         "Color intensity": 4.6899999999999995,
         "Hue": 0.965,
         "OD280/OD315 of diluted wines": 2.78,
         "Proline": 673.5,
         "_deepnote_index_column": "50%"
        },
        {
         "Label": "nan",
         "Alcohol": 13.6775,
         "Malic Acid": 3.0825,
         "Ash": 2.5575,
         "Alcalinity of ash ": 21.5,
         "Magnesium": 107,
         "Total phenols": 2.8,
         "Flavanoids": 2.875,
         "Nonflavanoid phenols": 0.4375,
         "Proanthocyanins": 1.95,
         "Color intensity": 6.2,
         "Hue": 1.12,
         "OD280/OD315 of diluted wines": 3.17,
         "Proline": 985,
         "_deepnote_index_column": "75%"
        },
        {
         "Label": "nan",
         "Alcohol": 14.83,
         "Malic Acid": 5.8,
         "Ash": 3.23,
         "Alcalinity of ash ": 30,
         "Magnesium": 162,
         "Total phenols": 3.88,
         "Flavanoids": 5.08,
         "Nonflavanoid phenols": 0.66,
         "Proanthocyanins": 3.58,
         "Color intensity": 13,
         "Hue": 1.71,
         "OD280/OD315 of diluted wines": 4,
         "Proline": 1680,
         "_deepnote_index_column": "max"
        }
       ],
       "rows_bottom": null
      },
      "text/plain": "          Label     Alcohol  Malic Acid         Ash  Alcalinity of ash   \\\ncount       178  178.000000  178.000000  178.000000          178.000000   \nunique        3         NaN         NaN         NaN                 NaN   \ntop     Class 2         NaN         NaN         NaN                 NaN   \nfreq         71         NaN         NaN         NaN                 NaN   \nmean        NaN   13.000618    2.336348    2.366517           19.494944   \nstd         NaN    0.811827    1.117146    0.274344            3.339564   \nmin         NaN   11.030000    0.740000    1.360000           10.600000   \n25%         NaN   12.362500    1.602500    2.210000           17.200000   \n50%         NaN   13.050000    1.865000    2.360000           19.500000   \n75%         NaN   13.677500    3.082500    2.557500           21.500000   \nmax         NaN   14.830000    5.800000    3.230000           30.000000   \n\n         Magnesium  Total phenols  Flavanoids  Nonflavanoid phenols  \\\ncount   178.000000     178.000000  178.000000            178.000000   \nunique         NaN            NaN         NaN                   NaN   \ntop            NaN            NaN         NaN                   NaN   \nfreq           NaN            NaN         NaN                   NaN   \nmean     99.741573       2.295112    2.029270              0.361854   \nstd      14.282484       0.625851    0.998859              0.124453   \nmin      70.000000       0.980000    0.340000              0.130000   \n25%      88.000000       1.742500    1.205000              0.270000   \n50%      98.000000       2.355000    2.135000              0.340000   \n75%     107.000000       2.800000    2.875000              0.437500   \nmax     162.000000       3.880000    5.080000              0.660000   \n\n        Proanthocyanins  Color intensity         Hue  \\\ncount        178.000000       178.000000  178.000000   \nunique              NaN              NaN         NaN   \ntop                 NaN              NaN         NaN   \nfreq                NaN              NaN         NaN   \nmean           1.590899         5.058090    0.957449   \nstd            0.572359         2.318286    0.228572   \nmin            0.410000         1.280000    0.480000   \n25%            1.250000         3.220000    0.782500   \n50%            1.555000         4.690000    0.965000   \n75%            1.950000         6.200000    1.120000   \nmax            3.580000        13.000000    1.710000   \n\n        OD280/OD315 of diluted wines      Proline  \ncount                     178.000000   178.000000  \nunique                           NaN          NaN  \ntop                              NaN          NaN  \nfreq                             NaN          NaN  \nmean                        2.611685   746.893258  \nstd                         0.709990   314.907474  \nmin                         1.270000   278.000000  \n25%                         1.937500   500.500000  \n50%                         2.780000   673.500000  \n75%                         3.170000   985.000000  \nmax                         4.000000  1680.000000  ",
      "text/html": "<div>\n<style scoped>\n    .dataframe tbody tr th:only-of-type {\n        vertical-align: middle;\n    }\n\n    .dataframe tbody tr th {\n        vertical-align: top;\n    }\n\n    .dataframe thead th {\n        text-align: right;\n    }\n</style>\n<table border=\"1\" class=\"dataframe\">\n  <thead>\n    <tr style=\"text-align: right;\">\n      <th></th>\n      <th>Label</th>\n      <th>Alcohol</th>\n      <th>Malic Acid</th>\n      <th>Ash</th>\n      <th>Alcalinity of ash</th>\n      <th>Magnesium</th>\n      <th>Total phenols</th>\n      <th>Flavanoids</th>\n      <th>Nonflavanoid phenols</th>\n      <th>Proanthocyanins</th>\n      <th>Color intensity</th>\n      <th>Hue</th>\n      <th>OD280/OD315 of diluted wines</th>\n      <th>Proline</th>\n    </tr>\n  </thead>\n  <tbody>\n    <tr>\n      <th>count</th>\n      <td>178</td>\n      <td>178.000000</td>\n      <td>178.000000</td>\n      <td>178.000000</td>\n      <td>178.000000</td>\n      <td>178.000000</td>\n      <td>178.000000</td>\n      <td>178.000000</td>\n      <td>178.000000</td>\n      <td>178.000000</td>\n      <td>178.000000</td>\n      <td>178.000000</td>\n      <td>178.000000</td>\n      <td>178.000000</td>\n    </tr>\n    <tr>\n      <th>unique</th>\n      <td>3</td>\n      <td>NaN</td>\n      <td>NaN</td>\n      <td>NaN</td>\n      <td>NaN</td>\n      <td>NaN</td>\n      <td>NaN</td>\n      <td>NaN</td>\n      <td>NaN</td>\n      <td>NaN</td>\n      <td>NaN</td>\n      <td>NaN</td>\n      <td>NaN</td>\n      <td>NaN</td>\n    </tr>\n    <tr>\n      <th>top</th>\n      <td>Class 2</td>\n      <td>NaN</td>\n      <td>NaN</td>\n      <td>NaN</td>\n      <td>NaN</td>\n      <td>NaN</td>\n      <td>NaN</td>\n      <td>NaN</td>\n      <td>NaN</td>\n      <td>NaN</td>\n      <td>NaN</td>\n      <td>NaN</td>\n      <td>NaN</td>\n      <td>NaN</td>\n    </tr>\n    <tr>\n      <th>freq</th>\n      <td>71</td>\n      <td>NaN</td>\n      <td>NaN</td>\n      <td>NaN</td>\n      <td>NaN</td>\n      <td>NaN</td>\n      <td>NaN</td>\n      <td>NaN</td>\n      <td>NaN</td>\n      <td>NaN</td>\n      <td>NaN</td>\n      <td>NaN</td>\n      <td>NaN</td>\n      <td>NaN</td>\n    </tr>\n    <tr>\n      <th>mean</th>\n      <td>NaN</td>\n      <td>13.000618</td>\n      <td>2.336348</td>\n      <td>2.366517</td>\n      <td>19.494944</td>\n      <td>99.741573</td>\n      <td>2.295112</td>\n      <td>2.029270</td>\n      <td>0.361854</td>\n      <td>1.590899</td>\n      <td>5.058090</td>\n      <td>0.957449</td>\n      <td>2.611685</td>\n      <td>746.893258</td>\n    </tr>\n    <tr>\n      <th>std</th>\n      <td>NaN</td>\n      <td>0.811827</td>\n      <td>1.117146</td>\n      <td>0.274344</td>\n      <td>3.339564</td>\n      <td>14.282484</td>\n      <td>0.625851</td>\n      <td>0.998859</td>\n      <td>0.124453</td>\n      <td>0.572359</td>\n      <td>2.318286</td>\n      <td>0.228572</td>\n      <td>0.709990</td>\n      <td>314.907474</td>\n    </tr>\n    <tr>\n      <th>min</th>\n      <td>NaN</td>\n      <td>11.030000</td>\n      <td>0.740000</td>\n      <td>1.360000</td>\n      <td>10.600000</td>\n      <td>70.000000</td>\n      <td>0.980000</td>\n      <td>0.340000</td>\n      <td>0.130000</td>\n      <td>0.410000</td>\n      <td>1.280000</td>\n      <td>0.480000</td>\n      <td>1.270000</td>\n      <td>278.000000</td>\n    </tr>\n    <tr>\n      <th>25%</th>\n      <td>NaN</td>\n      <td>12.362500</td>\n      <td>1.602500</td>\n      <td>2.210000</td>\n      <td>17.200000</td>\n      <td>88.000000</td>\n      <td>1.742500</td>\n      <td>1.205000</td>\n      <td>0.270000</td>\n      <td>1.250000</td>\n      <td>3.220000</td>\n      <td>0.782500</td>\n      <td>1.937500</td>\n      <td>500.500000</td>\n    </tr>\n    <tr>\n      <th>50%</th>\n      <td>NaN</td>\n      <td>13.050000</td>\n      <td>1.865000</td>\n      <td>2.360000</td>\n      <td>19.500000</td>\n      <td>98.000000</td>\n      <td>2.355000</td>\n      <td>2.135000</td>\n      <td>0.340000</td>\n      <td>1.555000</td>\n      <td>4.690000</td>\n      <td>0.965000</td>\n      <td>2.780000</td>\n      <td>673.500000</td>\n    </tr>\n    <tr>\n      <th>75%</th>\n      <td>NaN</td>\n      <td>13.677500</td>\n      <td>3.082500</td>\n      <td>2.557500</td>\n      <td>21.500000</td>\n      <td>107.000000</td>\n      <td>2.800000</td>\n      <td>2.875000</td>\n      <td>0.437500</td>\n      <td>1.950000</td>\n      <td>6.200000</td>\n      <td>1.120000</td>\n      <td>3.170000</td>\n      <td>985.000000</td>\n    </tr>\n    <tr>\n      <th>max</th>\n      <td>NaN</td>\n      <td>14.830000</td>\n      <td>5.800000</td>\n      <td>3.230000</td>\n      <td>30.000000</td>\n      <td>162.000000</td>\n      <td>3.880000</td>\n      <td>5.080000</td>\n      <td>0.660000</td>\n      <td>3.580000</td>\n      <td>13.000000</td>\n      <td>1.710000</td>\n      <td>4.000000</td>\n      <td>1680.000000</td>\n    </tr>\n  </tbody>\n</table>\n</div>"
     },
     "metadata": {}
    }
   ]
  },
  {
   "cell_type": "markdown",
   "source": "# 5. Question 3: Separate the data into a training and a test set (10%)",
   "metadata": {
    "formattedRanges": [],
    "tags": [],
    "is_collapsed": false,
    "cell_id": "00013-245812d2-6bc0-4651-ade5-743c5665e4b3",
    "deepnote_cell_type": "text-cell-h1"
   }
  },
  {
   "cell_type": "code",
   "metadata": {
    "tags": [],
    "cell_id": "00023-bf0a7c89-ad10-42cf-b22f-1bf97a4dc39e",
    "deepnote_to_be_reexecuted": false,
    "source_hash": "5cfc028e",
    "execution_start": 1635592800833,
    "execution_millis": 291,
    "deepnote_cell_type": "code"
   },
   "source": "#Define the dataframe of independent variables and dependent variables\nfrom sklearn.model_selection import train_test_split\n\ndf_X = df_wine[['Alcohol', 'Malic Acid', 'Ash', 'Alcalinity of ash ',\n       'Magnesium', 'Total phenols', 'Flavanoids', 'Nonflavanoid phenols',\n       'Proanthocyanins', 'Color intensity', 'Hue',\n       'OD280/OD315 of diluted wines', 'Proline']]\ndf_y = df_wine[['Label']]\n\n#Splitting the dataset between a training dataset and a testing dataset\ndf_Xtrain, df_Xtest, df_ytrain, df_ytest = train_test_split(df_X,df_y,test_size=0.25)",
   "execution_count": null,
   "outputs": []
  },
  {
   "cell_type": "code",
   "metadata": {
    "tags": [],
    "cell_id": "00024-5b962a6c-0daa-4c93-aa26-e0c07a648d9a",
    "deepnote_to_be_reexecuted": false,
    "source_hash": "ff5360a7",
    "execution_start": 1635592801492,
    "execution_millis": 188,
    "deepnote_cell_type": "code"
   },
   "source": "#Let's look at our training dataset\ndf_Xtrain",
   "execution_count": null,
   "outputs": [
    {
     "output_type": "execute_result",
     "execution_count": 11,
     "data": {
      "application/vnd.deepnote.dataframe.v2+json": {
       "row_count": 133,
       "column_count": 13,
       "columns": [
        {
         "name": "Alcohol",
         "dtype": "float64",
         "stats": {
          "unique_count": 99,
          "nan_count": 0,
          "min": "11.03",
          "max": "14.83",
          "histogram": [
           {
            "bin_start": 11.03,
            "bin_end": 11.41,
            "count": 1
           },
           {
            "bin_start": 11.41,
            "bin_end": 11.79,
            "count": 8
           },
           {
            "bin_start": 11.79,
            "bin_end": 12.17,
            "count": 14
           },
           {
            "bin_start": 12.17,
            "bin_end": 12.549999999999999,
            "count": 25
           },
           {
            "bin_start": 12.549999999999999,
            "bin_end": 12.93,
            "count": 13
           },
           {
            "bin_start": 12.93,
            "bin_end": 13.309999999999999,
            "count": 21
           },
           {
            "bin_start": 13.309999999999999,
            "bin_end": 13.69,
            "count": 16
           },
           {
            "bin_start": 13.69,
            "bin_end": 14.07,
            "count": 20
           },
           {
            "bin_start": 14.07,
            "bin_end": 14.45,
            "count": 13
           },
           {
            "bin_start": 14.45,
            "bin_end": 14.83,
            "count": 2
           }
          ]
         }
        },
        {
         "name": "Malic Acid",
         "dtype": "float64",
         "stats": {
          "unique_count": 105,
          "nan_count": 0,
          "min": "0.74",
          "max": "5.8",
          "histogram": [
           {
            "bin_start": 0.74,
            "bin_end": 1.246,
            "count": 16
           },
           {
            "bin_start": 1.246,
            "bin_end": 1.752,
            "count": 41
           },
           {
            "bin_start": 1.752,
            "bin_end": 2.258,
            "count": 27
           },
           {
            "bin_start": 2.258,
            "bin_end": 2.7640000000000002,
            "count": 12
           },
           {
            "bin_start": 2.7640000000000002,
            "bin_end": 3.2700000000000005,
            "count": 12
           },
           {
            "bin_start": 3.2700000000000005,
            "bin_end": 3.776,
            "count": 7
           },
           {
            "bin_start": 3.776,
            "bin_end": 4.282,
            "count": 10
           },
           {
            "bin_start": 4.282,
            "bin_end": 4.788,
            "count": 4
           },
           {
            "bin_start": 4.788,
            "bin_end": 5.2940000000000005,
            "count": 1
           },
           {
            "bin_start": 5.2940000000000005,
            "bin_end": 5.8,
            "count": 3
           }
          ]
         }
        },
        {
         "name": "Ash",
         "dtype": "float64",
         "stats": {
          "unique_count": 66,
          "nan_count": 0,
          "min": "1.36",
          "max": "3.23",
          "histogram": [
           {
            "bin_start": 1.36,
            "bin_end": 1.5470000000000002,
            "count": 1
           },
           {
            "bin_start": 1.5470000000000002,
            "bin_end": 1.734,
            "count": 3
           },
           {
            "bin_start": 1.734,
            "bin_end": 1.921,
            "count": 4
           },
           {
            "bin_start": 1.921,
            "bin_end": 2.108,
            "count": 9
           },
           {
            "bin_start": 2.108,
            "bin_end": 2.295,
            "count": 30
           },
           {
            "bin_start": 2.295,
            "bin_end": 2.482,
            "count": 41
           },
           {
            "bin_start": 2.482,
            "bin_end": 2.669,
            "count": 26
           },
           {
            "bin_start": 2.669,
            "bin_end": 2.856,
            "count": 15
           },
           {
            "bin_start": 2.856,
            "bin_end": 3.043,
            "count": 2
           },
           {
            "bin_start": 3.043,
            "bin_end": 3.23,
            "count": 2
           }
          ]
         }
        },
        {
         "name": "Alcalinity of ash ",
         "dtype": "float64",
         "stats": {
          "unique_count": 55,
          "nan_count": 0,
          "min": "10.6",
          "max": "30.0",
          "histogram": [
           {
            "bin_start": 10.6,
            "bin_end": 12.54,
            "count": 3
           },
           {
            "bin_start": 12.54,
            "bin_end": 14.48,
            "count": 3
           },
           {
            "bin_start": 14.48,
            "bin_end": 16.42,
            "count": 20
           },
           {
            "bin_start": 16.42,
            "bin_end": 18.36,
            "count": 29
           },
           {
            "bin_start": 18.36,
            "bin_end": 20.299999999999997,
            "count": 30
           },
           {
            "bin_start": 20.299999999999997,
            "bin_end": 22.240000000000002,
            "count": 25
           },
           {
            "bin_start": 22.240000000000002,
            "bin_end": 24.18,
            "count": 14
           },
           {
            "bin_start": 24.18,
            "bin_end": 26.119999999999997,
            "count": 6
           },
           {
            "bin_start": 26.119999999999997,
            "bin_end": 28.060000000000002,
            "count": 1
           },
           {
            "bin_start": 28.060000000000002,
            "bin_end": 30,
            "count": 2
           }
          ]
         }
        },
        {
         "name": "Magnesium",
         "dtype": "int64",
         "stats": {
          "unique_count": 50,
          "nan_count": 0,
          "min": "70",
          "max": "162",
          "histogram": [
           {
            "bin_start": 70,
            "bin_end": 79.2,
            "count": 3
           },
           {
            "bin_start": 79.2,
            "bin_end": 88.4,
            "count": 29
           },
           {
            "bin_start": 88.4,
            "bin_end": 97.6,
            "count": 30
           },
           {
            "bin_start": 97.6,
            "bin_end": 106.8,
            "count": 29
           },
           {
            "bin_start": 106.8,
            "bin_end": 116,
            "count": 21
           },
           {
            "bin_start": 116,
            "bin_end": 125.19999999999999,
            "count": 13
           },
           {
            "bin_start": 125.19999999999999,
            "bin_end": 134.39999999999998,
            "count": 4
           },
           {
            "bin_start": 134.39999999999998,
            "bin_end": 143.6,
            "count": 2
           },
           {
            "bin_start": 143.6,
            "bin_end": 152.8,
            "count": 1
           },
           {
            "bin_start": 152.8,
            "bin_end": 162,
            "count": 1
           }
          ]
         }
        },
        {
         "name": "Total phenols",
         "dtype": "float64",
         "stats": {
          "unique_count": 81,
          "nan_count": 0,
          "min": "1.1",
          "max": "3.88",
          "histogram": [
           {
            "bin_start": 1.1,
            "bin_end": 1.3780000000000001,
            "count": 4
           },
           {
            "bin_start": 1.3780000000000001,
            "bin_end": 1.6560000000000001,
            "count": 24
           },
           {
            "bin_start": 1.6560000000000001,
            "bin_end": 1.934,
            "count": 13
           },
           {
            "bin_start": 1.934,
            "bin_end": 2.2119999999999997,
            "count": 17
           },
           {
            "bin_start": 2.2119999999999997,
            "bin_end": 2.49,
            "count": 16
           },
           {
            "bin_start": 2.49,
            "bin_end": 2.768,
            "count": 20
           },
           {
            "bin_start": 2.768,
            "bin_end": 3.046,
            "count": 25
           },
           {
            "bin_start": 3.046,
            "bin_end": 3.324,
            "count": 8
           },
           {
            "bin_start": 3.324,
            "bin_end": 3.602,
            "count": 4
           },
           {
            "bin_start": 3.602,
            "bin_end": 3.88,
            "count": 2
           }
          ]
         }
        },
        {
         "name": "Flavanoids",
         "dtype": "float64",
         "stats": {
          "unique_count": 103,
          "nan_count": 0,
          "min": "0.47",
          "max": "5.08",
          "histogram": [
           {
            "bin_start": 0.47,
            "bin_end": 0.931,
            "count": 27
           },
           {
            "bin_start": 0.931,
            "bin_end": 1.392,
            "count": 15
           },
           {
            "bin_start": 1.392,
            "bin_end": 1.853,
            "count": 13
           },
           {
            "bin_start": 1.853,
            "bin_end": 2.314,
            "count": 17
           },
           {
            "bin_start": 2.314,
            "bin_end": 2.7750000000000004,
            "count": 19
           },
           {
            "bin_start": 2.7750000000000004,
            "bin_end": 3.2359999999999998,
            "count": 28
           },
           {
            "bin_start": 3.2359999999999998,
            "bin_end": 3.697,
            "count": 10
           },
           {
            "bin_start": 3.697,
            "bin_end": 4.158,
            "count": 3
           },
           {
            "bin_start": 4.158,
            "bin_end": 4.619,
            "count": 0
           },
           {
            "bin_start": 4.619,
            "bin_end": 5.08,
            "count": 1
           }
          ]
         }
        },
        {
         "name": "Nonflavanoid phenols",
         "dtype": "float64",
         "stats": {
          "unique_count": 36,
          "nan_count": 0,
          "min": "0.13",
          "max": "0.63",
          "histogram": [
           {
            "bin_start": 0.13,
            "bin_end": 0.18,
            "count": 6
           },
           {
            "bin_start": 0.18,
            "bin_end": 0.23,
            "count": 14
           },
           {
            "bin_start": 0.23,
            "bin_end": 0.28,
            "count": 19
           },
           {
            "bin_start": 0.28,
            "bin_end": 0.33,
            "count": 28
           },
           {
            "bin_start": 0.33,
            "bin_end": 0.38,
            "count": 15
           },
           {
            "bin_start": 0.38,
            "bin_end": 0.43000000000000005,
            "count": 19
           },
           {
            "bin_start": 0.43000000000000005,
            "bin_end": 0.48000000000000004,
            "count": 9
           },
           {
            "bin_start": 0.48000000000000004,
            "bin_end": 0.53,
            "count": 9
           },
           {
            "bin_start": 0.53,
            "bin_end": 0.5800000000000001,
            "count": 7
           },
           {
            "bin_start": 0.5800000000000001,
            "bin_end": 0.63,
            "count": 7
           }
          ]
         }
        },
        {
         "name": "Proanthocyanins",
         "dtype": "float64",
         "stats": {
          "unique_count": 82,
          "nan_count": 0,
          "min": "0.41",
          "max": "3.28",
          "histogram": [
           {
            "bin_start": 0.41,
            "bin_end": 0.697,
            "count": 6
           },
           {
            "bin_start": 0.697,
            "bin_end": 0.984,
            "count": 13
           },
           {
            "bin_start": 0.984,
            "bin_end": 1.271,
            "count": 16
           },
           {
            "bin_start": 1.271,
            "bin_end": 1.5579999999999998,
            "count": 26
           },
           {
            "bin_start": 1.5579999999999998,
            "bin_end": 1.8449999999999998,
            "count": 24
           },
           {
            "bin_start": 1.8449999999999998,
            "bin_end": 2.132,
            "count": 28
           },
           {
            "bin_start": 2.132,
            "bin_end": 2.419,
            "count": 11
           },
           {
            "bin_start": 2.419,
            "bin_end": 2.706,
            "count": 3
           },
           {
            "bin_start": 2.706,
            "bin_end": 2.993,
            "count": 5
           },
           {
            "bin_start": 2.993,
            "bin_end": 3.28,
            "count": 1
           }
          ]
         }
        },
        {
         "name": "Color intensity",
         "dtype": "float64",
         "stats": {
          "unique_count": 105,
          "nan_count": 0,
          "min": "1.28",
          "max": "11.75",
          "histogram": [
           {
            "bin_start": 1.28,
            "bin_end": 2.327,
            "count": 9
           },
           {
            "bin_start": 2.327,
            "bin_end": 3.3740000000000006,
            "count": 26
           },
           {
            "bin_start": 3.3740000000000006,
            "bin_end": 4.421,
            "count": 24
           },
           {
            "bin_start": 4.421,
            "bin_end": 5.468000000000001,
            "count": 25
           },
           {
            "bin_start": 5.468000000000001,
            "bin_end": 6.5150000000000015,
            "count": 21
           },
           {
            "bin_start": 6.5150000000000015,
            "bin_end": 7.562000000000001,
            "count": 9
           },
           {
            "bin_start": 7.562000000000001,
            "bin_end": 8.609,
            "count": 6
           },
           {
            "bin_start": 8.609,
            "bin_end": 9.656,
            "count": 7
           },
           {
            "bin_start": 9.656,
            "bin_end": 10.703000000000001,
            "count": 4
           },
           {
            "bin_start": 10.703000000000001,
            "bin_end": 11.75,
            "count": 2
           }
          ]
         }
        },
        {
         "name": "Hue",
         "dtype": "float64",
         "stats": {
          "unique_count": 67,
          "nan_count": 0,
          "min": "0.48",
          "max": "1.71",
          "histogram": [
           {
            "bin_start": 0.48,
            "bin_end": 0.603,
            "count": 10
           },
           {
            "bin_start": 0.603,
            "bin_end": 0.726,
            "count": 12
           },
           {
            "bin_start": 0.726,
            "bin_end": 0.849,
            "count": 16
           },
           {
            "bin_start": 0.849,
            "bin_end": 0.972,
            "count": 24
           },
           {
            "bin_start": 0.972,
            "bin_end": 1.095,
            "count": 33
           },
           {
            "bin_start": 1.095,
            "bin_end": 1.218,
            "count": 19
           },
           {
            "bin_start": 1.218,
            "bin_end": 1.341,
            "count": 16
           },
           {
            "bin_start": 1.341,
            "bin_end": 1.464,
            "count": 2
           },
           {
            "bin_start": 1.464,
            "bin_end": 1.587,
            "count": 0
           },
           {
            "bin_start": 1.587,
            "bin_end": 1.71,
            "count": 1
           }
          ]
         }
        },
        {
         "name": "OD280/OD315 of diluted wines",
         "dtype": "float64",
         "stats": {
          "unique_count": 102,
          "nan_count": 0,
          "min": "1.27",
          "max": "4.0",
          "histogram": [
           {
            "bin_start": 1.27,
            "bin_end": 1.5430000000000001,
            "count": 9
           },
           {
            "bin_start": 1.5430000000000001,
            "bin_end": 1.816,
            "count": 17
           },
           {
            "bin_start": 1.816,
            "bin_end": 2.089,
            "count": 9
           },
           {
            "bin_start": 2.089,
            "bin_end": 2.362,
            "count": 11
           },
           {
            "bin_start": 2.362,
            "bin_end": 2.6350000000000002,
            "count": 10
           },
           {
            "bin_start": 2.6350000000000002,
            "bin_end": 2.9080000000000004,
            "count": 23
           },
           {
            "bin_start": 2.9080000000000004,
            "bin_end": 3.181,
            "count": 19
           },
           {
            "bin_start": 3.181,
            "bin_end": 3.454,
            "count": 19
           },
           {
            "bin_start": 3.454,
            "bin_end": 3.7270000000000003,
            "count": 13
           },
           {
            "bin_start": 3.7270000000000003,
            "bin_end": 4,
            "count": 3
           }
          ]
         }
        },
        {
         "name": "Proline",
         "dtype": "int64",
         "stats": {
          "unique_count": 96,
          "nan_count": 0,
          "min": "278",
          "max": "1680",
          "histogram": [
           {
            "bin_start": 278,
            "bin_end": 418.2,
            "count": 12
           },
           {
            "bin_start": 418.2,
            "bin_end": 558.4,
            "count": 30
           },
           {
            "bin_start": 558.4,
            "bin_end": 698.5999999999999,
            "count": 28
           },
           {
            "bin_start": 698.5999999999999,
            "bin_end": 838.8,
            "count": 14
           },
           {
            "bin_start": 838.8,
            "bin_end": 979,
            "count": 12
           },
           {
            "bin_start": 979,
            "bin_end": 1119.1999999999998,
            "count": 15
           },
           {
            "bin_start": 1119.1999999999998,
            "bin_end": 1259.3999999999999,
            "count": 6
           },
           {
            "bin_start": 1259.3999999999999,
            "bin_end": 1399.6,
            "count": 12
           },
           {
            "bin_start": 1399.6,
            "bin_end": 1539.8,
            "count": 3
           },
           {
            "bin_start": 1539.8,
            "bin_end": 1680,
            "count": 1
           }
          ]
         }
        },
        {
         "name": "_deepnote_index_column",
         "dtype": "int64"
        }
       ],
       "rows_top": [
        {
         "Alcohol": 13.24,
         "Malic Acid": 2.59,
         "Ash": 2.87,
         "Alcalinity of ash ": 21,
         "Magnesium": 118,
         "Total phenols": 2.8,
         "Flavanoids": 2.69,
         "Nonflavanoid phenols": 0.39,
         "Proanthocyanins": 1.82,
         "Color intensity": 4.32,
         "Hue": 1.04,
         "OD280/OD315 of diluted wines": 2.93,
         "Proline": 735,
         "_deepnote_index_column": 4
        },
        {
         "Alcohol": 13.77,
         "Malic Acid": 1.9,
         "Ash": 2.68,
         "Alcalinity of ash ": 17.1,
         "Magnesium": 115,
         "Total phenols": 3,
         "Flavanoids": 2.79,
         "Nonflavanoid phenols": 0.39,
         "Proanthocyanins": 1.68,
         "Color intensity": 6.3,
         "Hue": 1.13,
         "OD280/OD315 of diluted wines": 2.93,
         "Proline": 1375,
         "_deepnote_index_column": 53
        },
        {
         "Alcohol": 13.03,
         "Malic Acid": 0.9,
         "Ash": 1.71,
         "Alcalinity of ash ": 16,
         "Magnesium": 86,
         "Total phenols": 1.95,
         "Flavanoids": 2.03,
         "Nonflavanoid phenols": 0.24,
         "Proanthocyanins": 1.46,
         "Color intensity": 4.6,
         "Hue": 1.19,
         "OD280/OD315 of diluted wines": 2.48,
         "Proline": 392,
         "_deepnote_index_column": 76
        },
        {
         "Alcohol": 14.23,
         "Malic Acid": 1.71,
         "Ash": 2.43,
         "Alcalinity of ash ": 15.6,
         "Magnesium": 127,
         "Total phenols": 2.8,
         "Flavanoids": 3.06,
         "Nonflavanoid phenols": 0.28,
         "Proanthocyanins": 2.29,
         "Color intensity": 5.64,
         "Hue": 1.04,
         "OD280/OD315 of diluted wines": 3.92,
         "Proline": 1065,
         "_deepnote_index_column": 0
        },
        {
         "Alcohol": 14.37,
         "Malic Acid": 1.95,
         "Ash": 2.5,
         "Alcalinity of ash ": 16.8,
         "Magnesium": 113,
         "Total phenols": 3.85,
         "Flavanoids": 3.49,
         "Nonflavanoid phenols": 0.24,
         "Proanthocyanins": 2.18,
         "Color intensity": 7.8,
         "Hue": 0.86,
         "OD280/OD315 of diluted wines": 3.45,
         "Proline": 1480,
         "_deepnote_index_column": 3
        },
        {
         "Alcohol": 12.25,
         "Malic Acid": 4.72,
         "Ash": 2.54,
         "Alcalinity of ash ": 21,
         "Magnesium": 89,
         "Total phenols": 1.38,
         "Flavanoids": 0.47,
         "Nonflavanoid phenols": 0.53,
         "Proanthocyanins": 0.8,
         "Color intensity": 3.85,
         "Hue": 0.75,
         "OD280/OD315 of diluted wines": 1.27,
         "Proline": 720,
         "_deepnote_index_column": 136
        },
        {
         "Alcohol": 14.1,
         "Malic Acid": 2.02,
         "Ash": 2.4,
         "Alcalinity of ash ": 18.8,
         "Magnesium": 103,
         "Total phenols": 2.75,
         "Flavanoids": 2.92,
         "Nonflavanoid phenols": 0.32,
         "Proanthocyanins": 2.38,
         "Color intensity": 6.2,
         "Hue": 1.07,
         "OD280/OD315 of diluted wines": 2.75,
         "Proline": 1060,
         "_deepnote_index_column": 48
        },
        {
         "Alcohol": 12.99,
         "Malic Acid": 1.67,
         "Ash": 2.6,
         "Alcalinity of ash ": 30,
         "Magnesium": 139,
         "Total phenols": 3.3,
         "Flavanoids": 2.89,
         "Nonflavanoid phenols": 0.21,
         "Proanthocyanins": 1.96,
         "Color intensity": 3.35,
         "Hue": 1.31,
         "OD280/OD315 of diluted wines": 3.5,
         "Proline": 985,
         "_deepnote_index_column": 73
        },
        {
         "Alcohol": 13.17,
         "Malic Acid": 2.59,
         "Ash": 2.37,
         "Alcalinity of ash ": 20,
         "Magnesium": 120,
         "Total phenols": 1.65,
         "Flavanoids": 0.68,
         "Nonflavanoid phenols": 0.53,
         "Proanthocyanins": 1.46,
         "Color intensity": 9.3,
         "Hue": 0.6,
         "OD280/OD315 of diluted wines": 1.62,
         "Proline": 840,
         "_deepnote_index_column": 176
        },
        {
         "Alcohol": 13.9,
         "Malic Acid": 1.68,
         "Ash": 2.12,
         "Alcalinity of ash ": 16,
         "Magnesium": 101,
         "Total phenols": 3.1,
         "Flavanoids": 3.39,
         "Nonflavanoid phenols": 0.21,
         "Proanthocyanins": 2.14,
         "Color intensity": 6.1,
         "Hue": 0.91,
         "OD280/OD315 of diluted wines": 3.33,
         "Proline": 985,
         "_deepnote_index_column": 47
        },
        {
         "Alcohol": 14.3,
         "Malic Acid": 1.92,
         "Ash": 2.72,
         "Alcalinity of ash ": 20,
         "Magnesium": 120,
         "Total phenols": 2.8,
         "Flavanoids": 3.14,
         "Nonflavanoid phenols": 0.33,
         "Proanthocyanins": 1.97,
         "Color intensity": 6.2,
         "Hue": 1.07,
         "OD280/OD315 of diluted wines": 2.65,
         "Proline": 1280,
         "_deepnote_index_column": 16
        },
        {
         "Alcohol": 13.82,
         "Malic Acid": 1.75,
         "Ash": 2.42,
         "Alcalinity of ash ": 14,
         "Magnesium": 111,
         "Total phenols": 3.88,
         "Flavanoids": 3.74,
         "Nonflavanoid phenols": 0.32,
         "Proanthocyanins": 1.87,
         "Color intensity": 7.05,
         "Hue": 1.01,
         "OD280/OD315 of diluted wines": 3.26,
         "Proline": 1190,
         "_deepnote_index_column": 52
        },
        {
         "Alcohol": 12,
         "Malic Acid": 0.92,
         "Ash": 2,
         "Alcalinity of ash ": 19,
         "Magnesium": 86,
         "Total phenols": 2.42,
         "Flavanoids": 2.26,
         "Nonflavanoid phenols": 0.3,
         "Proanthocyanins": 1.43,
         "Color intensity": 2.5,
         "Hue": 1.38,
         "OD280/OD315 of diluted wines": 3.12,
         "Proline": 278,
         "_deepnote_index_column": 80
        },
        {
         "Alcohol": 12.43,
         "Malic Acid": 1.53,
         "Ash": 2.29,
         "Alcalinity of ash ": 21.5,
         "Magnesium": 86,
         "Total phenols": 2.74,
         "Flavanoids": 3.15,
         "Nonflavanoid phenols": 0.39,
         "Proanthocyanins": 1.77,
         "Color intensity": 3.94,
         "Hue": 0.69,
         "OD280/OD315 of diluted wines": 2.84,
         "Proline": 352,
         "_deepnote_index_column": 126
        },
        {
         "Alcohol": 12.36,
         "Malic Acid": 3.83,
         "Ash": 2.38,
         "Alcalinity of ash ": 21,
         "Magnesium": 88,
         "Total phenols": 2.3,
         "Flavanoids": 0.92,
         "Nonflavanoid phenols": 0.5,
         "Proanthocyanins": 1.04,
         "Color intensity": 7.65,
         "Hue": 0.56,
         "OD280/OD315 of diluted wines": 1.58,
         "Proline": 520,
         "_deepnote_index_column": 160
        },
        {
         "Alcohol": 13.08,
         "Malic Acid": 3.9,
         "Ash": 2.36,
         "Alcalinity of ash ": 21.5,
         "Magnesium": 113,
         "Total phenols": 1.41,
         "Flavanoids": 1.39,
         "Nonflavanoid phenols": 0.34,
         "Proanthocyanins": 1.14,
         "Color intensity": 9.4,
         "Hue": 0.57,
         "OD280/OD315 of diluted wines": 1.33,
         "Proline": 550,
         "_deepnote_index_column": 149
        },
        {
         "Alcohol": 12.08,
         "Malic Acid": 1.83,
         "Ash": 2.32,
         "Alcalinity of ash ": 18.5,
         "Magnesium": 81,
         "Total phenols": 1.6,
         "Flavanoids": 1.5,
         "Nonflavanoid phenols": 0.52,
         "Proanthocyanins": 1.64,
         "Color intensity": 2.4,
         "Hue": 1.08,
         "OD280/OD315 of diluted wines": 2.27,
         "Proline": 480,
         "_deepnote_index_column": 90
        },
        {
         "Alcohol": 14.06,
         "Malic Acid": 1.63,
         "Ash": 2.28,
         "Alcalinity of ash ": 16,
         "Magnesium": 126,
         "Total phenols": 3,
         "Flavanoids": 3.17,
         "Nonflavanoid phenols": 0.24,
         "Proanthocyanins": 2.1,
         "Color intensity": 5.65,
         "Hue": 1.09,
         "OD280/OD315 of diluted wines": 3.71,
         "Proline": 780,
         "_deepnote_index_column": 20
        },
        {
         "Alcohol": 12.85,
         "Malic Acid": 3.27,
         "Ash": 2.58,
         "Alcalinity of ash ": 22,
         "Magnesium": 106,
         "Total phenols": 1.65,
         "Flavanoids": 0.6,
         "Nonflavanoid phenols": 0.6,
         "Proanthocyanins": 0.96,
         "Color intensity": 5.58,
         "Hue": 0.87,
         "OD280/OD315 of diluted wines": 2.11,
         "Proline": 570,
         "_deepnote_index_column": 162
        },
        {
         "Alcohol": 12.93,
         "Malic Acid": 2.81,
         "Ash": 2.7,
         "Alcalinity of ash ": 21,
         "Magnesium": 96,
         "Total phenols": 1.54,
         "Flavanoids": 0.5,
         "Nonflavanoid phenols": 0.53,
         "Proanthocyanins": 0.75,
         "Color intensity": 4.6,
         "Hue": 0.77,
         "OD280/OD315 of diluted wines": 2.31,
         "Proline": 600,
         "_deepnote_index_column": 140
        },
        {
         "Alcohol": 12.34,
         "Malic Acid": 2.45,
         "Ash": 2.46,
         "Alcalinity of ash ": 21,
         "Magnesium": 98,
         "Total phenols": 2.56,
         "Flavanoids": 2.11,
         "Nonflavanoid phenols": 0.34,
         "Proanthocyanins": 1.31,
         "Color intensity": 2.8,
         "Hue": 0.8,
         "OD280/OD315 of diluted wines": 3.38,
         "Proline": 438,
         "_deepnote_index_column": 102
        },
        {
         "Alcohol": 13.3,
         "Malic Acid": 1.72,
         "Ash": 2.14,
         "Alcalinity of ash ": 17,
         "Magnesium": 94,
         "Total phenols": 2.4,
         "Flavanoids": 2.19,
         "Nonflavanoid phenols": 0.27,
         "Proanthocyanins": 1.35,
         "Color intensity": 3.95,
         "Hue": 1.02,
         "OD280/OD315 of diluted wines": 2.77,
         "Proline": 1285,
         "_deepnote_index_column": 27
        },
        {
         "Alcohol": 12.85,
         "Malic Acid": 1.6,
         "Ash": 2.52,
         "Alcalinity of ash ": 17.8,
         "Magnesium": 95,
         "Total phenols": 2.48,
         "Flavanoids": 2.37,
         "Nonflavanoid phenols": 0.26,
         "Proanthocyanins": 1.46,
         "Color intensity": 3.93,
         "Hue": 1.09,
         "OD280/OD315 of diluted wines": 3.63,
         "Proline": 1015,
         "_deepnote_index_column": 23
        },
        {
         "Alcohol": 11.62,
         "Malic Acid": 1.99,
         "Ash": 2.28,
         "Alcalinity of ash ": 18,
         "Magnesium": 98,
         "Total phenols": 3.02,
         "Flavanoids": 2.26,
         "Nonflavanoid phenols": 0.17,
         "Proanthocyanins": 1.35,
         "Color intensity": 3.25,
         "Hue": 1.16,
         "OD280/OD315 of diluted wines": 2.96,
         "Proline": 345,
         "_deepnote_index_column": 94
        },
        {
         "Alcohol": 13.67,
         "Malic Acid": 1.25,
         "Ash": 1.92,
         "Alcalinity of ash ": 18,
         "Magnesium": 94,
         "Total phenols": 2.1,
         "Flavanoids": 1.79,
         "Nonflavanoid phenols": 0.32,
         "Proanthocyanins": 0.73,
         "Color intensity": 3.8,
         "Hue": 1.23,
         "OD280/OD315 of diluted wines": 2.46,
         "Proline": 630,
         "_deepnote_index_column": 62
        },
        {
         "Alcohol": 12,
         "Malic Acid": 3.43,
         "Ash": 2,
         "Alcalinity of ash ": 19,
         "Magnesium": 87,
         "Total phenols": 2,
         "Flavanoids": 1.64,
         "Nonflavanoid phenols": 0.37,
         "Proanthocyanins": 1.87,
         "Color intensity": 1.28,
         "Hue": 0.93,
         "OD280/OD315 of diluted wines": 3.05,
         "Proline": 564,
         "_deepnote_index_column": 119
        },
        {
         "Alcohol": 13.45,
         "Malic Acid": 3.7,
         "Ash": 2.6,
         "Alcalinity of ash ": 23,
         "Magnesium": 111,
         "Total phenols": 1.7,
         "Flavanoids": 0.92,
         "Nonflavanoid phenols": 0.43,
         "Proanthocyanins": 1.46,
         "Color intensity": 10.68,
         "Hue": 0.85,
         "OD280/OD315 of diluted wines": 1.56,
         "Proline": 695,
         "_deepnote_index_column": 166
        },
        {
         "Alcohol": 13.36,
         "Malic Acid": 2.56,
         "Ash": 2.35,
         "Alcalinity of ash ": 20,
         "Magnesium": 89,
         "Total phenols": 1.4,
         "Flavanoids": 0.5,
         "Nonflavanoid phenols": 0.37,
         "Proanthocyanins": 0.64,
         "Color intensity": 5.6,
         "Hue": 0.7,
         "OD280/OD315 of diluted wines": 2.47,
         "Proline": 780,
         "_deepnote_index_column": 141
        },
        {
         "Alcohol": 13.73,
         "Malic Acid": 4.36,
         "Ash": 2.26,
         "Alcalinity of ash ": 22.5,
         "Magnesium": 88,
         "Total phenols": 1.28,
         "Flavanoids": 0.47,
         "Nonflavanoid phenols": 0.52,
         "Proanthocyanins": 1.15,
         "Color intensity": 6.62,
         "Hue": 0.78,
         "OD280/OD315 of diluted wines": 1.75,
         "Proline": 520,
         "_deepnote_index_column": 165
        },
        {
         "Alcohol": 13.05,
         "Malic Acid": 3.86,
         "Ash": 2.32,
         "Alcalinity of ash ": 22.5,
         "Magnesium": 85,
         "Total phenols": 1.65,
         "Flavanoids": 1.59,
         "Nonflavanoid phenols": 0.61,
         "Proanthocyanins": 1.62,
         "Color intensity": 4.8,
         "Hue": 0.84,
         "OD280/OD315 of diluted wines": 2.01,
         "Proline": 515,
         "_deepnote_index_column": 83
        },
        {
         "Alcohol": 12.42,
         "Malic Acid": 1.61,
         "Ash": 2.19,
         "Alcalinity of ash ": 22.5,
         "Magnesium": 108,
         "Total phenols": 2,
         "Flavanoids": 2.09,
         "Nonflavanoid phenols": 0.34,
         "Proanthocyanins": 1.61,
         "Color intensity": 2.06,
         "Hue": 1.06,
         "OD280/OD315 of diluted wines": 2.96,
         "Proline": 345,
         "_deepnote_index_column": 117
        },
        {
         "Alcohol": 13.64,
         "Malic Acid": 3.1,
         "Ash": 2.56,
         "Alcalinity of ash ": 15.2,
         "Magnesium": 116,
         "Total phenols": 2.7,
         "Flavanoids": 3.03,
         "Nonflavanoid phenols": 0.17,
         "Proanthocyanins": 1.66,
         "Color intensity": 5.1,
         "Hue": 0.96,
         "OD280/OD315 of diluted wines": 3.36,
         "Proline": 845,
         "_deepnote_index_column": 19
        },
        {
         "Alcohol": 13.62,
         "Malic Acid": 4.95,
         "Ash": 2.35,
         "Alcalinity of ash ": 20,
         "Magnesium": 92,
         "Total phenols": 2,
         "Flavanoids": 0.8,
         "Nonflavanoid phenols": 0.47,
         "Proanthocyanins": 1.02,
         "Color intensity": 4.4,
         "Hue": 0.91,
         "OD280/OD315 of diluted wines": 2.05,
         "Proline": 550,
         "_deepnote_index_column": 143
        },
        {
         "Alcohol": 11.84,
         "Malic Acid": 0.89,
         "Ash": 2.58,
         "Alcalinity of ash ": 18,
         "Magnesium": 94,
         "Total phenols": 2.2,
         "Flavanoids": 2.21,
         "Nonflavanoid phenols": 0.22,
         "Proanthocyanins": 2.35,
         "Color intensity": 3.05,
         "Hue": 0.79,
         "OD280/OD315 of diluted wines": 3.08,
         "Proline": 520,
         "_deepnote_index_column": 84
        },
        {
         "Alcohol": 12.25,
         "Malic Acid": 1.73,
         "Ash": 2.12,
         "Alcalinity of ash ": 19,
         "Magnesium": 80,
         "Total phenols": 1.65,
         "Flavanoids": 2.03,
         "Nonflavanoid phenols": 0.37,
         "Proanthocyanins": 1.63,
         "Color intensity": 3.4,
         "Hue": 1,
         "OD280/OD315 of diluted wines": 3.17,
         "Proline": 510,
         "_deepnote_index_column": 106
        },
        {
         "Alcohol": 13.72,
         "Malic Acid": 1.43,
         "Ash": 2.5,
         "Alcalinity of ash ": 16.7,
         "Magnesium": 108,
         "Total phenols": 3.4,
         "Flavanoids": 3.67,
         "Nonflavanoid phenols": 0.19,
         "Proanthocyanins": 2.04,
         "Color intensity": 6.8,
         "Hue": 0.89,
         "OD280/OD315 of diluted wines": 2.87,
         "Proline": 1285,
         "_deepnote_index_column": 58
        },
        {
         "Alcohol": 14.22,
         "Malic Acid": 3.99,
         "Ash": 2.51,
         "Alcalinity of ash ": 13.2,
         "Magnesium": 128,
         "Total phenols": 3,
         "Flavanoids": 3.04,
         "Nonflavanoid phenols": 0.2,
         "Proanthocyanins": 2.08,
         "Color intensity": 5.1,
         "Hue": 0.89,
         "OD280/OD315 of diluted wines": 3.53,
         "Proline": 760,
         "_deepnote_index_column": 39
        },
        {
         "Alcohol": 13.11,
         "Malic Acid": 1.01,
         "Ash": 1.7,
         "Alcalinity of ash ": 15,
         "Magnesium": 78,
         "Total phenols": 2.98,
         "Flavanoids": 3.18,
         "Nonflavanoid phenols": 0.26,
         "Proanthocyanins": 2.28,
         "Color intensity": 5.3,
         "Hue": 1.12,
         "OD280/OD315 of diluted wines": 3.18,
         "Proline": 502,
         "_deepnote_index_column": 66
        }
       ],
       "rows_bottom": [
        {
         "Alcohol": 12.37,
         "Malic Acid": 1.17,
         "Ash": 1.92,
         "Alcalinity of ash ": 19.6,
         "Magnesium": 78,
         "Total phenols": 2.11,
         "Flavanoids": 2,
         "Nonflavanoid phenols": 0.27,
         "Proanthocyanins": 1.04,
         "Color intensity": 4.68,
         "Hue": 1.12,
         "OD280/OD315 of diluted wines": 3.48,
         "Proline": 510,
         "_deepnote_index_column": 67
        },
        {
         "Alcohol": 13.87,
         "Malic Acid": 1.9,
         "Ash": 2.8,
         "Alcalinity of ash ": 19.4,
         "Magnesium": 107,
         "Total phenols": 2.95,
         "Flavanoids": 2.97,
         "Nonflavanoid phenols": 0.37,
         "Proanthocyanins": 1.76,
         "Color intensity": 4.5,
         "Hue": 1.25,
         "OD280/OD315 of diluted wines": 3.4,
         "Proline": 915,
         "_deepnote_index_column": 28
        },
        {
         "Alcohol": 13.05,
         "Malic Acid": 2.05,
         "Ash": 3.22,
         "Alcalinity of ash ": 25,
         "Magnesium": 124,
         "Total phenols": 2.63,
         "Flavanoids": 2.68,
         "Nonflavanoid phenols": 0.47,
         "Proanthocyanins": 1.92,
         "Color intensity": 3.58,
         "Hue": 1.13,
         "OD280/OD315 of diluted wines": 3.2,
         "Proline": 830,
         "_deepnote_index_column": 25
        },
        {
         "Alcohol": 11.64,
         "Malic Acid": 2.06,
         "Ash": 2.46,
         "Alcalinity of ash ": 21.6,
         "Magnesium": 84,
         "Total phenols": 1.95,
         "Flavanoids": 1.69,
         "Nonflavanoid phenols": 0.48,
         "Proanthocyanins": 1.35,
         "Color intensity": 2.8,
         "Hue": 1,
         "OD280/OD315 of diluted wines": 2.75,
         "Proline": 680,
         "_deepnote_index_column": 88
        },
        {
         "Alcohol": 11.96,
         "Malic Acid": 1.09,
         "Ash": 2.3,
         "Alcalinity of ash ": 21,
         "Magnesium": 101,
         "Total phenols": 3.38,
         "Flavanoids": 2.14,
         "Nonflavanoid phenols": 0.13,
         "Proanthocyanins": 1.65,
         "Color intensity": 3.21,
         "Hue": 0.99,
         "OD280/OD315 of diluted wines": 3.13,
         "Proline": 886,
         "_deepnote_index_column": 74
        },
        {
         "Alcohol": 12.72,
         "Malic Acid": 1.75,
         "Ash": 2.28,
         "Alcalinity of ash ": 22.5,
         "Magnesium": 84,
         "Total phenols": 1.38,
         "Flavanoids": 1.76,
         "Nonflavanoid phenols": 0.48,
         "Proanthocyanins": 1.63,
         "Color intensity": 3.3,
         "Hue": 0.88,
         "OD280/OD315 of diluted wines": 2.42,
         "Proline": 488,
         "_deepnote_index_column": 107
        },
        {
         "Alcohol": 12.37,
         "Malic Acid": 0.94,
         "Ash": 1.36,
         "Alcalinity of ash ": 10.6,
         "Magnesium": 88,
         "Total phenols": 1.98,
         "Flavanoids": 0.57,
         "Nonflavanoid phenols": 0.28,
         "Proanthocyanins": 0.42,
         "Color intensity": 1.95,
         "Hue": 1.05,
         "OD280/OD315 of diluted wines": 1.82,
         "Proline": 520,
         "_deepnote_index_column": 59
        },
        {
         "Alcohol": 12.04,
         "Malic Acid": 4.3,
         "Ash": 2.38,
         "Alcalinity of ash ": 22,
         "Magnesium": 80,
         "Total phenols": 2.1,
         "Flavanoids": 1.75,
         "Nonflavanoid phenols": 0.42,
         "Proanthocyanins": 1.35,
         "Color intensity": 2.6,
         "Hue": 0.79,
         "OD280/OD315 of diluted wines": 2.57,
         "Proline": 580,
         "_deepnote_index_column": 129
        },
        {
         "Alcohol": 13.68,
         "Malic Acid": 1.83,
         "Ash": 2.36,
         "Alcalinity of ash ": 17.2,
         "Magnesium": 104,
         "Total phenols": 2.42,
         "Flavanoids": 2.69,
         "Nonflavanoid phenols": 0.42,
         "Proanthocyanins": 1.97,
         "Color intensity": 3.84,
         "Hue": 1.23,
         "OD280/OD315 of diluted wines": 2.87,
         "Proline": 990,
         "_deepnote_index_column": 32
        },
        {
         "Alcohol": 13.51,
         "Malic Acid": 1.8,
         "Ash": 2.65,
         "Alcalinity of ash ": 19,
         "Magnesium": 110,
         "Total phenols": 2.35,
         "Flavanoids": 2.53,
         "Nonflavanoid phenols": 0.29,
         "Proanthocyanins": 1.54,
         "Color intensity": 4.2,
         "Hue": 1.1,
         "OD280/OD315 of diluted wines": 2.87,
         "Proline": 1095,
         "_deepnote_index_column": 34
        },
        {
         "Alcohol": 12.08,
         "Malic Acid": 1.33,
         "Ash": 2.3,
         "Alcalinity of ash ": 23.6,
         "Magnesium": 70,
         "Total phenols": 2.2,
         "Flavanoids": 1.59,
         "Nonflavanoid phenols": 0.42,
         "Proanthocyanins": 1.38,
         "Color intensity": 1.74,
         "Hue": 1.07,
         "OD280/OD315 of diluted wines": 3.21,
         "Proline": 625,
         "_deepnote_index_column": 89
        },
        {
         "Alcohol": 13.28,
         "Malic Acid": 1.64,
         "Ash": 2.84,
         "Alcalinity of ash ": 15.5,
         "Magnesium": 110,
         "Total phenols": 2.6,
         "Flavanoids": 2.68,
         "Nonflavanoid phenols": 0.34,
         "Proanthocyanins": 1.36,
         "Color intensity": 4.6,
         "Hue": 1.09,
         "OD280/OD315 of diluted wines": 2.78,
         "Proline": 880,
         "_deepnote_index_column": 36
        },
        {
         "Alcohol": 13.84,
         "Malic Acid": 4.12,
         "Ash": 2.38,
         "Alcalinity of ash ": 19.5,
         "Magnesium": 89,
         "Total phenols": 1.8,
         "Flavanoids": 0.83,
         "Nonflavanoid phenols": 0.48,
         "Proanthocyanins": 1.56,
         "Color intensity": 9.01,
         "Hue": 0.57,
         "OD280/OD315 of diluted wines": 1.64,
         "Proline": 480,
         "_deepnote_index_column": 156
        },
        {
         "Alcohol": 13.24,
         "Malic Acid": 3.98,
         "Ash": 2.29,
         "Alcalinity of ash ": 17.5,
         "Magnesium": 103,
         "Total phenols": 2.64,
         "Flavanoids": 2.63,
         "Nonflavanoid phenols": 0.32,
         "Proanthocyanins": 1.66,
         "Color intensity": 4.36,
         "Hue": 0.82,
         "OD280/OD315 of diluted wines": 3,
         "Proline": 680,
         "_deepnote_index_column": 43
        },
        {
         "Alcohol": 12.45,
         "Malic Acid": 3.03,
         "Ash": 2.64,
         "Alcalinity of ash ": 27,
         "Magnesium": 97,
         "Total phenols": 1.9,
         "Flavanoids": 0.58,
         "Nonflavanoid phenols": 0.63,
         "Proanthocyanins": 1.14,
         "Color intensity": 7.5,
         "Hue": 0.67,
         "OD280/OD315 of diluted wines": 1.73,
         "Proline": 880,
         "_deepnote_index_column": 157
        },
        {
         "Alcohol": 12.51,
         "Malic Acid": 1.24,
         "Ash": 2.25,
         "Alcalinity of ash ": 17.5,
         "Magnesium": 85,
         "Total phenols": 2,
         "Flavanoids": 0.58,
         "Nonflavanoid phenols": 0.6,
         "Proanthocyanins": 1.25,
         "Color intensity": 5.45,
         "Hue": 0.75,
         "OD280/OD315 of diluted wines": 1.51,
         "Proline": 650,
         "_deepnote_index_column": 134
        },
        {
         "Alcohol": 13.71,
         "Malic Acid": 1.86,
         "Ash": 2.36,
         "Alcalinity of ash ": 16.6,
         "Magnesium": 101,
         "Total phenols": 2.61,
         "Flavanoids": 2.88,
         "Nonflavanoid phenols": 0.27,
         "Proanthocyanins": 1.69,
         "Color intensity": 3.8,
         "Hue": 1.11,
         "OD280/OD315 of diluted wines": 4,
         "Proline": 1035,
         "_deepnote_index_column": 22
        },
        {
         "Alcohol": 12.08,
         "Malic Acid": 2.08,
         "Ash": 1.7,
         "Alcalinity of ash ": 17.5,
         "Magnesium": 97,
         "Total phenols": 2.23,
         "Flavanoids": 2.17,
         "Nonflavanoid phenols": 0.26,
         "Proanthocyanins": 1.4,
         "Color intensity": 3.3,
         "Hue": 1.27,
         "OD280/OD315 of diluted wines": 2.96,
         "Proline": 710,
         "_deepnote_index_column": 100
        },
        {
         "Alcohol": 11.82,
         "Malic Acid": 1.47,
         "Ash": 1.99,
         "Alcalinity of ash ": 20.8,
         "Magnesium": 86,
         "Total phenols": 1.98,
         "Flavanoids": 1.6,
         "Nonflavanoid phenols": 0.3,
         "Proanthocyanins": 1.53,
         "Color intensity": 1.95,
         "Hue": 0.95,
         "OD280/OD315 of diluted wines": 3.33,
         "Proline": 495,
         "_deepnote_index_column": 116
        },
        {
         "Alcohol": 13.71,
         "Malic Acid": 5.65,
         "Ash": 2.45,
         "Alcalinity of ash ": 20.5,
         "Magnesium": 95,
         "Total phenols": 1.68,
         "Flavanoids": 0.61,
         "Nonflavanoid phenols": 0.52,
         "Proanthocyanins": 1.06,
         "Color intensity": 7.7,
         "Hue": 0.64,
         "OD280/OD315 of diluted wines": 1.74,
         "Proline": 740,
         "_deepnote_index_column": 173
        },
        {
         "Alcohol": 12.82,
         "Malic Acid": 3.37,
         "Ash": 2.3,
         "Alcalinity of ash ": 19.5,
         "Magnesium": 88,
         "Total phenols": 1.48,
         "Flavanoids": 0.66,
         "Nonflavanoid phenols": 0.4,
         "Proanthocyanins": 0.97,
         "Color intensity": 10.26,
         "Hue": 0.72,
         "OD280/OD315 of diluted wines": 1.75,
         "Proline": 685,
         "_deepnote_index_column": 167
        },
        {
         "Alcohol": 13.63,
         "Malic Acid": 1.81,
         "Ash": 2.7,
         "Alcalinity of ash ": 17.2,
         "Magnesium": 112,
         "Total phenols": 2.85,
         "Flavanoids": 2.91,
         "Nonflavanoid phenols": 0.3,
         "Proanthocyanins": 1.46,
         "Color intensity": 7.3,
         "Hue": 1.28,
         "OD280/OD315 of diluted wines": 2.88,
         "Proline": 1310,
         "_deepnote_index_column": 15
        },
        {
         "Alcohol": 12.37,
         "Malic Acid": 1.07,
         "Ash": 2.1,
         "Alcalinity of ash ": 18.5,
         "Magnesium": 88,
         "Total phenols": 3.52,
         "Flavanoids": 3.75,
         "Nonflavanoid phenols": 0.24,
         "Proanthocyanins": 1.95,
         "Color intensity": 4.5,
         "Hue": 1.04,
         "OD280/OD315 of diluted wines": 2.77,
         "Proline": 660,
         "_deepnote_index_column": 98
        },
        {
         "Alcohol": 13.75,
         "Malic Acid": 1.73,
         "Ash": 2.41,
         "Alcalinity of ash ": 16,
         "Magnesium": 89,
         "Total phenols": 2.6,
         "Flavanoids": 2.76,
         "Nonflavanoid phenols": 0.29,
         "Proanthocyanins": 1.81,
         "Color intensity": 5.6,
         "Hue": 1.15,
         "OD280/OD315 of diluted wines": 2.9,
         "Proline": 1320,
         "_deepnote_index_column": 12
        },
        {
         "Alcohol": 14.39,
         "Malic Acid": 1.87,
         "Ash": 2.45,
         "Alcalinity of ash ": 14.6,
         "Magnesium": 96,
         "Total phenols": 2.5,
         "Flavanoids": 2.52,
         "Nonflavanoid phenols": 0.3,
         "Proanthocyanins": 1.98,
         "Color intensity": 5.25,
         "Hue": 1.02,
         "OD280/OD315 of diluted wines": 3.58,
         "Proline": 1290,
         "_deepnote_index_column": 6
        },
        {
         "Alcohol": 13.73,
         "Malic Acid": 1.5,
         "Ash": 2.7,
         "Alcalinity of ash ": 22.5,
         "Magnesium": 101,
         "Total phenols": 3,
         "Flavanoids": 3.25,
         "Nonflavanoid phenols": 0.29,
         "Proanthocyanins": 2.38,
         "Color intensity": 5.7,
         "Hue": 1.19,
         "OD280/OD315 of diluted wines": 2.71,
         "Proline": 1285,
         "_deepnote_index_column": 30
        },
        {
         "Alcohol": 14.13,
         "Malic Acid": 4.1,
         "Ash": 2.74,
         "Alcalinity of ash ": 24.5,
         "Magnesium": 96,
         "Total phenols": 2.05,
         "Flavanoids": 0.76,
         "Nonflavanoid phenols": 0.56,
         "Proanthocyanins": 1.35,
         "Color intensity": 9.2,
         "Hue": 0.61,
         "OD280/OD315 of diluted wines": 1.6,
         "Proline": 560,
         "_deepnote_index_column": 177
        },
        {
         "Alcohol": 13.48,
         "Malic Acid": 1.67,
         "Ash": 2.64,
         "Alcalinity of ash ": 22.5,
         "Magnesium": 89,
         "Total phenols": 2.6,
         "Flavanoids": 1.1,
         "Nonflavanoid phenols": 0.52,
         "Proanthocyanins": 2.29,
         "Color intensity": 11.75,
         "Hue": 0.57,
         "OD280/OD315 of diluted wines": 1.78,
         "Proline": 620,
         "_deepnote_index_column": 159
        },
        {
         "Alcohol": 12.93,
         "Malic Acid": 3.8,
         "Ash": 2.65,
         "Alcalinity of ash ": 18.6,
         "Magnesium": 102,
         "Total phenols": 2.41,
         "Flavanoids": 2.41,
         "Nonflavanoid phenols": 0.25,
         "Proanthocyanins": 1.98,
         "Color intensity": 4.5,
         "Hue": 1.03,
         "OD280/OD315 of diluted wines": 3.52,
         "Proline": 770,
         "_deepnote_index_column": 21
        },
        {
         "Alcohol": 13.11,
         "Malic Acid": 1.9,
         "Ash": 2.75,
         "Alcalinity of ash ": 25.5,
         "Magnesium": 116,
         "Total phenols": 2.2,
         "Flavanoids": 1.28,
         "Nonflavanoid phenols": 0.26,
         "Proanthocyanins": 1.56,
         "Color intensity": 7.1,
         "Hue": 0.61,
         "OD280/OD315 of diluted wines": 1.33,
         "Proline": 425,
         "_deepnote_index_column": 152
        },
        {
         "Alcohol": 14.75,
         "Malic Acid": 1.73,
         "Ash": 2.39,
         "Alcalinity of ash ": 11.4,
         "Magnesium": 91,
         "Total phenols": 3.1,
         "Flavanoids": 3.69,
         "Nonflavanoid phenols": 0.43,
         "Proanthocyanins": 2.81,
         "Color intensity": 5.4,
         "Hue": 1.25,
         "OD280/OD315 of diluted wines": 2.73,
         "Proline": 1150,
         "_deepnote_index_column": 13
        },
        {
         "Alcohol": 13.52,
         "Malic Acid": 3.17,
         "Ash": 2.72,
         "Alcalinity of ash ": 23.5,
         "Magnesium": 97,
         "Total phenols": 1.55,
         "Flavanoids": 0.52,
         "Nonflavanoid phenols": 0.5,
         "Proanthocyanins": 0.55,
         "Color intensity": 4.35,
         "Hue": 0.89,
         "OD280/OD315 of diluted wines": 2.06,
         "Proline": 520,
         "_deepnote_index_column": 142
        },
        {
         "Alcohol": 11.66,
         "Malic Acid": 1.88,
         "Ash": 1.92,
         "Alcalinity of ash ": 16,
         "Magnesium": 97,
         "Total phenols": 1.61,
         "Flavanoids": 1.57,
         "Nonflavanoid phenols": 0.34,
         "Proanthocyanins": 1.15,
         "Color intensity": 3.8,
         "Hue": 1.23,
         "OD280/OD315 of diluted wines": 2.14,
         "Proline": 428,
         "_deepnote_index_column": 75
        },
        {
         "Alcohol": 12.77,
         "Malic Acid": 2.39,
         "Ash": 2.28,
         "Alcalinity of ash ": 19.5,
         "Magnesium": 86,
         "Total phenols": 1.39,
         "Flavanoids": 0.51,
         "Nonflavanoid phenols": 0.48,
         "Proanthocyanins": 0.64,
         "Color intensity": 9.899999,
         "Hue": 0.57,
         "OD280/OD315 of diluted wines": 1.63,
         "Proline": 470,
         "_deepnote_index_column": 171
        },
        {
         "Alcohol": 11.81,
         "Malic Acid": 2.12,
         "Ash": 2.74,
         "Alcalinity of ash ": 21.5,
         "Magnesium": 134,
         "Total phenols": 1.6,
         "Flavanoids": 0.99,
         "Nonflavanoid phenols": 0.14,
         "Proanthocyanins": 1.56,
         "Color intensity": 2.5,
         "Hue": 0.95,
         "OD280/OD315 of diluted wines": 2.26,
         "Proline": 625,
         "_deepnote_index_column": 96
        },
        {
         "Alcohol": 12.37,
         "Malic Acid": 1.21,
         "Ash": 2.56,
         "Alcalinity of ash ": 18.1,
         "Magnesium": 98,
         "Total phenols": 2.42,
         "Flavanoids": 2.65,
         "Nonflavanoid phenols": 0.37,
         "Proanthocyanins": 2.08,
         "Color intensity": 4.6,
         "Hue": 1.19,
         "OD280/OD315 of diluted wines": 2.3,
         "Proline": 678,
         "_deepnote_index_column": 65
        },
        {
         "Alcohol": 12.37,
         "Malic Acid": 1.13,
         "Ash": 2.16,
         "Alcalinity of ash ": 19,
         "Magnesium": 87,
         "Total phenols": 3.5,
         "Flavanoids": 3.1,
         "Nonflavanoid phenols": 0.19,
         "Proanthocyanins": 1.87,
         "Color intensity": 4.45,
         "Hue": 1.22,
         "OD280/OD315 of diluted wines": 2.87,
         "Proline": 420,
         "_deepnote_index_column": 63
        },
        {
         "Alcohol": 14.2,
         "Malic Acid": 1.76,
         "Ash": 2.45,
         "Alcalinity of ash ": 15.2,
         "Magnesium": 112,
         "Total phenols": 3.27,
         "Flavanoids": 3.39,
         "Nonflavanoid phenols": 0.34,
         "Proanthocyanins": 1.97,
         "Color intensity": 6.75,
         "Hue": 1.05,
         "OD280/OD315 of diluted wines": 2.85,
         "Proline": 1450,
         "_deepnote_index_column": 5
        }
       ]
      },
      "text/plain": "     Alcohol  Malic Acid   Ash  Alcalinity of ash   Magnesium  Total phenols  \\\n4      13.24        2.59  2.87                21.0        118           2.80   \n53     13.77        1.90  2.68                17.1        115           3.00   \n76     13.03        0.90  1.71                16.0         86           1.95   \n0      14.23        1.71  2.43                15.6        127           2.80   \n3      14.37        1.95  2.50                16.8        113           3.85   \n..       ...         ...   ...                 ...        ...            ...   \n171    12.77        2.39  2.28                19.5         86           1.39   \n96     11.81        2.12  2.74                21.5        134           1.60   \n65     12.37        1.21  2.56                18.1         98           2.42   \n63     12.37        1.13  2.16                19.0         87           3.50   \n5      14.20        1.76  2.45                15.2        112           3.27   \n\n     Flavanoids  Nonflavanoid phenols  Proanthocyanins  Color intensity   Hue  \\\n4          2.69                  0.39             1.82         4.320000  1.04   \n53         2.79                  0.39             1.68         6.300000  1.13   \n76         2.03                  0.24             1.46         4.600000  1.19   \n0          3.06                  0.28             2.29         5.640000  1.04   \n3          3.49                  0.24             2.18         7.800000  0.86   \n..          ...                   ...              ...              ...   ...   \n171        0.51                  0.48             0.64         9.899999  0.57   \n96         0.99                  0.14             1.56         2.500000  0.95   \n65         2.65                  0.37             2.08         4.600000  1.19   \n63         3.10                  0.19             1.87         4.450000  1.22   \n5          3.39                  0.34             1.97         6.750000  1.05   \n\n     OD280/OD315 of diluted wines  Proline  \n4                            2.93      735  \n53                           2.93     1375  \n76                           2.48      392  \n0                            3.92     1065  \n3                            3.45     1480  \n..                            ...      ...  \n171                          1.63      470  \n96                           2.26      625  \n65                           2.30      678  \n63                           2.87      420  \n5                            2.85     1450  \n\n[133 rows x 13 columns]",
      "text/html": "<div>\n<style scoped>\n    .dataframe tbody tr th:only-of-type {\n        vertical-align: middle;\n    }\n\n    .dataframe tbody tr th {\n        vertical-align: top;\n    }\n\n    .dataframe thead th {\n        text-align: right;\n    }\n</style>\n<table border=\"1\" class=\"dataframe\">\n  <thead>\n    <tr style=\"text-align: right;\">\n      <th></th>\n      <th>Alcohol</th>\n      <th>Malic Acid</th>\n      <th>Ash</th>\n      <th>Alcalinity of ash</th>\n      <th>Magnesium</th>\n      <th>Total phenols</th>\n      <th>Flavanoids</th>\n      <th>Nonflavanoid phenols</th>\n      <th>Proanthocyanins</th>\n      <th>Color intensity</th>\n      <th>Hue</th>\n      <th>OD280/OD315 of diluted wines</th>\n      <th>Proline</th>\n    </tr>\n  </thead>\n  <tbody>\n    <tr>\n      <th>4</th>\n      <td>13.24</td>\n      <td>2.59</td>\n      <td>2.87</td>\n      <td>21.0</td>\n      <td>118</td>\n      <td>2.80</td>\n      <td>2.69</td>\n      <td>0.39</td>\n      <td>1.82</td>\n      <td>4.320000</td>\n      <td>1.04</td>\n      <td>2.93</td>\n      <td>735</td>\n    </tr>\n    <tr>\n      <th>53</th>\n      <td>13.77</td>\n      <td>1.90</td>\n      <td>2.68</td>\n      <td>17.1</td>\n      <td>115</td>\n      <td>3.00</td>\n      <td>2.79</td>\n      <td>0.39</td>\n      <td>1.68</td>\n      <td>6.300000</td>\n      <td>1.13</td>\n      <td>2.93</td>\n      <td>1375</td>\n    </tr>\n    <tr>\n      <th>76</th>\n      <td>13.03</td>\n      <td>0.90</td>\n      <td>1.71</td>\n      <td>16.0</td>\n      <td>86</td>\n      <td>1.95</td>\n      <td>2.03</td>\n      <td>0.24</td>\n      <td>1.46</td>\n      <td>4.600000</td>\n      <td>1.19</td>\n      <td>2.48</td>\n      <td>392</td>\n    </tr>\n    <tr>\n      <th>0</th>\n      <td>14.23</td>\n      <td>1.71</td>\n      <td>2.43</td>\n      <td>15.6</td>\n      <td>127</td>\n      <td>2.80</td>\n      <td>3.06</td>\n      <td>0.28</td>\n      <td>2.29</td>\n      <td>5.640000</td>\n      <td>1.04</td>\n      <td>3.92</td>\n      <td>1065</td>\n    </tr>\n    <tr>\n      <th>3</th>\n      <td>14.37</td>\n      <td>1.95</td>\n      <td>2.50</td>\n      <td>16.8</td>\n      <td>113</td>\n      <td>3.85</td>\n      <td>3.49</td>\n      <td>0.24</td>\n      <td>2.18</td>\n      <td>7.800000</td>\n      <td>0.86</td>\n      <td>3.45</td>\n      <td>1480</td>\n    </tr>\n    <tr>\n      <th>...</th>\n      <td>...</td>\n      <td>...</td>\n      <td>...</td>\n      <td>...</td>\n      <td>...</td>\n      <td>...</td>\n      <td>...</td>\n      <td>...</td>\n      <td>...</td>\n      <td>...</td>\n      <td>...</td>\n      <td>...</td>\n      <td>...</td>\n    </tr>\n    <tr>\n      <th>171</th>\n      <td>12.77</td>\n      <td>2.39</td>\n      <td>2.28</td>\n      <td>19.5</td>\n      <td>86</td>\n      <td>1.39</td>\n      <td>0.51</td>\n      <td>0.48</td>\n      <td>0.64</td>\n      <td>9.899999</td>\n      <td>0.57</td>\n      <td>1.63</td>\n      <td>470</td>\n    </tr>\n    <tr>\n      <th>96</th>\n      <td>11.81</td>\n      <td>2.12</td>\n      <td>2.74</td>\n      <td>21.5</td>\n      <td>134</td>\n      <td>1.60</td>\n      <td>0.99</td>\n      <td>0.14</td>\n      <td>1.56</td>\n      <td>2.500000</td>\n      <td>0.95</td>\n      <td>2.26</td>\n      <td>625</td>\n    </tr>\n    <tr>\n      <th>65</th>\n      <td>12.37</td>\n      <td>1.21</td>\n      <td>2.56</td>\n      <td>18.1</td>\n      <td>98</td>\n      <td>2.42</td>\n      <td>2.65</td>\n      <td>0.37</td>\n      <td>2.08</td>\n      <td>4.600000</td>\n      <td>1.19</td>\n      <td>2.30</td>\n      <td>678</td>\n    </tr>\n    <tr>\n      <th>63</th>\n      <td>12.37</td>\n      <td>1.13</td>\n      <td>2.16</td>\n      <td>19.0</td>\n      <td>87</td>\n      <td>3.50</td>\n      <td>3.10</td>\n      <td>0.19</td>\n      <td>1.87</td>\n      <td>4.450000</td>\n      <td>1.22</td>\n      <td>2.87</td>\n      <td>420</td>\n    </tr>\n    <tr>\n      <th>5</th>\n      <td>14.20</td>\n      <td>1.76</td>\n      <td>2.45</td>\n      <td>15.2</td>\n      <td>112</td>\n      <td>3.27</td>\n      <td>3.39</td>\n      <td>0.34</td>\n      <td>1.97</td>\n      <td>6.750000</td>\n      <td>1.05</td>\n      <td>2.85</td>\n      <td>1450</td>\n    </tr>\n  </tbody>\n</table>\n<p>133 rows × 13 columns</p>\n</div>"
     },
     "metadata": {}
    }
   ]
  },
  {
   "cell_type": "code",
   "metadata": {
    "tags": [],
    "cell_id": "00025-814e1b38-a054-41df-92a4-66e17eb4028b",
    "deepnote_to_be_reexecuted": false,
    "source_hash": "62e6da1d",
    "execution_start": 1635592809653,
    "execution_millis": 20,
    "deepnote_cell_type": "code"
   },
   "source": "df_ytrain",
   "execution_count": null,
   "outputs": [
    {
     "output_type": "execute_result",
     "execution_count": 12,
     "data": {
      "application/vnd.deepnote.dataframe.v2+json": {
       "row_count": 133,
       "column_count": 1,
       "columns": [
        {
         "name": "Label",
         "dtype": "object",
         "stats": {
          "unique_count": 3,
          "nan_count": 0,
          "categories": [
           {
            "name": "Class 2",
            "count": 51
           },
           {
            "name": "Class 1",
            "count": 48
           },
           {
            "name": "Class 3",
            "count": 34
           }
          ]
         }
        },
        {
         "name": "_deepnote_index_column",
         "dtype": "int64"
        }
       ],
       "rows_top": [
        {
         "Label": "Class 1",
         "_deepnote_index_column": 4
        },
        {
         "Label": "Class 1",
         "_deepnote_index_column": 53
        },
        {
         "Label": "Class 2",
         "_deepnote_index_column": 76
        },
        {
         "Label": "Class 1",
         "_deepnote_index_column": 0
        },
        {
         "Label": "Class 1",
         "_deepnote_index_column": 3
        },
        {
         "Label": "Class 3",
         "_deepnote_index_column": 136
        },
        {
         "Label": "Class 1",
         "_deepnote_index_column": 48
        },
        {
         "Label": "Class 2",
         "_deepnote_index_column": 73
        },
        {
         "Label": "Class 3",
         "_deepnote_index_column": 176
        },
        {
         "Label": "Class 1",
         "_deepnote_index_column": 47
        },
        {
         "Label": "Class 1",
         "_deepnote_index_column": 16
        },
        {
         "Label": "Class 1",
         "_deepnote_index_column": 52
        },
        {
         "Label": "Class 2",
         "_deepnote_index_column": 80
        },
        {
         "Label": "Class 2",
         "_deepnote_index_column": 126
        },
        {
         "Label": "Class 3",
         "_deepnote_index_column": 160
        },
        {
         "Label": "Class 3",
         "_deepnote_index_column": 149
        },
        {
         "Label": "Class 2",
         "_deepnote_index_column": 90
        },
        {
         "Label": "Class 1",
         "_deepnote_index_column": 20
        },
        {
         "Label": "Class 3",
         "_deepnote_index_column": 162
        },
        {
         "Label": "Class 3",
         "_deepnote_index_column": 140
        },
        {
         "Label": "Class 2",
         "_deepnote_index_column": 102
        },
        {
         "Label": "Class 1",
         "_deepnote_index_column": 27
        },
        {
         "Label": "Class 1",
         "_deepnote_index_column": 23
        },
        {
         "Label": "Class 2",
         "_deepnote_index_column": 94
        },
        {
         "Label": "Class 2",
         "_deepnote_index_column": 62
        },
        {
         "Label": "Class 2",
         "_deepnote_index_column": 119
        },
        {
         "Label": "Class 3",
         "_deepnote_index_column": 166
        },
        {
         "Label": "Class 3",
         "_deepnote_index_column": 141
        },
        {
         "Label": "Class 3",
         "_deepnote_index_column": 165
        },
        {
         "Label": "Class 2",
         "_deepnote_index_column": 83
        },
        {
         "Label": "Class 2",
         "_deepnote_index_column": 117
        },
        {
         "Label": "Class 1",
         "_deepnote_index_column": 19
        },
        {
         "Label": "Class 3",
         "_deepnote_index_column": 143
        },
        {
         "Label": "Class 2",
         "_deepnote_index_column": 84
        },
        {
         "Label": "Class 2",
         "_deepnote_index_column": 106
        },
        {
         "Label": "Class 1",
         "_deepnote_index_column": 58
        },
        {
         "Label": "Class 1",
         "_deepnote_index_column": 39
        },
        {
         "Label": "Class 2",
         "_deepnote_index_column": 66
        },
        {
         "Label": "Class 1",
         "_deepnote_index_column": 18
        },
        {
         "Label": "Class 3",
         "_deepnote_index_column": 161
        },
        {
         "Label": "Class 1",
         "_deepnote_index_column": 29
        },
        {
         "Label": "Class 1",
         "_deepnote_index_column": 8
        },
        {
         "Label": "Class 2",
         "_deepnote_index_column": 128
        },
        {
         "Label": "Class 1",
         "_deepnote_index_column": 17
        },
        {
         "Label": "Class 2",
         "_deepnote_index_column": 109
        },
        {
         "Label": "Class 1",
         "_deepnote_index_column": 46
        },
        {
         "Label": "Class 3",
         "_deepnote_index_column": 130
        },
        {
         "Label": "Class 2",
         "_deepnote_index_column": 93
        },
        {
         "Label": "Class 2",
         "_deepnote_index_column": 112
        },
        {
         "Label": "Class 1",
         "_deepnote_index_column": 1
        },
        {
         "Label": "Class 1",
         "_deepnote_index_column": 10
        },
        {
         "Label": "Class 3",
         "_deepnote_index_column": 150
        },
        {
         "Label": "Class 2",
         "_deepnote_index_column": 68
        },
        {
         "Label": "Class 3",
         "_deepnote_index_column": 151
        },
        {
         "Label": "Class 2",
         "_deepnote_index_column": 99
        },
        {
         "Label": "Class 3",
         "_deepnote_index_column": 144
        },
        {
         "Label": "Class 2",
         "_deepnote_index_column": 70
        },
        {
         "Label": "Class 1",
         "_deepnote_index_column": 2
        },
        {
         "Label": "Class 2",
         "_deepnote_index_column": 121
        },
        {
         "Label": "Class 2",
         "_deepnote_index_column": 95
        },
        {
         "Label": "Class 3",
         "_deepnote_index_column": 145
        },
        {
         "Label": "Class 2",
         "_deepnote_index_column": 77
        },
        {
         "Label": "Class 2",
         "_deepnote_index_column": 113
        },
        {
         "Label": "Class 2",
         "_deepnote_index_column": 78
        },
        {
         "Label": "Class 2",
         "_deepnote_index_column": 123
        },
        {
         "Label": "Class 2",
         "_deepnote_index_column": 69
        },
        {
         "Label": "Class 1",
         "_deepnote_index_column": 24
        },
        {
         "Label": "Class 2",
         "_deepnote_index_column": 86
        },
        {
         "Label": "Class 3",
         "_deepnote_index_column": 137
        },
        {
         "Label": "Class 2",
         "_deepnote_index_column": 91
        },
        {
         "Label": "Class 1",
         "_deepnote_index_column": 37
        },
        {
         "Label": "Class 3",
         "_deepnote_index_column": 133
        },
        {
         "Label": "Class 1",
         "_deepnote_index_column": 49
        },
        {
         "Label": "Class 2",
         "_deepnote_index_column": 104
        },
        {
         "Label": "Class 2",
         "_deepnote_index_column": 118
        },
        {
         "Label": "Class 3",
         "_deepnote_index_column": 139
        },
        {
         "Label": "Class 3",
         "_deepnote_index_column": 172
        },
        {
         "Label": "Class 2",
         "_deepnote_index_column": 60
        },
        {
         "Label": "Class 1",
         "_deepnote_index_column": 9
        },
        {
         "Label": "Class 1",
         "_deepnote_index_column": 54
        },
        {
         "Label": "Class 1",
         "_deepnote_index_column": 44
        },
        {
         "Label": "Class 1",
         "_deepnote_index_column": 51
        },
        {
         "Label": "Class 3",
         "_deepnote_index_column": 132
        },
        {
         "Label": "Class 2",
         "_deepnote_index_column": 79
        },
        {
         "Label": "Class 3",
         "_deepnote_index_column": 154
        },
        {
         "Label": "Class 1",
         "_deepnote_index_column": 55
        },
        {
         "Label": "Class 1",
         "_deepnote_index_column": 56
        },
        {
         "Label": "Class 2",
         "_deepnote_index_column": 124
        },
        {
         "Label": "Class 1",
         "_deepnote_index_column": 26
        },
        {
         "Label": "Class 1",
         "_deepnote_index_column": 57
        },
        {
         "Label": "Class 2",
         "_deepnote_index_column": 120
        },
        {
         "Label": "Class 3",
         "_deepnote_index_column": 168
        },
        {
         "Label": "Class 1",
         "_deepnote_index_column": 7
        },
        {
         "Label": "Class 3",
         "_deepnote_index_column": 170
        },
        {
         "Label": "Class 2",
         "_deepnote_index_column": 115
        },
        {
         "Label": "Class 2",
         "_deepnote_index_column": 67
        },
        {
         "Label": "Class 1",
         "_deepnote_index_column": 28
        },
        {
         "Label": "Class 1",
         "_deepnote_index_column": 25
        },
        {
         "Label": "Class 2",
         "_deepnote_index_column": 88
        },
        {
         "Label": "Class 2",
         "_deepnote_index_column": 74
        },
        {
         "Label": "Class 2",
         "_deepnote_index_column": 107
        },
        {
         "Label": "Class 2",
         "_deepnote_index_column": 59
        },
        {
         "Label": "Class 2",
         "_deepnote_index_column": 129
        },
        {
         "Label": "Class 1",
         "_deepnote_index_column": 32
        },
        {
         "Label": "Class 1",
         "_deepnote_index_column": 34
        },
        {
         "Label": "Class 2",
         "_deepnote_index_column": 89
        },
        {
         "Label": "Class 1",
         "_deepnote_index_column": 36
        },
        {
         "Label": "Class 3",
         "_deepnote_index_column": 156
        },
        {
         "Label": "Class 1",
         "_deepnote_index_column": 43
        },
        {
         "Label": "Class 3",
         "_deepnote_index_column": 157
        },
        {
         "Label": "Class 3",
         "_deepnote_index_column": 134
        },
        {
         "Label": "Class 1",
         "_deepnote_index_column": 22
        },
        {
         "Label": "Class 2",
         "_deepnote_index_column": 100
        },
        {
         "Label": "Class 2",
         "_deepnote_index_column": 116
        },
        {
         "Label": "Class 3",
         "_deepnote_index_column": 173
        },
        {
         "Label": "Class 3",
         "_deepnote_index_column": 167
        },
        {
         "Label": "Class 1",
         "_deepnote_index_column": 15
        },
        {
         "Label": "Class 2",
         "_deepnote_index_column": 98
        },
        {
         "Label": "Class 1",
         "_deepnote_index_column": 12
        },
        {
         "Label": "Class 1",
         "_deepnote_index_column": 6
        },
        {
         "Label": "Class 1",
         "_deepnote_index_column": 30
        },
        {
         "Label": "Class 3",
         "_deepnote_index_column": 177
        },
        {
         "Label": "Class 3",
         "_deepnote_index_column": 159
        },
        {
         "Label": "Class 1",
         "_deepnote_index_column": 21
        },
        {
         "Label": "Class 3",
         "_deepnote_index_column": 152
        },
        {
         "Label": "Class 1",
         "_deepnote_index_column": 13
        },
        {
         "Label": "Class 3",
         "_deepnote_index_column": 142
        },
        {
         "Label": "Class 2",
         "_deepnote_index_column": 75
        },
        {
         "Label": "Class 3",
         "_deepnote_index_column": 171
        },
        {
         "Label": "Class 2",
         "_deepnote_index_column": 96
        },
        {
         "Label": "Class 2",
         "_deepnote_index_column": 65
        },
        {
         "Label": "Class 2",
         "_deepnote_index_column": 63
        },
        {
         "Label": "Class 1",
         "_deepnote_index_column": 5
        }
       ],
       "rows_bottom": null
      },
      "text/plain": "       Label\n4    Class 1\n53   Class 1\n76   Class 2\n0    Class 1\n3    Class 1\n..       ...\n171  Class 3\n96   Class 2\n65   Class 2\n63   Class 2\n5    Class 1\n\n[133 rows x 1 columns]",
      "text/html": "<div>\n<style scoped>\n    .dataframe tbody tr th:only-of-type {\n        vertical-align: middle;\n    }\n\n    .dataframe tbody tr th {\n        vertical-align: top;\n    }\n\n    .dataframe thead th {\n        text-align: right;\n    }\n</style>\n<table border=\"1\" class=\"dataframe\">\n  <thead>\n    <tr style=\"text-align: right;\">\n      <th></th>\n      <th>Label</th>\n    </tr>\n  </thead>\n  <tbody>\n    <tr>\n      <th>4</th>\n      <td>Class 1</td>\n    </tr>\n    <tr>\n      <th>53</th>\n      <td>Class 1</td>\n    </tr>\n    <tr>\n      <th>76</th>\n      <td>Class 2</td>\n    </tr>\n    <tr>\n      <th>0</th>\n      <td>Class 1</td>\n    </tr>\n    <tr>\n      <th>3</th>\n      <td>Class 1</td>\n    </tr>\n    <tr>\n      <th>...</th>\n      <td>...</td>\n    </tr>\n    <tr>\n      <th>171</th>\n      <td>Class 3</td>\n    </tr>\n    <tr>\n      <th>96</th>\n      <td>Class 2</td>\n    </tr>\n    <tr>\n      <th>65</th>\n      <td>Class 2</td>\n    </tr>\n    <tr>\n      <th>63</th>\n      <td>Class 2</td>\n    </tr>\n    <tr>\n      <th>5</th>\n      <td>Class 1</td>\n    </tr>\n  </tbody>\n</table>\n<p>133 rows × 1 columns</p>\n</div>"
     },
     "metadata": {}
    }
   ]
  },
  {
   "cell_type": "code",
   "metadata": {
    "tags": [],
    "cell_id": "00026-813d7f28-1128-4efd-a564-0d00e564e035",
    "deepnote_to_be_reexecuted": false,
    "source_hash": "fe2a319f",
    "execution_start": 1635592811165,
    "execution_millis": 285,
    "deepnote_cell_type": "code"
   },
   "source": "df_Xtest",
   "execution_count": null,
   "outputs": [
    {
     "output_type": "execute_result",
     "execution_count": 13,
     "data": {
      "application/vnd.deepnote.dataframe.v2+json": {
       "row_count": 45,
       "column_count": 13,
       "columns": [
        {
         "name": "Alcohol",
         "dtype": "float64",
         "stats": {
          "unique_count": 39,
          "nan_count": 0,
          "min": "11.46",
          "max": "14.38",
          "histogram": [
           {
            "bin_start": 11.46,
            "bin_end": 11.752,
            "count": 2
           },
           {
            "bin_start": 11.752,
            "bin_end": 12.044,
            "count": 2
           },
           {
            "bin_start": 12.044,
            "bin_end": 12.336,
            "count": 6
           },
           {
            "bin_start": 12.336,
            "bin_end": 12.628,
            "count": 5
           },
           {
            "bin_start": 12.628,
            "bin_end": 12.920000000000002,
            "count": 6
           },
           {
            "bin_start": 12.920000000000002,
            "bin_end": 13.212,
            "count": 4
           },
           {
            "bin_start": 13.212,
            "bin_end": 13.504000000000001,
            "count": 9
           },
           {
            "bin_start": 13.504000000000001,
            "bin_end": 13.796000000000001,
            "count": 4
           },
           {
            "bin_start": 13.796000000000001,
            "bin_end": 14.088000000000001,
            "count": 3
           },
           {
            "bin_start": 14.088000000000001,
            "bin_end": 14.38,
            "count": 4
           }
          ]
         }
        },
        {
         "name": "Malic Acid",
         "dtype": "float64",
         "stats": {
          "unique_count": 42,
          "nan_count": 0,
          "min": "0.98",
          "max": "5.19",
          "histogram": [
           {
            "bin_start": 0.98,
            "bin_end": 1.401,
            "count": 6
           },
           {
            "bin_start": 1.401,
            "bin_end": 1.822,
            "count": 16
           },
           {
            "bin_start": 1.822,
            "bin_end": 2.2430000000000003,
            "count": 4
           },
           {
            "bin_start": 2.2430000000000003,
            "bin_end": 2.6640000000000006,
            "count": 3
           },
           {
            "bin_start": 2.6640000000000006,
            "bin_end": 3.0850000000000004,
            "count": 2
           },
           {
            "bin_start": 3.0850000000000004,
            "bin_end": 3.5060000000000007,
            "count": 3
           },
           {
            "bin_start": 3.5060000000000007,
            "bin_end": 3.9270000000000005,
            "count": 4
           },
           {
            "bin_start": 3.9270000000000005,
            "bin_end": 4.348000000000001,
            "count": 2
           },
           {
            "bin_start": 4.348000000000001,
            "bin_end": 4.769000000000001,
            "count": 3
           },
           {
            "bin_start": 4.769000000000001,
            "bin_end": 5.19,
            "count": 2
           }
          ]
         }
        },
        {
         "name": "Ash",
         "dtype": "float64",
         "stats": {
          "unique_count": 37,
          "nan_count": 0,
          "min": "1.82",
          "max": "2.86",
          "histogram": [
           {
            "bin_start": 1.82,
            "bin_end": 1.924,
            "count": 3
           },
           {
            "bin_start": 1.924,
            "bin_end": 2.028,
            "count": 3
           },
           {
            "bin_start": 2.028,
            "bin_end": 2.132,
            "count": 3
           },
           {
            "bin_start": 2.132,
            "bin_end": 2.2359999999999998,
            "count": 6
           },
           {
            "bin_start": 2.2359999999999998,
            "bin_end": 2.34,
            "count": 10
           },
           {
            "bin_start": 2.34,
            "bin_end": 2.444,
            "count": 7
           },
           {
            "bin_start": 2.444,
            "bin_end": 2.548,
            "count": 5
           },
           {
            "bin_start": 2.548,
            "bin_end": 2.652,
            "count": 2
           },
           {
            "bin_start": 2.652,
            "bin_end": 2.756,
            "count": 4
           },
           {
            "bin_start": 2.756,
            "bin_end": 2.86,
            "count": 2
           }
          ]
         }
        },
        {
         "name": "Alcalinity of ash ",
         "dtype": "float64",
         "stats": {
          "unique_count": 27,
          "nan_count": 0,
          "min": "12.0",
          "max": "28.5",
          "histogram": [
           {
            "bin_start": 12,
            "bin_end": 13.65,
            "count": 2
           },
           {
            "bin_start": 13.65,
            "bin_end": 15.3,
            "count": 1
           },
           {
            "bin_start": 15.3,
            "bin_end": 16.95,
            "count": 5
           },
           {
            "bin_start": 16.95,
            "bin_end": 18.6,
            "count": 5
           },
           {
            "bin_start": 18.6,
            "bin_end": 20.25,
            "count": 13
           },
           {
            "bin_start": 20.25,
            "bin_end": 21.9,
            "count": 6
           },
           {
            "bin_start": 21.9,
            "bin_end": 23.549999999999997,
            "count": 5
           },
           {
            "bin_start": 23.549999999999997,
            "bin_end": 25.2,
            "count": 5
           },
           {
            "bin_start": 25.2,
            "bin_end": 26.85,
            "count": 2
           },
           {
            "bin_start": 26.85,
            "bin_end": 28.5,
            "count": 1
           }
          ]
         }
        },
        {
         "name": "Magnesium",
         "dtype": "int64",
         "stats": {
          "unique_count": 25,
          "nan_count": 0,
          "min": "78",
          "max": "132",
          "histogram": [
           {
            "bin_start": 78,
            "bin_end": 83.4,
            "count": 3
           },
           {
            "bin_start": 83.4,
            "bin_end": 88.8,
            "count": 12
           },
           {
            "bin_start": 88.8,
            "bin_end": 94.2,
            "count": 9
           },
           {
            "bin_start": 94.2,
            "bin_end": 99.6,
            "count": 5
           },
           {
            "bin_start": 99.6,
            "bin_end": 105,
            "count": 8
           },
           {
            "bin_start": 105,
            "bin_end": 110.4,
            "count": 3
           },
           {
            "bin_start": 110.4,
            "bin_end": 115.80000000000001,
            "count": 2
           },
           {
            "bin_start": 115.80000000000001,
            "bin_end": 121.2,
            "count": 2
           },
           {
            "bin_start": 121.2,
            "bin_end": 126.6,
            "count": 0
           },
           {
            "bin_start": 126.6,
            "bin_end": 132,
            "count": 1
           }
          ]
         }
        },
        {
         "name": "Total phenols",
         "dtype": "float64",
         "stats": {
          "unique_count": 38,
          "nan_count": 0,
          "min": "0.98",
          "max": "3.3",
          "histogram": [
           {
            "bin_start": 0.98,
            "bin_end": 1.212,
            "count": 1
           },
           {
            "bin_start": 1.212,
            "bin_end": 1.444,
            "count": 4
           },
           {
            "bin_start": 1.444,
            "bin_end": 1.676,
            "count": 4
           },
           {
            "bin_start": 1.676,
            "bin_end": 1.908,
            "count": 7
           },
           {
            "bin_start": 1.908,
            "bin_end": 2.1399999999999997,
            "count": 6
           },
           {
            "bin_start": 2.1399999999999997,
            "bin_end": 2.372,
            "count": 5
           },
           {
            "bin_start": 2.372,
            "bin_end": 2.604,
            "count": 7
           },
           {
            "bin_start": 2.604,
            "bin_end": 2.836,
            "count": 3
           },
           {
            "bin_start": 2.836,
            "bin_end": 3.068,
            "count": 4
           },
           {
            "bin_start": 3.068,
            "bin_end": 3.3,
            "count": 4
           }
          ]
         }
        },
        {
         "name": "Flavanoids",
         "dtype": "float64",
         "stats": {
          "unique_count": 43,
          "nan_count": 0,
          "min": "0.34",
          "max": "3.64",
          "histogram": [
           {
            "bin_start": 0.34,
            "bin_end": 0.67,
            "count": 5
           },
           {
            "bin_start": 0.67,
            "bin_end": 1,
            "count": 7
           },
           {
            "bin_start": 1,
            "bin_end": 1.33,
            "count": 2
           },
           {
            "bin_start": 1.33,
            "bin_end": 1.6600000000000001,
            "count": 6
           },
           {
            "bin_start": 1.6600000000000001,
            "bin_end": 1.9900000000000002,
            "count": 4
           },
           {
            "bin_start": 1.9900000000000002,
            "bin_end": 2.32,
            "count": 5
           },
           {
            "bin_start": 2.32,
            "bin_end": 2.65,
            "count": 5
           },
           {
            "bin_start": 2.65,
            "bin_end": 2.98,
            "count": 5
           },
           {
            "bin_start": 2.98,
            "bin_end": 3.31,
            "count": 4
           },
           {
            "bin_start": 3.31,
            "bin_end": 3.64,
            "count": 2
           }
          ]
         }
        },
        {
         "name": "Nonflavanoid phenols",
         "dtype": "float64",
         "stats": {
          "unique_count": 23,
          "nan_count": 0,
          "min": "0.17",
          "max": "0.66",
          "histogram": [
           {
            "bin_start": 0.17,
            "bin_end": 0.21900000000000003,
            "count": 3
           },
           {
            "bin_start": 0.21900000000000003,
            "bin_end": 0.268,
            "count": 7
           },
           {
            "bin_start": 0.268,
            "bin_end": 0.31700000000000006,
            "count": 9
           },
           {
            "bin_start": 0.31700000000000006,
            "bin_end": 0.366,
            "count": 1
           },
           {
            "bin_start": 0.366,
            "bin_end": 0.41500000000000004,
            "count": 8
           },
           {
            "bin_start": 0.41500000000000004,
            "bin_end": 0.4640000000000001,
            "count": 6
           },
           {
            "bin_start": 0.4640000000000001,
            "bin_end": 0.513,
            "count": 2
           },
           {
            "bin_start": 0.513,
            "bin_end": 0.562,
            "count": 2
           },
           {
            "bin_start": 0.562,
            "bin_end": 0.611,
            "count": 5
           },
           {
            "bin_start": 0.611,
            "bin_end": 0.66,
            "count": 2
           }
          ]
         }
        },
        {
         "name": "Proanthocyanins",
         "dtype": "float64",
         "stats": {
          "unique_count": 35,
          "nan_count": 0,
          "min": "0.62",
          "max": "3.58",
          "histogram": [
           {
            "bin_start": 0.62,
            "bin_end": 0.9159999999999999,
            "count": 5
           },
           {
            "bin_start": 0.9159999999999999,
            "bin_end": 1.212,
            "count": 7
           },
           {
            "bin_start": 1.212,
            "bin_end": 1.508,
            "count": 15
           },
           {
            "bin_start": 1.508,
            "bin_end": 1.8039999999999998,
            "count": 8
           },
           {
            "bin_start": 1.8039999999999998,
            "bin_end": 2.1,
            "count": 5
           },
           {
            "bin_start": 2.1,
            "bin_end": 2.396,
            "count": 1
           },
           {
            "bin_start": 2.396,
            "bin_end": 2.692,
            "count": 0
           },
           {
            "bin_start": 2.692,
            "bin_end": 2.988,
            "count": 3
           },
           {
            "bin_start": 2.988,
            "bin_end": 3.284,
            "count": 0
           },
           {
            "bin_start": 3.284,
            "bin_end": 3.58,
            "count": 1
           }
          ]
         }
        },
        {
         "name": "Color intensity",
         "dtype": "float64",
         "stats": {
          "unique_count": 41,
          "nan_count": 0,
          "min": "2.0",
          "max": "13.0",
          "histogram": [
           {
            "bin_start": 2,
            "bin_end": 3.1,
            "count": 16
           },
           {
            "bin_start": 3.1,
            "bin_end": 4.2,
            "count": 4
           },
           {
            "bin_start": 4.2,
            "bin_end": 5.300000000000001,
            "count": 6
           },
           {
            "bin_start": 5.300000000000001,
            "bin_end": 6.4,
            "count": 6
           },
           {
            "bin_start": 6.4,
            "bin_end": 7.5,
            "count": 4
           },
           {
            "bin_start": 7.5,
            "bin_end": 8.600000000000001,
            "count": 5
           },
           {
            "bin_start": 8.600000000000001,
            "bin_end": 9.700000000000001,
            "count": 1
           },
           {
            "bin_start": 9.700000000000001,
            "bin_end": 10.8,
            "count": 2
           },
           {
            "bin_start": 10.8,
            "bin_end": 11.9,
            "count": 0
           },
           {
            "bin_start": 11.9,
            "bin_end": 13,
            "count": 1
           }
          ]
         }
        },
        {
         "name": "Hue",
         "dtype": "float64",
         "stats": {
          "unique_count": 38,
          "nan_count": 0,
          "min": "0.54",
          "max": "1.45",
          "histogram": [
           {
            "bin_start": 0.54,
            "bin_end": 0.631,
            "count": 7
           },
           {
            "bin_start": 0.631,
            "bin_end": 0.722,
            "count": 4
           },
           {
            "bin_start": 0.722,
            "bin_end": 0.8130000000000001,
            "count": 4
           },
           {
            "bin_start": 0.8130000000000001,
            "bin_end": 0.904,
            "count": 6
           },
           {
            "bin_start": 0.904,
            "bin_end": 0.995,
            "count": 9
           },
           {
            "bin_start": 0.995,
            "bin_end": 1.086,
            "count": 2
           },
           {
            "bin_start": 1.086,
            "bin_end": 1.177,
            "count": 4
           },
           {
            "bin_start": 1.177,
            "bin_end": 1.268,
            "count": 5
           },
           {
            "bin_start": 1.268,
            "bin_end": 1.359,
            "count": 1
           },
           {
            "bin_start": 1.359,
            "bin_end": 1.45,
            "count": 3
           }
          ]
         }
        },
        {
         "name": "OD280/OD315 of diluted wines",
         "dtype": "float64",
         "stats": {
          "unique_count": 39,
          "nan_count": 0,
          "min": "1.33",
          "max": "3.56",
          "histogram": [
           {
            "bin_start": 1.33,
            "bin_end": 1.5530000000000002,
            "count": 4
           },
           {
            "bin_start": 1.5530000000000002,
            "bin_end": 1.776,
            "count": 7
           },
           {
            "bin_start": 1.776,
            "bin_end": 1.999,
            "count": 4
           },
           {
            "bin_start": 1.999,
            "bin_end": 2.222,
            "count": 1
           },
           {
            "bin_start": 2.222,
            "bin_end": 2.4450000000000003,
            "count": 3
           },
           {
            "bin_start": 2.4450000000000003,
            "bin_end": 2.668,
            "count": 0
           },
           {
            "bin_start": 2.668,
            "bin_end": 2.891,
            "count": 9
           },
           {
            "bin_start": 2.891,
            "bin_end": 3.114,
            "count": 5
           },
           {
            "bin_start": 3.114,
            "bin_end": 3.337,
            "count": 9
           },
           {
            "bin_start": 3.337,
            "bin_end": 3.56,
            "count": 3
           }
          ]
         }
        },
        {
         "name": "Proline",
         "dtype": "int64",
         "stats": {
          "unique_count": 39,
          "nan_count": 0,
          "min": "312",
          "max": "1547",
          "histogram": [
           {
            "bin_start": 312,
            "bin_end": 435.5,
            "count": 11
           },
           {
            "bin_start": 435.5,
            "bin_end": 559,
            "count": 6
           },
           {
            "bin_start": 559,
            "bin_end": 682.5,
            "count": 12
           },
           {
            "bin_start": 682.5,
            "bin_end": 806,
            "count": 5
           },
           {
            "bin_start": 806,
            "bin_end": 929.5,
            "count": 2
           },
           {
            "bin_start": 929.5,
            "bin_end": 1053,
            "count": 2
           },
           {
            "bin_start": 1053,
            "bin_end": 1176.5,
            "count": 3
           },
           {
            "bin_start": 1176.5,
            "bin_end": 1300,
            "count": 2
           },
           {
            "bin_start": 1300,
            "bin_end": 1423.5,
            "count": 0
           },
           {
            "bin_start": 1423.5,
            "bin_end": 1547,
            "count": 2
           }
          ]
         }
        },
        {
         "name": "_deepnote_index_column",
         "dtype": "int64"
        }
       ],
       "rows_top": [
        {
         "Alcohol": 11.79,
         "Malic Acid": 2.13,
         "Ash": 2.78,
         "Alcalinity of ash ": 28.5,
         "Magnesium": 92,
         "Total phenols": 2.13,
         "Flavanoids": 2.24,
         "Nonflavanoid phenols": 0.58,
         "Proanthocyanins": 1.76,
         "Color intensity": 3,
         "Hue": 0.97,
         "OD280/OD315 of diluted wines": 2.44,
         "Proline": 466,
         "_deepnote_index_column": 127
        },
        {
         "Alcohol": 13.56,
         "Malic Acid": 1.71,
         "Ash": 2.31,
         "Alcalinity of ash ": 16.2,
         "Magnesium": 117,
         "Total phenols": 3.15,
         "Flavanoids": 3.29,
         "Nonflavanoid phenols": 0.34,
         "Proanthocyanins": 2.34,
         "Color intensity": 6.13,
         "Hue": 0.95,
         "OD280/OD315 of diluted wines": 3.38,
         "Proline": 795,
         "_deepnote_index_column": 40
        },
        {
         "Alcohol": 12.6,
         "Malic Acid": 2.46,
         "Ash": 2.2,
         "Alcalinity of ash ": 18.5,
         "Magnesium": 94,
         "Total phenols": 1.62,
         "Flavanoids": 0.66,
         "Nonflavanoid phenols": 0.63,
         "Proanthocyanins": 0.94,
         "Color intensity": 7.1,
         "Hue": 0.73,
         "OD280/OD315 of diluted wines": 1.58,
         "Proline": 695,
         "_deepnote_index_column": 135
        },
        {
         "Alcohol": 13.4,
         "Malic Acid": 4.6,
         "Ash": 2.86,
         "Alcalinity of ash ": 25,
         "Magnesium": 112,
         "Total phenols": 1.98,
         "Flavanoids": 0.96,
         "Nonflavanoid phenols": 0.27,
         "Proanthocyanins": 1.11,
         "Color intensity": 8.5,
         "Hue": 0.67,
         "OD280/OD315 of diluted wines": 1.92,
         "Proline": 630,
         "_deepnote_index_column": 169
        },
        {
         "Alcohol": 12.22,
         "Malic Acid": 1.29,
         "Ash": 1.94,
         "Alcalinity of ash ": 19,
         "Magnesium": 92,
         "Total phenols": 2.36,
         "Flavanoids": 2.04,
         "Nonflavanoid phenols": 0.39,
         "Proanthocyanins": 2.08,
         "Color intensity": 2.7,
         "Hue": 0.86,
         "OD280/OD315 of diluted wines": 3.02,
         "Proline": 312,
         "_deepnote_index_column": 108
        },
        {
         "Alcohol": 11.82,
         "Malic Acid": 1.72,
         "Ash": 1.88,
         "Alcalinity of ash ": 19.5,
         "Magnesium": 86,
         "Total phenols": 2.5,
         "Flavanoids": 1.64,
         "Nonflavanoid phenols": 0.37,
         "Proanthocyanins": 1.42,
         "Color intensity": 2.06,
         "Hue": 0.94,
         "OD280/OD315 of diluted wines": 2.44,
         "Proline": 415,
         "_deepnote_index_column": 103
        },
        {
         "Alcohol": 13.07,
         "Malic Acid": 1.5,
         "Ash": 2.1,
         "Alcalinity of ash ": 15.5,
         "Magnesium": 98,
         "Total phenols": 2.4,
         "Flavanoids": 2.64,
         "Nonflavanoid phenols": 0.28,
         "Proanthocyanins": 1.37,
         "Color intensity": 3.7,
         "Hue": 1.18,
         "OD280/OD315 of diluted wines": 2.69,
         "Proline": 1020,
         "_deepnote_index_column": 38
        },
        {
         "Alcohol": 13.17,
         "Malic Acid": 5.19,
         "Ash": 2.32,
         "Alcalinity of ash ": 22,
         "Magnesium": 93,
         "Total phenols": 1.74,
         "Flavanoids": 0.63,
         "Nonflavanoid phenols": 0.61,
         "Proanthocyanins": 1.55,
         "Color intensity": 7.9,
         "Hue": 0.6,
         "OD280/OD315 of diluted wines": 1.48,
         "Proline": 725,
         "_deepnote_index_column": 155
        },
        {
         "Alcohol": 12.08,
         "Malic Acid": 1.13,
         "Ash": 2.51,
         "Alcalinity of ash ": 24,
         "Magnesium": 78,
         "Total phenols": 2,
         "Flavanoids": 1.58,
         "Nonflavanoid phenols": 0.4,
         "Proanthocyanins": 1.4,
         "Color intensity": 2.2,
         "Hue": 1.31,
         "OD280/OD315 of diluted wines": 2.72,
         "Proline": 630,
         "_deepnote_index_column": 82
        },
        {
         "Alcohol": 13.4,
         "Malic Acid": 3.91,
         "Ash": 2.48,
         "Alcalinity of ash ": 23,
         "Magnesium": 102,
         "Total phenols": 1.8,
         "Flavanoids": 0.75,
         "Nonflavanoid phenols": 0.43,
         "Proanthocyanins": 1.41,
         "Color intensity": 7.3,
         "Hue": 0.7,
         "OD280/OD315 of diluted wines": 1.56,
         "Proline": 750,
         "_deepnote_index_column": 174
        },
        {
         "Alcohol": 13.27,
         "Malic Acid": 4.28,
         "Ash": 2.26,
         "Alcalinity of ash ": 20,
         "Magnesium": 120,
         "Total phenols": 1.59,
         "Flavanoids": 0.69,
         "Nonflavanoid phenols": 0.43,
         "Proanthocyanins": 1.35,
         "Color intensity": 10.2,
         "Hue": 0.59,
         "OD280/OD315 of diluted wines": 1.56,
         "Proline": 835,
         "_deepnote_index_column": 175
        },
        {
         "Alcohol": 14.12,
         "Malic Acid": 1.48,
         "Ash": 2.32,
         "Alcalinity of ash ": 16.8,
         "Magnesium": 95,
         "Total phenols": 2.2,
         "Flavanoids": 2.43,
         "Nonflavanoid phenols": 0.26,
         "Proanthocyanins": 1.57,
         "Color intensity": 5,
         "Hue": 1.17,
         "OD280/OD315 of diluted wines": 2.82,
         "Proline": 1280,
         "_deepnote_index_column": 11
        },
        {
         "Alcohol": 14.38,
         "Malic Acid": 1.87,
         "Ash": 2.38,
         "Alcalinity of ash ": 12,
         "Magnesium": 102,
         "Total phenols": 3.3,
         "Flavanoids": 3.64,
         "Nonflavanoid phenols": 0.29,
         "Proanthocyanins": 2.96,
         "Color intensity": 7.5,
         "Hue": 1.2,
         "OD280/OD315 of diluted wines": 3,
         "Proline": 1547,
         "_deepnote_index_column": 14
        },
        {
         "Alcohol": 13.32,
         "Malic Acid": 3.24,
         "Ash": 2.38,
         "Alcalinity of ash ": 21.5,
         "Magnesium": 92,
         "Total phenols": 1.93,
         "Flavanoids": 0.76,
         "Nonflavanoid phenols": 0.45,
         "Proanthocyanins": 1.25,
         "Color intensity": 8.42,
         "Hue": 0.55,
         "OD280/OD315 of diluted wines": 1.62,
         "Proline": 650,
         "_deepnote_index_column": 148
        },
        {
         "Alcohol": 12.52,
         "Malic Acid": 2.43,
         "Ash": 2.17,
         "Alcalinity of ash ": 21,
         "Magnesium": 88,
         "Total phenols": 2.55,
         "Flavanoids": 2.27,
         "Nonflavanoid phenols": 0.26,
         "Proanthocyanins": 1.22,
         "Color intensity": 2,
         "Hue": 0.9,
         "OD280/OD315 of diluted wines": 2.78,
         "Proline": 325,
         "_deepnote_index_column": 111
        },
        {
         "Alcohol": 12.87,
         "Malic Acid": 4.61,
         "Ash": 2.48,
         "Alcalinity of ash ": 21.5,
         "Magnesium": 86,
         "Total phenols": 1.7,
         "Flavanoids": 0.65,
         "Nonflavanoid phenols": 0.47,
         "Proanthocyanins": 0.86,
         "Color intensity": 7.65,
         "Hue": 0.54,
         "OD280/OD315 of diluted wines": 1.86,
         "Proline": 625,
         "_deepnote_index_column": 147
        },
        {
         "Alcohol": 13.58,
         "Malic Acid": 1.66,
         "Ash": 2.36,
         "Alcalinity of ash ": 19.1,
         "Magnesium": 106,
         "Total phenols": 2.86,
         "Flavanoids": 3.19,
         "Nonflavanoid phenols": 0.22,
         "Proanthocyanins": 1.95,
         "Color intensity": 6.9,
         "Hue": 1.09,
         "OD280/OD315 of diluted wines": 2.88,
         "Proline": 1515,
         "_deepnote_index_column": 31
        },
        {
         "Alcohol": 12.64,
         "Malic Acid": 1.36,
         "Ash": 2.02,
         "Alcalinity of ash ": 16.8,
         "Magnesium": 100,
         "Total phenols": 2.02,
         "Flavanoids": 1.41,
         "Nonflavanoid phenols": 0.53,
         "Proanthocyanins": 0.62,
         "Color intensity": 5.75,
         "Hue": 0.98,
         "OD280/OD315 of diluted wines": 1.59,
         "Proline": 450,
         "_deepnote_index_column": 61
        },
        {
         "Alcohol": 14.21,
         "Malic Acid": 4.04,
         "Ash": 2.44,
         "Alcalinity of ash ": 18.9,
         "Magnesium": 111,
         "Total phenols": 2.85,
         "Flavanoids": 2.65,
         "Nonflavanoid phenols": 0.3,
         "Proanthocyanins": 1.25,
         "Color intensity": 5.24,
         "Hue": 0.87,
         "OD280/OD315 of diluted wines": 3.33,
         "Proline": 1080,
         "_deepnote_index_column": 45
        },
        {
         "Alcohol": 13.88,
         "Malic Acid": 1.89,
         "Ash": 2.59,
         "Alcalinity of ash ": 15,
         "Magnesium": 101,
         "Total phenols": 3.25,
         "Flavanoids": 3.56,
         "Nonflavanoid phenols": 0.17,
         "Proanthocyanins": 1.7,
         "Color intensity": 5.43,
         "Hue": 0.88,
         "OD280/OD315 of diluted wines": 3.56,
         "Proline": 1095,
         "_deepnote_index_column": 42
        },
        {
         "Alcohol": 12.07,
         "Malic Acid": 2.16,
         "Ash": 2.17,
         "Alcalinity of ash ": 21,
         "Magnesium": 85,
         "Total phenols": 2.6,
         "Flavanoids": 2.65,
         "Nonflavanoid phenols": 0.37,
         "Proanthocyanins": 1.35,
         "Color intensity": 2.76,
         "Hue": 0.86,
         "OD280/OD315 of diluted wines": 3.28,
         "Proline": 378,
         "_deepnote_index_column": 125
        },
        {
         "Alcohol": 12.96,
         "Malic Acid": 3.45,
         "Ash": 2.35,
         "Alcalinity of ash ": 18.5,
         "Magnesium": 106,
         "Total phenols": 1.39,
         "Flavanoids": 0.7,
         "Nonflavanoid phenols": 0.4,
         "Proanthocyanins": 0.94,
         "Color intensity": 5.28,
         "Hue": 0.68,
         "OD280/OD315 of diluted wines": 1.75,
         "Proline": 675,
         "_deepnote_index_column": 163
        },
        {
         "Alcohol": 13.78,
         "Malic Acid": 2.76,
         "Ash": 2.3,
         "Alcalinity of ash ": 22,
         "Magnesium": 90,
         "Total phenols": 1.35,
         "Flavanoids": 0.68,
         "Nonflavanoid phenols": 0.41,
         "Proanthocyanins": 1.03,
         "Color intensity": 9.58,
         "Hue": 0.7,
         "OD280/OD315 of diluted wines": 1.68,
         "Proline": 615,
         "_deepnote_index_column": 164
        },
        {
         "Alcohol": 13.41,
         "Malic Acid": 3.84,
         "Ash": 2.12,
         "Alcalinity of ash ": 18.8,
         "Magnesium": 90,
         "Total phenols": 2.45,
         "Flavanoids": 2.68,
         "Nonflavanoid phenols": 0.27,
         "Proanthocyanins": 1.48,
         "Color intensity": 4.28,
         "Hue": 0.91,
         "OD280/OD315 of diluted wines": 3,
         "Proline": 1035,
         "_deepnote_index_column": 41
        },
        {
         "Alcohol": 13.49,
         "Malic Acid": 1.66,
         "Ash": 2.24,
         "Alcalinity of ash ": 24,
         "Magnesium": 87,
         "Total phenols": 1.88,
         "Flavanoids": 1.84,
         "Nonflavanoid phenols": 0.27,
         "Proanthocyanins": 1.03,
         "Color intensity": 3.74,
         "Hue": 0.98,
         "OD280/OD315 of diluted wines": 2.78,
         "Proline": 472,
         "_deepnote_index_column": 72
        },
        {
         "Alcohol": 11.46,
         "Malic Acid": 3.74,
         "Ash": 1.82,
         "Alcalinity of ash ": 19.5,
         "Magnesium": 107,
         "Total phenols": 3.18,
         "Flavanoids": 2.58,
         "Nonflavanoid phenols": 0.24,
         "Proanthocyanins": 3.58,
         "Color intensity": 2.9,
         "Hue": 0.75,
         "OD280/OD315 of diluted wines": 2.81,
         "Proline": 562,
         "_deepnote_index_column": 110
        },
        {
         "Alcohol": 13.48,
         "Malic Acid": 1.81,
         "Ash": 2.41,
         "Alcalinity of ash ": 20.5,
         "Magnesium": 100,
         "Total phenols": 2.7,
         "Flavanoids": 2.98,
         "Nonflavanoid phenols": 0.26,
         "Proanthocyanins": 1.86,
         "Color intensity": 5.1,
         "Hue": 1.04,
         "OD280/OD315 of diluted wines": 3.47,
         "Proline": 920,
         "_deepnote_index_column": 35
        },
        {
         "Alcohol": 12.69,
         "Malic Acid": 1.53,
         "Ash": 2.26,
         "Alcalinity of ash ": 20.7,
         "Magnesium": 80,
         "Total phenols": 1.38,
         "Flavanoids": 1.46,
         "Nonflavanoid phenols": 0.58,
         "Proanthocyanins": 1.62,
         "Color intensity": 3.05,
         "Hue": 0.96,
         "OD280/OD315 of diluted wines": 2.06,
         "Proline": 495,
         "_deepnote_index_column": 92
        },
        {
         "Alcohol": 13.76,
         "Malic Acid": 1.53,
         "Ash": 2.7,
         "Alcalinity of ash ": 19.5,
         "Magnesium": 132,
         "Total phenols": 2.95,
         "Flavanoids": 2.74,
         "Nonflavanoid phenols": 0.5,
         "Proanthocyanins": 1.35,
         "Color intensity": 5.4,
         "Hue": 1.25,
         "OD280/OD315 of diluted wines": 3,
         "Proline": 1235,
         "_deepnote_index_column": 33
        },
        {
         "Alcohol": 11.65,
         "Malic Acid": 1.67,
         "Ash": 2.62,
         "Alcalinity of ash ": 26,
         "Magnesium": 88,
         "Total phenols": 1.92,
         "Flavanoids": 1.61,
         "Nonflavanoid phenols": 0.4,
         "Proanthocyanins": 1.34,
         "Color intensity": 2.6,
         "Hue": 1.36,
         "OD280/OD315 of diluted wines": 3.21,
         "Proline": 562,
         "_deepnote_index_column": 87
        },
        {
         "Alcohol": 13.49,
         "Malic Acid": 3.59,
         "Ash": 2.19,
         "Alcalinity of ash ": 19.5,
         "Magnesium": 88,
         "Total phenols": 1.62,
         "Flavanoids": 0.48,
         "Nonflavanoid phenols": 0.58,
         "Proanthocyanins": 0.88,
         "Color intensity": 5.7,
         "Hue": 0.81,
         "OD280/OD315 of diluted wines": 1.82,
         "Proline": 580,
         "_deepnote_index_column": 138
        },
        {
         "Alcohol": 13.23,
         "Malic Acid": 3.3,
         "Ash": 2.28,
         "Alcalinity of ash ": 18.5,
         "Magnesium": 98,
         "Total phenols": 1.8,
         "Flavanoids": 0.83,
         "Nonflavanoid phenols": 0.61,
         "Proanthocyanins": 1.87,
         "Color intensity": 10.52,
         "Hue": 0.56,
         "OD280/OD315 of diluted wines": 1.51,
         "Proline": 675,
         "_deepnote_index_column": 153
        },
        {
         "Alcohol": 14.34,
         "Malic Acid": 1.68,
         "Ash": 2.7,
         "Alcalinity of ash ": 25,
         "Magnesium": 98,
         "Total phenols": 2.8,
         "Flavanoids": 1.31,
         "Nonflavanoid phenols": 0.53,
         "Proanthocyanins": 2.7,
         "Color intensity": 13,
         "Hue": 0.57,
         "OD280/OD315 of diluted wines": 1.96,
         "Proline": 660,
         "_deepnote_index_column": 158
        },
        {
         "Alcohol": 12.42,
         "Malic Acid": 2.55,
         "Ash": 2.27,
         "Alcalinity of ash ": 22,
         "Magnesium": 90,
         "Total phenols": 1.68,
         "Flavanoids": 1.84,
         "Nonflavanoid phenols": 0.66,
         "Proanthocyanins": 1.42,
         "Color intensity": 2.7,
         "Hue": 0.86,
         "OD280/OD315 of diluted wines": 3.3,
         "Proline": 315,
         "_deepnote_index_column": 105
        },
        {
         "Alcohol": 12.88,
         "Malic Acid": 2.99,
         "Ash": 2.4,
         "Alcalinity of ash ": 20,
         "Magnesium": 104,
         "Total phenols": 1.3,
         "Flavanoids": 1.22,
         "Nonflavanoid phenols": 0.24,
         "Proanthocyanins": 0.83,
         "Color intensity": 5.4,
         "Hue": 0.74,
         "OD280/OD315 of diluted wines": 1.42,
         "Proline": 530,
         "_deepnote_index_column": 131
        },
        {
         "Alcohol": 12.6,
         "Malic Acid": 1.34,
         "Ash": 1.9,
         "Alcalinity of ash ": 18.5,
         "Magnesium": 88,
         "Total phenols": 1.45,
         "Flavanoids": 1.36,
         "Nonflavanoid phenols": 0.29,
         "Proanthocyanins": 1.35,
         "Color intensity": 2.45,
         "Hue": 1.04,
         "OD280/OD315 of diluted wines": 2.77,
         "Proline": 562,
         "_deepnote_index_column": 101
        },
        {
         "Alcohol": 13.05,
         "Malic Acid": 1.73,
         "Ash": 2.04,
         "Alcalinity of ash ": 12.4,
         "Magnesium": 92,
         "Total phenols": 2.72,
         "Flavanoids": 3.27,
         "Nonflavanoid phenols": 0.17,
         "Proanthocyanins": 2.91,
         "Color intensity": 7.2,
         "Hue": 1.12,
         "OD280/OD315 of diluted wines": 2.91,
         "Proline": 1150,
         "_deepnote_index_column": 50
        },
        {
         "Alcohol": 13.86,
         "Malic Acid": 1.51,
         "Ash": 2.67,
         "Alcalinity of ash ": 25,
         "Magnesium": 86,
         "Total phenols": 2.95,
         "Flavanoids": 2.86,
         "Nonflavanoid phenols": 0.21,
         "Proanthocyanins": 1.87,
         "Color intensity": 3.38,
         "Hue": 1.36,
         "OD280/OD315 of diluted wines": 3.16,
         "Proline": 410,
         "_deepnote_index_column": 71
        },
        {
         "Alcohol": 12.29,
         "Malic Acid": 1.41,
         "Ash": 1.98,
         "Alcalinity of ash ": 16,
         "Magnesium": 85,
         "Total phenols": 2.55,
         "Flavanoids": 2.5,
         "Nonflavanoid phenols": 0.29,
         "Proanthocyanins": 1.77,
         "Color intensity": 2.9,
         "Hue": 1.23,
         "OD280/OD315 of diluted wines": 2.74,
         "Proline": 428,
         "_deepnote_index_column": 97
        },
        {
         "Alcohol": 12.72,
         "Malic Acid": 1.81,
         "Ash": 2.2,
         "Alcalinity of ash ": 18.8,
         "Magnesium": 86,
         "Total phenols": 2.2,
         "Flavanoids": 2.53,
         "Nonflavanoid phenols": 0.26,
         "Proanthocyanins": 1.77,
         "Color intensity": 3.9,
         "Hue": 1.16,
         "OD280/OD315 of diluted wines": 3.14,
         "Proline": 714,
         "_deepnote_index_column": 81
        },
        {
         "Alcohol": 12.08,
         "Malic Acid": 1.39,
         "Ash": 2.5,
         "Alcalinity of ash ": 22.5,
         "Magnesium": 84,
         "Total phenols": 2.56,
         "Flavanoids": 2.29,
         "Nonflavanoid phenols": 0.43,
         "Proanthocyanins": 1.04,
         "Color intensity": 2.9,
         "Hue": 0.93,
         "OD280/OD315 of diluted wines": 3.19,
         "Proline": 385,
         "_deepnote_index_column": 114
        },
        {
         "Alcohol": 12.67,
         "Malic Acid": 0.98,
         "Ash": 2.24,
         "Alcalinity of ash ": 18,
         "Magnesium": 99,
         "Total phenols": 2.2,
         "Flavanoids": 1.94,
         "Nonflavanoid phenols": 0.3,
         "Proanthocyanins": 1.46,
         "Color intensity": 2.62,
         "Hue": 1.23,
         "OD280/OD315 of diluted wines": 3.16,
         "Proline": 450,
         "_deepnote_index_column": 85
        },
        {
         "Alcohol": 12.17,
         "Malic Acid": 1.45,
         "Ash": 2.53,
         "Alcalinity of ash ": 19,
         "Magnesium": 104,
         "Total phenols": 1.89,
         "Flavanoids": 1.75,
         "Nonflavanoid phenols": 0.45,
         "Proanthocyanins": 1.03,
         "Color intensity": 2.95,
         "Hue": 1.45,
         "OD280/OD315 of diluted wines": 2.23,
         "Proline": 355,
         "_deepnote_index_column": 64
        },
        {
         "Alcohol": 13.88,
         "Malic Acid": 5.04,
         "Ash": 2.23,
         "Alcalinity of ash ": 20,
         "Magnesium": 80,
         "Total phenols": 0.98,
         "Flavanoids": 0.34,
         "Nonflavanoid phenols": 0.4,
         "Proanthocyanins": 0.68,
         "Color intensity": 4.9,
         "Hue": 0.58,
         "OD280/OD315 of diluted wines": 1.33,
         "Proline": 415,
         "_deepnote_index_column": 146
        },
        {
         "Alcohol": 12.42,
         "Malic Acid": 4.43,
         "Ash": 2.73,
         "Alcalinity of ash ": 26.5,
         "Magnesium": 102,
         "Total phenols": 2.2,
         "Flavanoids": 2.13,
         "Nonflavanoid phenols": 0.43,
         "Proanthocyanins": 1.71,
         "Color intensity": 2.08,
         "Hue": 0.92,
         "OD280/OD315 of diluted wines": 3.12,
         "Proline": 365,
         "_deepnote_index_column": 122
        }
       ],
       "rows_bottom": null
      },
      "text/plain": "     Alcohol  Malic Acid   Ash  Alcalinity of ash   Magnesium  Total phenols  \\\n127    11.79        2.13  2.78                28.5         92           2.13   \n40     13.56        1.71  2.31                16.2        117           3.15   \n135    12.60        2.46  2.20                18.5         94           1.62   \n169    13.40        4.60  2.86                25.0        112           1.98   \n108    12.22        1.29  1.94                19.0         92           2.36   \n103    11.82        1.72  1.88                19.5         86           2.50   \n38     13.07        1.50  2.10                15.5         98           2.40   \n155    13.17        5.19  2.32                22.0         93           1.74   \n82     12.08        1.13  2.51                24.0         78           2.00   \n174    13.40        3.91  2.48                23.0        102           1.80   \n175    13.27        4.28  2.26                20.0        120           1.59   \n11     14.12        1.48  2.32                16.8         95           2.20   \n14     14.38        1.87  2.38                12.0        102           3.30   \n148    13.32        3.24  2.38                21.5         92           1.93   \n111    12.52        2.43  2.17                21.0         88           2.55   \n147    12.87        4.61  2.48                21.5         86           1.70   \n31     13.58        1.66  2.36                19.1        106           2.86   \n61     12.64        1.36  2.02                16.8        100           2.02   \n45     14.21        4.04  2.44                18.9        111           2.85   \n42     13.88        1.89  2.59                15.0        101           3.25   \n125    12.07        2.16  2.17                21.0         85           2.60   \n163    12.96        3.45  2.35                18.5        106           1.39   \n164    13.78        2.76  2.30                22.0         90           1.35   \n41     13.41        3.84  2.12                18.8         90           2.45   \n72     13.49        1.66  2.24                24.0         87           1.88   \n110    11.46        3.74  1.82                19.5        107           3.18   \n35     13.48        1.81  2.41                20.5        100           2.70   \n92     12.69        1.53  2.26                20.7         80           1.38   \n33     13.76        1.53  2.70                19.5        132           2.95   \n87     11.65        1.67  2.62                26.0         88           1.92   \n138    13.49        3.59  2.19                19.5         88           1.62   \n153    13.23        3.30  2.28                18.5         98           1.80   \n158    14.34        1.68  2.70                25.0         98           2.80   \n105    12.42        2.55  2.27                22.0         90           1.68   \n131    12.88        2.99  2.40                20.0        104           1.30   \n101    12.60        1.34  1.90                18.5         88           1.45   \n50     13.05        1.73  2.04                12.4         92           2.72   \n71     13.86        1.51  2.67                25.0         86           2.95   \n97     12.29        1.41  1.98                16.0         85           2.55   \n81     12.72        1.81  2.20                18.8         86           2.20   \n114    12.08        1.39  2.50                22.5         84           2.56   \n85     12.67        0.98  2.24                18.0         99           2.20   \n64     12.17        1.45  2.53                19.0        104           1.89   \n146    13.88        5.04  2.23                20.0         80           0.98   \n122    12.42        4.43  2.73                26.5        102           2.20   \n\n     Flavanoids  Nonflavanoid phenols  Proanthocyanins  Color intensity   Hue  \\\n127        2.24                  0.58             1.76             3.00  0.97   \n40         3.29                  0.34             2.34             6.13  0.95   \n135        0.66                  0.63             0.94             7.10  0.73   \n169        0.96                  0.27             1.11             8.50  0.67   \n108        2.04                  0.39             2.08             2.70  0.86   \n103        1.64                  0.37             1.42             2.06  0.94   \n38         2.64                  0.28             1.37             3.70  1.18   \n155        0.63                  0.61             1.55             7.90  0.60   \n82         1.58                  0.40             1.40             2.20  1.31   \n174        0.75                  0.43             1.41             7.30  0.70   \n175        0.69                  0.43             1.35            10.20  0.59   \n11         2.43                  0.26             1.57             5.00  1.17   \n14         3.64                  0.29             2.96             7.50  1.20   \n148        0.76                  0.45             1.25             8.42  0.55   \n111        2.27                  0.26             1.22             2.00  0.90   \n147        0.65                  0.47             0.86             7.65  0.54   \n31         3.19                  0.22             1.95             6.90  1.09   \n61         1.41                  0.53             0.62             5.75  0.98   \n45         2.65                  0.30             1.25             5.24  0.87   \n42         3.56                  0.17             1.70             5.43  0.88   \n125        2.65                  0.37             1.35             2.76  0.86   \n163        0.70                  0.40             0.94             5.28  0.68   \n164        0.68                  0.41             1.03             9.58  0.70   \n41         2.68                  0.27             1.48             4.28  0.91   \n72         1.84                  0.27             1.03             3.74  0.98   \n110        2.58                  0.24             3.58             2.90  0.75   \n35         2.98                  0.26             1.86             5.10  1.04   \n92         1.46                  0.58             1.62             3.05  0.96   \n33         2.74                  0.50             1.35             5.40  1.25   \n87         1.61                  0.40             1.34             2.60  1.36   \n138        0.48                  0.58             0.88             5.70  0.81   \n153        0.83                  0.61             1.87            10.52  0.56   \n158        1.31                  0.53             2.70            13.00  0.57   \n105        1.84                  0.66             1.42             2.70  0.86   \n131        1.22                  0.24             0.83             5.40  0.74   \n101        1.36                  0.29             1.35             2.45  1.04   \n50         3.27                  0.17             2.91             7.20  1.12   \n71         2.86                  0.21             1.87             3.38  1.36   \n97         2.50                  0.29             1.77             2.90  1.23   \n81         2.53                  0.26             1.77             3.90  1.16   \n114        2.29                  0.43             1.04             2.90  0.93   \n85         1.94                  0.30             1.46             2.62  1.23   \n64         1.75                  0.45             1.03             2.95  1.45   \n146        0.34                  0.40             0.68             4.90  0.58   \n122        2.13                  0.43             1.71             2.08  0.92   \n\n     OD280/OD315 of diluted wines  Proline  \n127                          2.44      466  \n40                           3.38      795  \n135                          1.58      695  \n169                          1.92      630  \n108                          3.02      312  \n103                          2.44      415  \n38                           2.69     1020  \n155                          1.48      725  \n82                           2.72      630  \n174                          1.56      750  \n175                          1.56      835  \n11                           2.82     1280  \n14                           3.00     1547  \n148                          1.62      650  \n111                          2.78      325  \n147                          1.86      625  \n31                           2.88     1515  \n61                           1.59      450  \n45                           3.33     1080  \n42                           3.56     1095  \n125                          3.28      378  \n163                          1.75      675  \n164                          1.68      615  \n41                           3.00     1035  \n72                           2.78      472  \n110                          2.81      562  \n35                           3.47      920  \n92                           2.06      495  \n33                           3.00     1235  \n87                           3.21      562  \n138                          1.82      580  \n153                          1.51      675  \n158                          1.96      660  \n105                          3.30      315  \n131                          1.42      530  \n101                          2.77      562  \n50                           2.91     1150  \n71                           3.16      410  \n97                           2.74      428  \n81                           3.14      714  \n114                          3.19      385  \n85                           3.16      450  \n64                           2.23      355  \n146                          1.33      415  \n122                          3.12      365  ",
      "text/html": "<div>\n<style scoped>\n    .dataframe tbody tr th:only-of-type {\n        vertical-align: middle;\n    }\n\n    .dataframe tbody tr th {\n        vertical-align: top;\n    }\n\n    .dataframe thead th {\n        text-align: right;\n    }\n</style>\n<table border=\"1\" class=\"dataframe\">\n  <thead>\n    <tr style=\"text-align: right;\">\n      <th></th>\n      <th>Alcohol</th>\n      <th>Malic Acid</th>\n      <th>Ash</th>\n      <th>Alcalinity of ash</th>\n      <th>Magnesium</th>\n      <th>Total phenols</th>\n      <th>Flavanoids</th>\n      <th>Nonflavanoid phenols</th>\n      <th>Proanthocyanins</th>\n      <th>Color intensity</th>\n      <th>Hue</th>\n      <th>OD280/OD315 of diluted wines</th>\n      <th>Proline</th>\n    </tr>\n  </thead>\n  <tbody>\n    <tr>\n      <th>127</th>\n      <td>11.79</td>\n      <td>2.13</td>\n      <td>2.78</td>\n      <td>28.5</td>\n      <td>92</td>\n      <td>2.13</td>\n      <td>2.24</td>\n      <td>0.58</td>\n      <td>1.76</td>\n      <td>3.00</td>\n      <td>0.97</td>\n      <td>2.44</td>\n      <td>466</td>\n    </tr>\n    <tr>\n      <th>40</th>\n      <td>13.56</td>\n      <td>1.71</td>\n      <td>2.31</td>\n      <td>16.2</td>\n      <td>117</td>\n      <td>3.15</td>\n      <td>3.29</td>\n      <td>0.34</td>\n      <td>2.34</td>\n      <td>6.13</td>\n      <td>0.95</td>\n      <td>3.38</td>\n      <td>795</td>\n    </tr>\n    <tr>\n      <th>135</th>\n      <td>12.60</td>\n      <td>2.46</td>\n      <td>2.20</td>\n      <td>18.5</td>\n      <td>94</td>\n      <td>1.62</td>\n      <td>0.66</td>\n      <td>0.63</td>\n      <td>0.94</td>\n      <td>7.10</td>\n      <td>0.73</td>\n      <td>1.58</td>\n      <td>695</td>\n    </tr>\n    <tr>\n      <th>169</th>\n      <td>13.40</td>\n      <td>4.60</td>\n      <td>2.86</td>\n      <td>25.0</td>\n      <td>112</td>\n      <td>1.98</td>\n      <td>0.96</td>\n      <td>0.27</td>\n      <td>1.11</td>\n      <td>8.50</td>\n      <td>0.67</td>\n      <td>1.92</td>\n      <td>630</td>\n    </tr>\n    <tr>\n      <th>108</th>\n      <td>12.22</td>\n      <td>1.29</td>\n      <td>1.94</td>\n      <td>19.0</td>\n      <td>92</td>\n      <td>2.36</td>\n      <td>2.04</td>\n      <td>0.39</td>\n      <td>2.08</td>\n      <td>2.70</td>\n      <td>0.86</td>\n      <td>3.02</td>\n      <td>312</td>\n    </tr>\n    <tr>\n      <th>103</th>\n      <td>11.82</td>\n      <td>1.72</td>\n      <td>1.88</td>\n      <td>19.5</td>\n      <td>86</td>\n      <td>2.50</td>\n      <td>1.64</td>\n      <td>0.37</td>\n      <td>1.42</td>\n      <td>2.06</td>\n      <td>0.94</td>\n      <td>2.44</td>\n      <td>415</td>\n    </tr>\n    <tr>\n      <th>38</th>\n      <td>13.07</td>\n      <td>1.50</td>\n      <td>2.10</td>\n      <td>15.5</td>\n      <td>98</td>\n      <td>2.40</td>\n      <td>2.64</td>\n      <td>0.28</td>\n      <td>1.37</td>\n      <td>3.70</td>\n      <td>1.18</td>\n      <td>2.69</td>\n      <td>1020</td>\n    </tr>\n    <tr>\n      <th>155</th>\n      <td>13.17</td>\n      <td>5.19</td>\n      <td>2.32</td>\n      <td>22.0</td>\n      <td>93</td>\n      <td>1.74</td>\n      <td>0.63</td>\n      <td>0.61</td>\n      <td>1.55</td>\n      <td>7.90</td>\n      <td>0.60</td>\n      <td>1.48</td>\n      <td>725</td>\n    </tr>\n    <tr>\n      <th>82</th>\n      <td>12.08</td>\n      <td>1.13</td>\n      <td>2.51</td>\n      <td>24.0</td>\n      <td>78</td>\n      <td>2.00</td>\n      <td>1.58</td>\n      <td>0.40</td>\n      <td>1.40</td>\n      <td>2.20</td>\n      <td>1.31</td>\n      <td>2.72</td>\n      <td>630</td>\n    </tr>\n    <tr>\n      <th>174</th>\n      <td>13.40</td>\n      <td>3.91</td>\n      <td>2.48</td>\n      <td>23.0</td>\n      <td>102</td>\n      <td>1.80</td>\n      <td>0.75</td>\n      <td>0.43</td>\n      <td>1.41</td>\n      <td>7.30</td>\n      <td>0.70</td>\n      <td>1.56</td>\n      <td>750</td>\n    </tr>\n    <tr>\n      <th>175</th>\n      <td>13.27</td>\n      <td>4.28</td>\n      <td>2.26</td>\n      <td>20.0</td>\n      <td>120</td>\n      <td>1.59</td>\n      <td>0.69</td>\n      <td>0.43</td>\n      <td>1.35</td>\n      <td>10.20</td>\n      <td>0.59</td>\n      <td>1.56</td>\n      <td>835</td>\n    </tr>\n    <tr>\n      <th>11</th>\n      <td>14.12</td>\n      <td>1.48</td>\n      <td>2.32</td>\n      <td>16.8</td>\n      <td>95</td>\n      <td>2.20</td>\n      <td>2.43</td>\n      <td>0.26</td>\n      <td>1.57</td>\n      <td>5.00</td>\n      <td>1.17</td>\n      <td>2.82</td>\n      <td>1280</td>\n    </tr>\n    <tr>\n      <th>14</th>\n      <td>14.38</td>\n      <td>1.87</td>\n      <td>2.38</td>\n      <td>12.0</td>\n      <td>102</td>\n      <td>3.30</td>\n      <td>3.64</td>\n      <td>0.29</td>\n      <td>2.96</td>\n      <td>7.50</td>\n      <td>1.20</td>\n      <td>3.00</td>\n      <td>1547</td>\n    </tr>\n    <tr>\n      <th>148</th>\n      <td>13.32</td>\n      <td>3.24</td>\n      <td>2.38</td>\n      <td>21.5</td>\n      <td>92</td>\n      <td>1.93</td>\n      <td>0.76</td>\n      <td>0.45</td>\n      <td>1.25</td>\n      <td>8.42</td>\n      <td>0.55</td>\n      <td>1.62</td>\n      <td>650</td>\n    </tr>\n    <tr>\n      <th>111</th>\n      <td>12.52</td>\n      <td>2.43</td>\n      <td>2.17</td>\n      <td>21.0</td>\n      <td>88</td>\n      <td>2.55</td>\n      <td>2.27</td>\n      <td>0.26</td>\n      <td>1.22</td>\n      <td>2.00</td>\n      <td>0.90</td>\n      <td>2.78</td>\n      <td>325</td>\n    </tr>\n    <tr>\n      <th>147</th>\n      <td>12.87</td>\n      <td>4.61</td>\n      <td>2.48</td>\n      <td>21.5</td>\n      <td>86</td>\n      <td>1.70</td>\n      <td>0.65</td>\n      <td>0.47</td>\n      <td>0.86</td>\n      <td>7.65</td>\n      <td>0.54</td>\n      <td>1.86</td>\n      <td>625</td>\n    </tr>\n    <tr>\n      <th>31</th>\n      <td>13.58</td>\n      <td>1.66</td>\n      <td>2.36</td>\n      <td>19.1</td>\n      <td>106</td>\n      <td>2.86</td>\n      <td>3.19</td>\n      <td>0.22</td>\n      <td>1.95</td>\n      <td>6.90</td>\n      <td>1.09</td>\n      <td>2.88</td>\n      <td>1515</td>\n    </tr>\n    <tr>\n      <th>61</th>\n      <td>12.64</td>\n      <td>1.36</td>\n      <td>2.02</td>\n      <td>16.8</td>\n      <td>100</td>\n      <td>2.02</td>\n      <td>1.41</td>\n      <td>0.53</td>\n      <td>0.62</td>\n      <td>5.75</td>\n      <td>0.98</td>\n      <td>1.59</td>\n      <td>450</td>\n    </tr>\n    <tr>\n      <th>45</th>\n      <td>14.21</td>\n      <td>4.04</td>\n      <td>2.44</td>\n      <td>18.9</td>\n      <td>111</td>\n      <td>2.85</td>\n      <td>2.65</td>\n      <td>0.30</td>\n      <td>1.25</td>\n      <td>5.24</td>\n      <td>0.87</td>\n      <td>3.33</td>\n      <td>1080</td>\n    </tr>\n    <tr>\n      <th>42</th>\n      <td>13.88</td>\n      <td>1.89</td>\n      <td>2.59</td>\n      <td>15.0</td>\n      <td>101</td>\n      <td>3.25</td>\n      <td>3.56</td>\n      <td>0.17</td>\n      <td>1.70</td>\n      <td>5.43</td>\n      <td>0.88</td>\n      <td>3.56</td>\n      <td>1095</td>\n    </tr>\n    <tr>\n      <th>125</th>\n      <td>12.07</td>\n      <td>2.16</td>\n      <td>2.17</td>\n      <td>21.0</td>\n      <td>85</td>\n      <td>2.60</td>\n      <td>2.65</td>\n      <td>0.37</td>\n      <td>1.35</td>\n      <td>2.76</td>\n      <td>0.86</td>\n      <td>3.28</td>\n      <td>378</td>\n    </tr>\n    <tr>\n      <th>163</th>\n      <td>12.96</td>\n      <td>3.45</td>\n      <td>2.35</td>\n      <td>18.5</td>\n      <td>106</td>\n      <td>1.39</td>\n      <td>0.70</td>\n      <td>0.40</td>\n      <td>0.94</td>\n      <td>5.28</td>\n      <td>0.68</td>\n      <td>1.75</td>\n      <td>675</td>\n    </tr>\n    <tr>\n      <th>164</th>\n      <td>13.78</td>\n      <td>2.76</td>\n      <td>2.30</td>\n      <td>22.0</td>\n      <td>90</td>\n      <td>1.35</td>\n      <td>0.68</td>\n      <td>0.41</td>\n      <td>1.03</td>\n      <td>9.58</td>\n      <td>0.70</td>\n      <td>1.68</td>\n      <td>615</td>\n    </tr>\n    <tr>\n      <th>41</th>\n      <td>13.41</td>\n      <td>3.84</td>\n      <td>2.12</td>\n      <td>18.8</td>\n      <td>90</td>\n      <td>2.45</td>\n      <td>2.68</td>\n      <td>0.27</td>\n      <td>1.48</td>\n      <td>4.28</td>\n      <td>0.91</td>\n      <td>3.00</td>\n      <td>1035</td>\n    </tr>\n    <tr>\n      <th>72</th>\n      <td>13.49</td>\n      <td>1.66</td>\n      <td>2.24</td>\n      <td>24.0</td>\n      <td>87</td>\n      <td>1.88</td>\n      <td>1.84</td>\n      <td>0.27</td>\n      <td>1.03</td>\n      <td>3.74</td>\n      <td>0.98</td>\n      <td>2.78</td>\n      <td>472</td>\n    </tr>\n    <tr>\n      <th>110</th>\n      <td>11.46</td>\n      <td>3.74</td>\n      <td>1.82</td>\n      <td>19.5</td>\n      <td>107</td>\n      <td>3.18</td>\n      <td>2.58</td>\n      <td>0.24</td>\n      <td>3.58</td>\n      <td>2.90</td>\n      <td>0.75</td>\n      <td>2.81</td>\n      <td>562</td>\n    </tr>\n    <tr>\n      <th>35</th>\n      <td>13.48</td>\n      <td>1.81</td>\n      <td>2.41</td>\n      <td>20.5</td>\n      <td>100</td>\n      <td>2.70</td>\n      <td>2.98</td>\n      <td>0.26</td>\n      <td>1.86</td>\n      <td>5.10</td>\n      <td>1.04</td>\n      <td>3.47</td>\n      <td>920</td>\n    </tr>\n    <tr>\n      <th>92</th>\n      <td>12.69</td>\n      <td>1.53</td>\n      <td>2.26</td>\n      <td>20.7</td>\n      <td>80</td>\n      <td>1.38</td>\n      <td>1.46</td>\n      <td>0.58</td>\n      <td>1.62</td>\n      <td>3.05</td>\n      <td>0.96</td>\n      <td>2.06</td>\n      <td>495</td>\n    </tr>\n    <tr>\n      <th>33</th>\n      <td>13.76</td>\n      <td>1.53</td>\n      <td>2.70</td>\n      <td>19.5</td>\n      <td>132</td>\n      <td>2.95</td>\n      <td>2.74</td>\n      <td>0.50</td>\n      <td>1.35</td>\n      <td>5.40</td>\n      <td>1.25</td>\n      <td>3.00</td>\n      <td>1235</td>\n    </tr>\n    <tr>\n      <th>87</th>\n      <td>11.65</td>\n      <td>1.67</td>\n      <td>2.62</td>\n      <td>26.0</td>\n      <td>88</td>\n      <td>1.92</td>\n      <td>1.61</td>\n      <td>0.40</td>\n      <td>1.34</td>\n      <td>2.60</td>\n      <td>1.36</td>\n      <td>3.21</td>\n      <td>562</td>\n    </tr>\n    <tr>\n      <th>138</th>\n      <td>13.49</td>\n      <td>3.59</td>\n      <td>2.19</td>\n      <td>19.5</td>\n      <td>88</td>\n      <td>1.62</td>\n      <td>0.48</td>\n      <td>0.58</td>\n      <td>0.88</td>\n      <td>5.70</td>\n      <td>0.81</td>\n      <td>1.82</td>\n      <td>580</td>\n    </tr>\n    <tr>\n      <th>153</th>\n      <td>13.23</td>\n      <td>3.30</td>\n      <td>2.28</td>\n      <td>18.5</td>\n      <td>98</td>\n      <td>1.80</td>\n      <td>0.83</td>\n      <td>0.61</td>\n      <td>1.87</td>\n      <td>10.52</td>\n      <td>0.56</td>\n      <td>1.51</td>\n      <td>675</td>\n    </tr>\n    <tr>\n      <th>158</th>\n      <td>14.34</td>\n      <td>1.68</td>\n      <td>2.70</td>\n      <td>25.0</td>\n      <td>98</td>\n      <td>2.80</td>\n      <td>1.31</td>\n      <td>0.53</td>\n      <td>2.70</td>\n      <td>13.00</td>\n      <td>0.57</td>\n      <td>1.96</td>\n      <td>660</td>\n    </tr>\n    <tr>\n      <th>105</th>\n      <td>12.42</td>\n      <td>2.55</td>\n      <td>2.27</td>\n      <td>22.0</td>\n      <td>90</td>\n      <td>1.68</td>\n      <td>1.84</td>\n      <td>0.66</td>\n      <td>1.42</td>\n      <td>2.70</td>\n      <td>0.86</td>\n      <td>3.30</td>\n      <td>315</td>\n    </tr>\n    <tr>\n      <th>131</th>\n      <td>12.88</td>\n      <td>2.99</td>\n      <td>2.40</td>\n      <td>20.0</td>\n      <td>104</td>\n      <td>1.30</td>\n      <td>1.22</td>\n      <td>0.24</td>\n      <td>0.83</td>\n      <td>5.40</td>\n      <td>0.74</td>\n      <td>1.42</td>\n      <td>530</td>\n    </tr>\n    <tr>\n      <th>101</th>\n      <td>12.60</td>\n      <td>1.34</td>\n      <td>1.90</td>\n      <td>18.5</td>\n      <td>88</td>\n      <td>1.45</td>\n      <td>1.36</td>\n      <td>0.29</td>\n      <td>1.35</td>\n      <td>2.45</td>\n      <td>1.04</td>\n      <td>2.77</td>\n      <td>562</td>\n    </tr>\n    <tr>\n      <th>50</th>\n      <td>13.05</td>\n      <td>1.73</td>\n      <td>2.04</td>\n      <td>12.4</td>\n      <td>92</td>\n      <td>2.72</td>\n      <td>3.27</td>\n      <td>0.17</td>\n      <td>2.91</td>\n      <td>7.20</td>\n      <td>1.12</td>\n      <td>2.91</td>\n      <td>1150</td>\n    </tr>\n    <tr>\n      <th>71</th>\n      <td>13.86</td>\n      <td>1.51</td>\n      <td>2.67</td>\n      <td>25.0</td>\n      <td>86</td>\n      <td>2.95</td>\n      <td>2.86</td>\n      <td>0.21</td>\n      <td>1.87</td>\n      <td>3.38</td>\n      <td>1.36</td>\n      <td>3.16</td>\n      <td>410</td>\n    </tr>\n    <tr>\n      <th>97</th>\n      <td>12.29</td>\n      <td>1.41</td>\n      <td>1.98</td>\n      <td>16.0</td>\n      <td>85</td>\n      <td>2.55</td>\n      <td>2.50</td>\n      <td>0.29</td>\n      <td>1.77</td>\n      <td>2.90</td>\n      <td>1.23</td>\n      <td>2.74</td>\n      <td>428</td>\n    </tr>\n    <tr>\n      <th>81</th>\n      <td>12.72</td>\n      <td>1.81</td>\n      <td>2.20</td>\n      <td>18.8</td>\n      <td>86</td>\n      <td>2.20</td>\n      <td>2.53</td>\n      <td>0.26</td>\n      <td>1.77</td>\n      <td>3.90</td>\n      <td>1.16</td>\n      <td>3.14</td>\n      <td>714</td>\n    </tr>\n    <tr>\n      <th>114</th>\n      <td>12.08</td>\n      <td>1.39</td>\n      <td>2.50</td>\n      <td>22.5</td>\n      <td>84</td>\n      <td>2.56</td>\n      <td>2.29</td>\n      <td>0.43</td>\n      <td>1.04</td>\n      <td>2.90</td>\n      <td>0.93</td>\n      <td>3.19</td>\n      <td>385</td>\n    </tr>\n    <tr>\n      <th>85</th>\n      <td>12.67</td>\n      <td>0.98</td>\n      <td>2.24</td>\n      <td>18.0</td>\n      <td>99</td>\n      <td>2.20</td>\n      <td>1.94</td>\n      <td>0.30</td>\n      <td>1.46</td>\n      <td>2.62</td>\n      <td>1.23</td>\n      <td>3.16</td>\n      <td>450</td>\n    </tr>\n    <tr>\n      <th>64</th>\n      <td>12.17</td>\n      <td>1.45</td>\n      <td>2.53</td>\n      <td>19.0</td>\n      <td>104</td>\n      <td>1.89</td>\n      <td>1.75</td>\n      <td>0.45</td>\n      <td>1.03</td>\n      <td>2.95</td>\n      <td>1.45</td>\n      <td>2.23</td>\n      <td>355</td>\n    </tr>\n    <tr>\n      <th>146</th>\n      <td>13.88</td>\n      <td>5.04</td>\n      <td>2.23</td>\n      <td>20.0</td>\n      <td>80</td>\n      <td>0.98</td>\n      <td>0.34</td>\n      <td>0.40</td>\n      <td>0.68</td>\n      <td>4.90</td>\n      <td>0.58</td>\n      <td>1.33</td>\n      <td>415</td>\n    </tr>\n    <tr>\n      <th>122</th>\n      <td>12.42</td>\n      <td>4.43</td>\n      <td>2.73</td>\n      <td>26.5</td>\n      <td>102</td>\n      <td>2.20</td>\n      <td>2.13</td>\n      <td>0.43</td>\n      <td>1.71</td>\n      <td>2.08</td>\n      <td>0.92</td>\n      <td>3.12</td>\n      <td>365</td>\n    </tr>\n  </tbody>\n</table>\n</div>"
     },
     "metadata": {}
    }
   ]
  },
  {
   "cell_type": "code",
   "metadata": {
    "tags": [],
    "cell_id": "00027-0b4458e4-93ac-4e56-bb4f-5192cb1ffc17",
    "deepnote_to_be_reexecuted": false,
    "source_hash": "eb5ee024",
    "execution_start": 1635592813363,
    "execution_millis": 54,
    "deepnote_cell_type": "code"
   },
   "source": "df_ytest",
   "execution_count": null,
   "outputs": [
    {
     "output_type": "execute_result",
     "execution_count": 14,
     "data": {
      "application/vnd.deepnote.dataframe.v2+json": {
       "row_count": 45,
       "column_count": 1,
       "columns": [
        {
         "name": "Label",
         "dtype": "object",
         "stats": {
          "unique_count": 3,
          "nan_count": 0,
          "categories": [
           {
            "name": "Class 2",
            "count": 20
           },
           {
            "name": "Class 3",
            "count": 14
           },
           {
            "name": "Class 1",
            "count": 11
           }
          ]
         }
        },
        {
         "name": "_deepnote_index_column",
         "dtype": "int64"
        }
       ],
       "rows_top": [
        {
         "Label": "Class 2",
         "_deepnote_index_column": 127
        },
        {
         "Label": "Class 1",
         "_deepnote_index_column": 40
        },
        {
         "Label": "Class 3",
         "_deepnote_index_column": 135
        },
        {
         "Label": "Class 3",
         "_deepnote_index_column": 169
        },
        {
         "Label": "Class 2",
         "_deepnote_index_column": 108
        },
        {
         "Label": "Class 2",
         "_deepnote_index_column": 103
        },
        {
         "Label": "Class 1",
         "_deepnote_index_column": 38
        },
        {
         "Label": "Class 3",
         "_deepnote_index_column": 155
        },
        {
         "Label": "Class 2",
         "_deepnote_index_column": 82
        },
        {
         "Label": "Class 3",
         "_deepnote_index_column": 174
        },
        {
         "Label": "Class 3",
         "_deepnote_index_column": 175
        },
        {
         "Label": "Class 1",
         "_deepnote_index_column": 11
        },
        {
         "Label": "Class 1",
         "_deepnote_index_column": 14
        },
        {
         "Label": "Class 3",
         "_deepnote_index_column": 148
        },
        {
         "Label": "Class 2",
         "_deepnote_index_column": 111
        },
        {
         "Label": "Class 3",
         "_deepnote_index_column": 147
        },
        {
         "Label": "Class 1",
         "_deepnote_index_column": 31
        },
        {
         "Label": "Class 2",
         "_deepnote_index_column": 61
        },
        {
         "Label": "Class 1",
         "_deepnote_index_column": 45
        },
        {
         "Label": "Class 1",
         "_deepnote_index_column": 42
        },
        {
         "Label": "Class 2",
         "_deepnote_index_column": 125
        },
        {
         "Label": "Class 3",
         "_deepnote_index_column": 163
        },
        {
         "Label": "Class 3",
         "_deepnote_index_column": 164
        },
        {
         "Label": "Class 1",
         "_deepnote_index_column": 41
        },
        {
         "Label": "Class 2",
         "_deepnote_index_column": 72
        },
        {
         "Label": "Class 2",
         "_deepnote_index_column": 110
        },
        {
         "Label": "Class 1",
         "_deepnote_index_column": 35
        },
        {
         "Label": "Class 2",
         "_deepnote_index_column": 92
        },
        {
         "Label": "Class 1",
         "_deepnote_index_column": 33
        },
        {
         "Label": "Class 2",
         "_deepnote_index_column": 87
        },
        {
         "Label": "Class 3",
         "_deepnote_index_column": 138
        },
        {
         "Label": "Class 3",
         "_deepnote_index_column": 153
        },
        {
         "Label": "Class 3",
         "_deepnote_index_column": 158
        },
        {
         "Label": "Class 2",
         "_deepnote_index_column": 105
        },
        {
         "Label": "Class 3",
         "_deepnote_index_column": 131
        },
        {
         "Label": "Class 2",
         "_deepnote_index_column": 101
        },
        {
         "Label": "Class 1",
         "_deepnote_index_column": 50
        },
        {
         "Label": "Class 2",
         "_deepnote_index_column": 71
        },
        {
         "Label": "Class 2",
         "_deepnote_index_column": 97
        },
        {
         "Label": "Class 2",
         "_deepnote_index_column": 81
        },
        {
         "Label": "Class 2",
         "_deepnote_index_column": 114
        },
        {
         "Label": "Class 2",
         "_deepnote_index_column": 85
        },
        {
         "Label": "Class 2",
         "_deepnote_index_column": 64
        },
        {
         "Label": "Class 3",
         "_deepnote_index_column": 146
        },
        {
         "Label": "Class 2",
         "_deepnote_index_column": 122
        }
       ],
       "rows_bottom": null
      },
      "text/plain": "       Label\n127  Class 2\n40   Class 1\n135  Class 3\n169  Class 3\n108  Class 2\n103  Class 2\n38   Class 1\n155  Class 3\n82   Class 2\n174  Class 3\n175  Class 3\n11   Class 1\n14   Class 1\n148  Class 3\n111  Class 2\n147  Class 3\n31   Class 1\n61   Class 2\n45   Class 1\n42   Class 1\n125  Class 2\n163  Class 3\n164  Class 3\n41   Class 1\n72   Class 2\n110  Class 2\n35   Class 1\n92   Class 2\n33   Class 1\n87   Class 2\n138  Class 3\n153  Class 3\n158  Class 3\n105  Class 2\n131  Class 3\n101  Class 2\n50   Class 1\n71   Class 2\n97   Class 2\n81   Class 2\n114  Class 2\n85   Class 2\n64   Class 2\n146  Class 3\n122  Class 2",
      "text/html": "<div>\n<style scoped>\n    .dataframe tbody tr th:only-of-type {\n        vertical-align: middle;\n    }\n\n    .dataframe tbody tr th {\n        vertical-align: top;\n    }\n\n    .dataframe thead th {\n        text-align: right;\n    }\n</style>\n<table border=\"1\" class=\"dataframe\">\n  <thead>\n    <tr style=\"text-align: right;\">\n      <th></th>\n      <th>Label</th>\n    </tr>\n  </thead>\n  <tbody>\n    <tr>\n      <th>127</th>\n      <td>Class 2</td>\n    </tr>\n    <tr>\n      <th>40</th>\n      <td>Class 1</td>\n    </tr>\n    <tr>\n      <th>135</th>\n      <td>Class 3</td>\n    </tr>\n    <tr>\n      <th>169</th>\n      <td>Class 3</td>\n    </tr>\n    <tr>\n      <th>108</th>\n      <td>Class 2</td>\n    </tr>\n    <tr>\n      <th>103</th>\n      <td>Class 2</td>\n    </tr>\n    <tr>\n      <th>38</th>\n      <td>Class 1</td>\n    </tr>\n    <tr>\n      <th>155</th>\n      <td>Class 3</td>\n    </tr>\n    <tr>\n      <th>82</th>\n      <td>Class 2</td>\n    </tr>\n    <tr>\n      <th>174</th>\n      <td>Class 3</td>\n    </tr>\n    <tr>\n      <th>175</th>\n      <td>Class 3</td>\n    </tr>\n    <tr>\n      <th>11</th>\n      <td>Class 1</td>\n    </tr>\n    <tr>\n      <th>14</th>\n      <td>Class 1</td>\n    </tr>\n    <tr>\n      <th>148</th>\n      <td>Class 3</td>\n    </tr>\n    <tr>\n      <th>111</th>\n      <td>Class 2</td>\n    </tr>\n    <tr>\n      <th>147</th>\n      <td>Class 3</td>\n    </tr>\n    <tr>\n      <th>31</th>\n      <td>Class 1</td>\n    </tr>\n    <tr>\n      <th>61</th>\n      <td>Class 2</td>\n    </tr>\n    <tr>\n      <th>45</th>\n      <td>Class 1</td>\n    </tr>\n    <tr>\n      <th>42</th>\n      <td>Class 1</td>\n    </tr>\n    <tr>\n      <th>125</th>\n      <td>Class 2</td>\n    </tr>\n    <tr>\n      <th>163</th>\n      <td>Class 3</td>\n    </tr>\n    <tr>\n      <th>164</th>\n      <td>Class 3</td>\n    </tr>\n    <tr>\n      <th>41</th>\n      <td>Class 1</td>\n    </tr>\n    <tr>\n      <th>72</th>\n      <td>Class 2</td>\n    </tr>\n    <tr>\n      <th>110</th>\n      <td>Class 2</td>\n    </tr>\n    <tr>\n      <th>35</th>\n      <td>Class 1</td>\n    </tr>\n    <tr>\n      <th>92</th>\n      <td>Class 2</td>\n    </tr>\n    <tr>\n      <th>33</th>\n      <td>Class 1</td>\n    </tr>\n    <tr>\n      <th>87</th>\n      <td>Class 2</td>\n    </tr>\n    <tr>\n      <th>138</th>\n      <td>Class 3</td>\n    </tr>\n    <tr>\n      <th>153</th>\n      <td>Class 3</td>\n    </tr>\n    <tr>\n      <th>158</th>\n      <td>Class 3</td>\n    </tr>\n    <tr>\n      <th>105</th>\n      <td>Class 2</td>\n    </tr>\n    <tr>\n      <th>131</th>\n      <td>Class 3</td>\n    </tr>\n    <tr>\n      <th>101</th>\n      <td>Class 2</td>\n    </tr>\n    <tr>\n      <th>50</th>\n      <td>Class 1</td>\n    </tr>\n    <tr>\n      <th>71</th>\n      <td>Class 2</td>\n    </tr>\n    <tr>\n      <th>97</th>\n      <td>Class 2</td>\n    </tr>\n    <tr>\n      <th>81</th>\n      <td>Class 2</td>\n    </tr>\n    <tr>\n      <th>114</th>\n      <td>Class 2</td>\n    </tr>\n    <tr>\n      <th>85</th>\n      <td>Class 2</td>\n    </tr>\n    <tr>\n      <th>64</th>\n      <td>Class 2</td>\n    </tr>\n    <tr>\n      <th>146</th>\n      <td>Class 3</td>\n    </tr>\n    <tr>\n      <th>122</th>\n      <td>Class 2</td>\n    </tr>\n  </tbody>\n</table>\n</div>"
     },
     "metadata": {}
    }
   ]
  },
  {
   "cell_type": "markdown",
   "source": "# 6. Question 4: Make a benchmark of all the Machine Learning models that you list in Question 2. (50%)",
   "metadata": {
    "formattedRanges": [],
    "tags": [],
    "is_collapsed": false,
    "cell_id": "00018-91f81206-364a-4b59-9a88-92f8050107da",
    "deepnote_cell_type": "text-cell-h1"
   }
  },
  {
   "cell_type": "markdown",
   "source": "1) What we are expecting is for you to build all the possible models and to make a benchmark of the results. \n2) At the end of this benchmark, we are expecting that you select and tell us what is the best model.\n3) We are also expecting that you save this model",
   "metadata": {
    "tags": [],
    "cell_id": "00019-1dfe0152-27e7-4d52-92ff-e79260114905",
    "deepnote_cell_type": "markdown"
   }
  },
  {
   "cell_type": "code",
   "metadata": {
    "tags": [],
    "cell_id": "00018-ed69517e-075e-478a-8cd0-9401c22b0441",
    "allow_embed": false,
    "deepnote_to_be_reexecuted": false,
    "source_hash": "8abb4fad",
    "execution_start": 1635592819308,
    "execution_millis": 466,
    "deepnote_cell_type": "code"
   },
   "source": "# Write your code here\n#import all needed model library\nfrom sklearn.neighbors import KNeighborsClassifier\nfrom sklearn.tree import DecisionTreeClassifier\nfrom sklearn.ensemble import RandomForestClassifier\nfrom sklearn.linear_model import LogisticRegression\nfrom sklearn import metrics\n",
   "execution_count": null,
   "outputs": []
  },
  {
   "cell_type": "code",
   "metadata": {
    "tags": [],
    "cell_id": "00036-219b82fc-eff5-4a74-8293-a387e92d308a",
    "deepnote_to_be_reexecuted": false,
    "source_hash": "62b091ff",
    "execution_start": 1635592820495,
    "execution_millis": 37,
    "deepnote_cell_type": "code"
   },
   "source": "#KNeighborsClassifier\n#Create KNN Classifier, neighbor = 5\nknn = KNeighborsClassifier(n_neighbors=5)\n#Train the model using the training sets\nknn.fit(df_Xtrain, df_ytrain)\n#Predict the response for test dataset\ny_predknn = knn.predict(df_Xtest)\n##measure the performance\nprint (\"f1 score KNN\",metrics.f1_score(df_ytest,y_predknn,average=None))",
   "execution_count": null,
   "outputs": [
    {
     "name": "stdout",
     "text": "f1 score KNN [0.95652174 0.72727273 0.43478261]\n/shared-libs/python3.7/py/lib/python3.7/site-packages/sklearn/neighbors/_classification.py:198: DataConversionWarning: A column-vector y was passed when a 1d array was expected. Please change the shape of y to (n_samples,), for example using ravel().\n  return self._fit(X, y)\n/shared-libs/python3.7/py/lib/python3.7/site-packages/sklearn/base.py:442: UserWarning: X does not have valid feature names, but KNeighborsClassifier was fitted with feature names\n  \"X does not have valid feature names, but\"\n",
     "output_type": "stream"
    }
   ]
  },
  {
   "cell_type": "code",
   "metadata": {
    "tags": [],
    "cell_id": "00036-add652b9-3873-4eb0-92ce-93955f96c6d8",
    "deepnote_to_be_reexecuted": false,
    "source_hash": "24fa9b7a",
    "execution_start": 1635592821439,
    "execution_millis": 217,
    "deepnote_cell_type": "code"
   },
   "source": "#Create KNN Classifier, neighbor = 7\nknn = KNeighborsClassifier(n_neighbors=7)\n#Train the model using the training sets\nknn.fit(df_Xtrain, df_ytrain)\n#Predict the response for test dataset\ny_predknn = knn.predict(df_Xtest)\n##measure the performance\nprint (\"f1 score KNN\",metrics.f1_score(df_ytest,y_predknn,average=None))",
   "execution_count": null,
   "outputs": [
    {
     "name": "stdout",
     "text": "f1 score KNN [0.91666667 0.71111111 0.28571429]\n/shared-libs/python3.7/py/lib/python3.7/site-packages/sklearn/neighbors/_classification.py:198: DataConversionWarning: A column-vector y was passed when a 1d array was expected. Please change the shape of y to (n_samples,), for example using ravel().\n  return self._fit(X, y)\n/shared-libs/python3.7/py/lib/python3.7/site-packages/sklearn/base.py:442: UserWarning: X does not have valid feature names, but KNeighborsClassifier was fitted with feature names\n  \"X does not have valid feature names, but\"\n",
     "output_type": "stream"
    }
   ]
  },
  {
   "cell_type": "code",
   "metadata": {
    "tags": [],
    "cell_id": "00035-09762e93-6964-42ea-9da3-baef007d1889",
    "deepnote_to_be_reexecuted": false,
    "source_hash": "1b1e0add",
    "execution_start": 1635592822429,
    "execution_millis": 37,
    "deepnote_cell_type": "code"
   },
   "source": "#Decision Tree Classifier\n# Create Decision Tree classifer object\nclfDT = DecisionTreeClassifier()\n# Train Decision Tree Classifer\nDT = clfDT.fit(df_Xtrain,df_ytrain)\n#Predict the response for test dataset\ny_predDT = clfDT.predict(df_Xtest)\n#measure the performance\nprint (\"f1 score DT\",metrics.f1_score(df_ytest,y_predDT,average=None))",
   "execution_count": null,
   "outputs": [
    {
     "name": "stdout",
     "text": "f1 score DT [1.         0.94736842 0.93333333]\n",
     "output_type": "stream"
    }
   ]
  },
  {
   "cell_type": "code",
   "metadata": {
    "tags": [],
    "cell_id": "00036-107cd167-bae5-4f78-bed3-c0bf12fce0b3",
    "deepnote_to_be_reexecuted": false,
    "source_hash": "462b0290",
    "execution_start": 1635592824210,
    "execution_millis": 489,
    "deepnote_cell_type": "code"
   },
   "source": "#Create a Random Forest Classifier\nclfRF=RandomForestClassifier(n_estimators=100)\n#Train the model using the training sets y_pred=clf.predict(X_test)\nclfRF.fit(df_Xtrain,df_ytrain)\ny_predRF=clfRF.predict(df_Xtest)\n#measure the performance\nprint (\"f1 score RF\",metrics.f1_score(df_ytest,y_predRF,average=None))",
   "execution_count": null,
   "outputs": [
    {
     "name": "stderr",
     "text": "/shared-libs/python3.7/py-core/lib/python3.7/site-packages/ipykernel_launcher.py:4: DataConversionWarning: A column-vector y was passed when a 1d array was expected. Please change the shape of y to (n_samples,), for example using ravel().\n  after removing the cwd from sys.path.\nf1 score RF [1.         0.97435897 0.96551724]\n",
     "output_type": "stream"
    }
   ]
  },
  {
   "cell_type": "code",
   "metadata": {
    "tags": [],
    "cell_id": "00035-684f3372-1e91-4acc-a175-62b9dcf25041",
    "deepnote_to_be_reexecuted": false,
    "source_hash": "632d7ce6",
    "execution_start": 1635592826754,
    "execution_millis": 2061,
    "deepnote_cell_type": "code"
   },
   "source": "#logistic Regression\nclfLR = sk.linear_model.LogisticRegression(max_iter=10000)\n#Train the model using the training sets y_pred=clf.predict(X_test)\nclfLR.fit(df_Xtrain,df_ytrain)\ny_predLR = clfLR.predict(df_Xtest)\n#measure the performance\nprint (\"f1 score LR\",metrics.f1_score(df_ytest,y_predLR,average=None))",
   "execution_count": null,
   "outputs": [
    {
     "name": "stderr",
     "text": "/shared-libs/python3.7/py/lib/python3.7/site-packages/sklearn/utils/validation.py:985: DataConversionWarning: A column-vector y was passed when a 1d array was expected. Please change the shape of y to (n_samples, ), for example using ravel().\n  y = column_or_1d(y, warn=True)\nf1 score LR [1.         0.97435897 0.96551724]\n",
     "output_type": "stream"
    }
   ]
  },
  {
   "cell_type": "code",
   "metadata": {
    "tags": [],
    "cell_id": "00036-bbd98aab-438c-4359-9392-f8e6ccd1f637",
    "deepnote_to_be_reexecuted": false,
    "source_hash": "912214ef",
    "execution_start": 1635592828823,
    "execution_millis": 9,
    "owner_user_id": "81d5945e-fdb7-4510-8c80-e2b8d4ac63f7",
    "deepnote_cell_type": "code"
   },
   "source": "#From the F scores result, we believe the random forest classifier produces the best result,\n#which has the highest F score.",
   "execution_count": null,
   "outputs": []
  },
  {
   "cell_type": "code",
   "metadata": {
    "tags": [],
    "cell_id": "00037-9a3e0d31-fadf-4267-a5b1-9d4231351c38",
    "deepnote_to_be_reexecuted": false,
    "source_hash": "1ca80249",
    "execution_start": 1635593147917,
    "execution_millis": 224,
    "deepnote_cell_type": "code",
    "deepnote_output_heights": [
     21.1875
    ]
   },
   "source": "#Saving the model (random forest classifier)\nimport joblib\n# Save the model as a pickle in a file\njoblib.dump(clfRF, \"model.pkl\")",
   "execution_count": null,
   "outputs": [
    {
     "output_type": "execute_result",
     "execution_count": 25,
     "data": {
      "text/plain": "['model.pkl']"
     },
     "metadata": {}
    }
   ]
  },
  {
   "cell_type": "markdown",
   "source": "<a style='text-decoration:none;line-height:16px;display:flex;color:#5B5B62;padding:10px;justify-content:end;' href='https://deepnote.com?utm_source=created-in-deepnote-cell&projectId=41f8c056-aaa5-45c5-bdd6-bea18616c31b' target=\"_blank\">\n<img alt='Created in deepnote.com' style='display:inline;max-height:16px;margin:0px;margin-right:7.5px;' src='data:image/svg+xml;base64,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' > </img>\nCreated in <span style='font-weight:600;margin-left:4px;'>Deepnote</span></a>",
   "metadata": {
    "tags": [],
    "created_in_deepnote_cell": true,
    "deepnote_cell_type": "markdown"
   }
  }
 ],
 "nbformat": 4,
 "nbformat_minor": 2,
 "metadata": {
  "orig_nbformat": 2,
  "deepnote": {
   "is_reactive": false
  },
  "deepnote_notebook_id": "60d607a6-5791-4c0d-9f1a-59e82495d93b",
  "deepnote_execution_queue": []
 }
}